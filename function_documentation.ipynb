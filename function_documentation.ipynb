{
  "cells": [
    {
      "cell_type": "markdown",
      "metadata": {
        "id": "QBZVPYVIQ5q5"
      },
      "source": [
        "<img src=\"https://d24cdstip7q8pz.cloudfront.net/t/ineuron1/content/common/images/final%20logo.png\" height=60 alt-text=\"iNeuron.ai logo\">"
      ]
    },
    {
      "cell_type": "markdown",
      "metadata": {
        "id": "5N70o92H2fDd"
      },
      "source": [
        "- What Is A Function ?\n",
        "\n",
        "- Function V/s Method\n",
        "\n",
        "- Steps Required For Developing User Defined Function and Calling that Function\n",
        "\n",
        "- Returning Values From Function\n",
        "\n",
        "- Arguments V/s Parameters\n",
        "\n",
        "- Types Of Arguments\n",
        "\n",
        "- Variable Scope\n",
        "\n",
        "- Local Scope\n",
        "\n",
        "- Global Scope\n",
        "\n",
        "- Argument Passing\n",
        "\n",
        "- Anonymous Functions OR Lambda Function\n",
        "\n",
        "- The map( ) Function\n",
        "\n",
        "- The filter( ) Function\n",
        "\n",
        "- Using map( ) and filter( ) with Lambda Expressions\n"
      ]
    },
    {
      "cell_type": "markdown",
      "metadata": {
        "id": "vT4GIszkI4_H"
      },
      "source": [
        "## 07 Functions\n",
        "\n",
        "- **Definition**: Function are nothing but a block of code which performs a specific task and can be called again and again as per requirement in the code.\n",
        "- A generic way to write a simple function is shown below-\n",
        "```python\n",
        "def function_name():\n",
        "    # function body starts\n",
        "    pass\n",
        "    # function body ends\n",
        "# calling function in the code -\n",
        "function_name() \n",
        "```\n",
        "\n",
        "- **DRY**: It stands for **D**o not **R**epeat **Y**ourself. It means that a good generally should not contain repeated blocks of code. So if you observe in your code repeatition of certain lines of code then you can also make it a function and call as per your requirement. Let's see an example below-"
      ]
    },
    {
      "cell_type": "markdown",
      "metadata": {
        "id": "8fvQMOEhhRxA"
      },
      "source": [
        "### 7.1 A simple function definition\n",
        "**EXAMPLE:**"
      ]
    },
    {
      "cell_type": "code",
      "execution_count": null,
      "metadata": {
        "id": "D3UIkgvfIcnc"
      },
      "outputs": [],
      "source": [
        "def function_name():\n",
        "    # function body starts\n",
        "    pass\n",
        "    # function body ends\n",
        "\n",
        "# calling function in the code -\n",
        "function_name() "
      ]
    },
    {
      "cell_type": "markdown",
      "metadata": {
        "id": "YKENVJ23jQBW"
      },
      "source": [
        "**EXAMPLE:**"
      ]
    },
    {
      "cell_type": "code",
      "execution_count": null,
      "metadata": {
        "id": "_fn4N0q6ilXw"
      },
      "outputs": [],
      "source": [
        "def greetings():\n",
        "    print(\"Hi there from iNeuron\")\n",
        "\n",
        "# calling greeting function in the code -\n",
        "greetings() "
      ]
    },
    {
      "cell_type": "markdown",
      "metadata": {
        "id": "5dCMlQemuQgP"
      },
      "source": [
        "- We can also pass some values to the function. These values are known as arguments.A function can have following kind of arguments -\n",
        "    - 1. Key word arguments: Here we define the name of arguments"
      ]
    },
    {
      "cell_type": "markdown",
      "metadata": {
        "id": "zVRSSqeRjcq3"
      },
      "source": [
        "**EXAMPLE**:\n",
        "Observe the below code from Expressions, Operators, and Precedence Chapter- "
      ]
    },
    {
      "cell_type": "code",
      "execution_count": null,
      "metadata": {
        "id": "ZD9AXQoJjN3K"
      },
      "outputs": [],
      "source": [
        "# Block One\n",
        "BIKE = True\n",
        "CAR = True\n",
        "TRAVEL_100_KM = BIKE or CAR\n",
        "\n",
        "print(f\"You have BIKE: {BIKE}\")\n",
        "print(f\"You have CAR: {CAR}\")\n",
        "print(f\"You can travel 100 KMs: {TRAVEL_100_KM}\\n\")\n",
        "\n",
        "\n",
        "# Block Two\n",
        "BIKE = True\n",
        "CAR = False\n",
        "TRAVEL_100_KM = BIKE or CAR\n",
        "\n",
        "print(f\"You have BIKE: {BIKE}\")\n",
        "print(f\"You have CAR: {CAR}\")\n",
        "print(f\"You can travel 100 KMs: {TRAVEL_100_KM}\\n\")\n",
        "\n",
        "# Block Three\n",
        "BIKE = False\n",
        "CAR = True\n",
        "TRAVEL_100_KM = BIKE or CAR\n",
        "\n",
        "print(f\"You have BIKE: {BIKE}\")\n",
        "print(f\"You have CAR: {CAR}\")\n",
        "print(f\"You can travel 100 KMs: {TRAVEL_100_KM}\\n\")\n",
        "\n",
        "# Block Four\n",
        "BIKE = False\n",
        "CAR = False\n",
        "TRAVEL_100_KM = BIKE or CAR\n",
        "\n",
        "print(f\"You have BIKE: {BIKE}\")\n",
        "print(f\"You have CAR: {CAR}\")\n",
        "print(f\"You can travel 100 KMs: {TRAVEL_100_KM}\\n\")"
      ]
    },
    {
      "cell_type": "markdown",
      "metadata": {
        "id": "gqaG1lkFvDal"
      },
      "source": [
        "**EXAMPLE**:\n",
        "So above codes are repetetive. Now lets observe the below code which will give the same results as shown above but in avery less line of code. -"
      ]
    },
    {
      "cell_type": "code",
      "execution_count": null,
      "metadata": {
        "id": "ZZc_2LFCvCQ4"
      },
      "outputs": [],
      "source": [
        "def travel_or_not(BIKE, CAR):\n",
        "    TRAVEL_100_KM = BIKE or CAR\n",
        "\n",
        "    print(f\"You have BIKE: {BIKE}\")\n",
        "    print(f\"You have CAR: {CAR}\")\n",
        "    print(f\"You can travel 100 KMs: {TRAVEL_100_KM}\\n\")\n",
        "\n",
        "travel_or_not(False, False)\n",
        "\n",
        "travel_or_not(False, True)\n",
        "\n",
        "travel_or_not(True, False)\n",
        "\n",
        "travel_or_not(True, True)\n"
      ]
    },
    {
      "cell_type": "markdown",
      "metadata": {
        "id": "OVLcxCoxv8Sk"
      },
      "source": [
        "**EXAMPLE**:\n",
        "Lets make it more concise using a for loop and remove the repetition-"
      ]
    },
    {
      "cell_type": "code",
      "execution_count": null,
      "metadata": {
        "id": "jT2_Zy-Kvt2N"
      },
      "outputs": [],
      "source": [
        "def travel_or_not(BIKE, CAR):\n",
        "    TRAVEL_100_KM = BIKE or CAR\n",
        "\n",
        "    print(f\"You have BIKE: {BIKE}\")\n",
        "    print(f\"You have CAR: {CAR}\")\n",
        "    print(f\"You can travel 100 KMs: {TRAVEL_100_KM}\\n\")\n",
        "    \n",
        "BIKE = [False, False, True, True]\n",
        "CAR = [False, True,False, True]\n",
        "\n",
        "for bike, car in zip(BIKE, CAR):\n",
        "    travel_or_not(bike, car)"
      ]
    },
    {
      "cell_type": "markdown",
      "metadata": {
        "id": "4If023q33yuz"
      },
      "source": [
        "### 7.2 Default Arguments\n",
        "\n",
        "**EXAMPLE**:\n",
        "Let's see a different varient of above code. You can also define a default value of the arguments which will be utilized when no argument is passed. as shown below -\n"
      ]
    },
    {
      "cell_type": "code",
      "execution_count": null,
      "metadata": {
        "id": "3UQLjrUdwf3R"
      },
      "outputs": [],
      "source": [
        "def travel_or_not(BIKE=True, CAR=False):\n",
        "    TRAVEL_100_KM = BIKE or CAR\n",
        "\n",
        "    print(f\"You have BIKE: {BIKE}\")\n",
        "    print(f\"You have CAR: {CAR}\")\n",
        "    print(f\"You can travel 100 KMs: {TRAVEL_100_KM}\\n\")\n",
        "\n",
        "\n",
        "travel_or_not()"
      ]
    },
    {
      "cell_type": "code",
      "execution_count": null,
      "metadata": {
        "id": "dw1mX_Z94jEW"
      },
      "outputs": [],
      "source": [
        "def travel_or_not(BIKE=True, CAR=False):\n",
        "    TRAVEL_100_KM = BIKE or CAR\n",
        "\n",
        "    print(f\"You have BIKE: {BIKE}\")\n",
        "    print(f\"You have CAR: {CAR}\")\n",
        "    print(f\"You can travel 100 KMs: {TRAVEL_100_KM}\\n\")\n",
        "\n",
        "\n",
        "travel_or_not(False, True) # overriding the default arguments value by passing our value"
      ]
    },
    {
      "cell_type": "markdown",
      "metadata": {
        "id": "cFcCwhWa46rk"
      },
      "source": [
        "**EXAMPLE**: \n",
        "Here ```None``` gets printed if we try to print the ouput of the given function because it is not returning any value. Its just printing ther results."
      ]
    },
    {
      "cell_type": "code",
      "execution_count": null,
      "metadata": {
        "id": "nPMWsQTu410Z"
      },
      "outputs": [],
      "source": [
        "result = travel_or_not(False, True)\n",
        "print(f\"\\nresults:-\\n{result}\")"
      ]
    },
    {
      "cell_type": "markdown",
      "metadata": {
        "id": "O1BzNPzw4Wf_"
      },
      "source": [
        "### 7.3 Return statement\n",
        "\n",
        "**EXAMPLE**:\n",
        "In some cases you'd like to return some value from a function. So for that we use a return keyword to return the results as show below-"
      ]
    },
    {
      "cell_type": "code",
      "execution_count": null,
      "metadata": {
        "id": "yO8X2hwM4K_E"
      },
      "outputs": [],
      "source": [
        "def travel_or_not(BIKE=True, CAR=False):\n",
        "    TRAVEL_100_KM = BIKE or CAR\n",
        "\n",
        "    print(f\"You have BIKE: {BIKE}\")\n",
        "    print(f\"You have CAR: {CAR}\")\n",
        "    return f\"You can travel 100 KMs: {TRAVEL_100_KM}\\n\"\n",
        "\n",
        "\n",
        "result = travel_or_not(False, True)\n",
        "print(f\"\\nresults:-\\n{result}\")"
      ]
    },
    {
      "cell_type": "markdown",
      "metadata": {
        "id": "49sCSt0a6FeZ"
      },
      "source": [
        "**EXAMPLE**:\n",
        "You can also return multiple values as show below -"
      ]
    },
    {
      "cell_type": "code",
      "execution_count": null,
      "metadata": {
        "id": "RKkSF4954fxV"
      },
      "outputs": [],
      "source": [
        "def travel_or_not(BIKE=True, CAR=False):\n",
        "    TRAVEL_100_KM = BIKE or CAR\n",
        "\n",
        "    return BIKE, CAR, TRAVEL_100_KM\n",
        "\n",
        "\n",
        "result1, result2, result3 = travel_or_not(False, True)\n",
        "print(f\"You have BIKE: {result1}\")\n",
        "print(f\"You have CAR: {result2}\")\n",
        "print(f\"You can travel 100 KMs: {result3}\\n\")"
      ]
    },
    {
      "cell_type": "markdown",
      "metadata": {
        "id": "LwhQ3ZkXbghp"
      },
      "source": [
        "### 7.4 Variable length args\n",
        "\n",
        "**EXAMPLE**:\n",
        "At some point there may be chance that you don't know how many args that you should pass. Lets check the example below -"
      ]
    },
    {
      "cell_type": "code",
      "execution_count": null,
      "metadata": {
        "id": "nm2ZWbb76wlF"
      },
      "outputs": [],
      "source": [
        "def branch_and_subjects_in_graduation(*args, branch):\n",
        "    print(f\"My branch was {branch}\")\n",
        "    return f\"I liked these subjects in graduation {args}\"\n",
        "\n",
        "results = branch_and_subjects_in_graduation(\"Digital Image Processing\", \"Microprocessor\", branch=\"Electronics engineering\")\n",
        "print(results)"
      ]
    },
    {
      "cell_type": "code",
      "execution_count": null,
      "metadata": {
        "id": "5aO5CDJy2fEF"
      },
      "outputs": [],
      "source": [
        "def test(*args):\n",
        "    print(args)\n",
        "test(10,20,30,40,50)"
      ]
    },
    {
      "cell_type": "code",
      "execution_count": null,
      "metadata": {
        "id": "NXXxJmi8cLUR"
      },
      "outputs": [],
      "source": [
        "def branch_and_subjects_in_graduation(*args, branch=\"Electronics engineering\"):\n",
        "    print(f\"My branch was {branch}\")\n",
        "    return f\"I liked these subjects in graduation {args}\"\n",
        "\n",
        "results = branch_and_subjects_in_graduation(\"Digital Image Processing\", \"Microprocessor\")\n",
        "print(results)"
      ]
    },
    {
      "cell_type": "markdown",
      "metadata": {
        "id": "Dh0d8gc9KEj2"
      },
      "source": [
        "### 7.5 Variable length keyword args\n",
        "\n",
        "**EXAMPLE**:\n",
        "Some times we need varying keyword arguments as shown below-"
      ]
    },
    {
      "cell_type": "code",
      "execution_count": null,
      "metadata": {
        "id": "-eAm8jZXd3NH"
      },
      "outputs": [],
      "source": [
        "def marks_in_subjects_of_semester(**kwargs):\n",
        "    print(kwargs)\n",
        "\n",
        "marks_in_subjects_of_semester(Digital_Image_Processing = 78, Microprocessor= 79, Signals_and_systems=83)"
      ]
    },
    {
      "cell_type": "code",
      "execution_count": null,
      "metadata": {
        "id": "5qySeMjk2fEG"
      },
      "outputs": [],
      "source": [
        "def test1(**kwargs):\n",
        "    print(kwargs)"
      ]
    },
    {
      "cell_type": "code",
      "execution_count": null,
      "metadata": {
        "id": "tv10YNp42fEG"
      },
      "outputs": [],
      "source": [
        "test1(a=10,b=20,c=30,d=40)"
      ]
    },
    {
      "cell_type": "code",
      "execution_count": null,
      "metadata": {
        "id": "O-Tw18_Q2fEH"
      },
      "outputs": [],
      "source": [
        "A=[]\n",
        "B=()\n"
      ]
    },
    {
      "cell_type": "code",
      "execution_count": null,
      "metadata": {
        "id": "U0Qp8F3TKxA8"
      },
      "outputs": [],
      "source": [
        "def marks_in_subjects_of_semester(**kwargs):\n",
        "    for subject, marks in kwargs.items():\n",
        "        print(f\"Score in {subject} = {marks}\")\n",
        "\n",
        "marks_in_subjects_of_semester(Digital_Image_Processing = 78, Microprocessor= 79, Signals_and_systems=83)"
      ]
    },
    {
      "cell_type": "markdown",
      "metadata": {
        "id": "zGhIjY4wLPdO"
      },
      "source": [
        "### 7.6 Functions inside functions -\n",
        "**EXAMPLE**:"
      ]
    },
    {
      "cell_type": "code",
      "execution_count": null,
      "metadata": {
        "id": "Gj8AiIstLDsd"
      },
      "outputs": [],
      "source": [
        "def marks_in_subjects_of_semester(**kwargs):\n",
        "    def total_marks(marks_list):\n",
        "        return sum(marks_list)\n",
        "    \n",
        "    marks_list = list()\n",
        "    for subject, marks in kwargs.items():\n",
        "        marks_list.append(marks)\n",
        "        print(f\"Score in {subject} = {marks}\")\n",
        "    \n",
        "    return total_marks(marks_list)\n",
        "\n",
        "results = marks_in_subjects_of_semester(Digital_Image_Processing = 78, Microprocessor= 79, Signals_and_systems=83)\n",
        "\n",
        "print(f\"\\ntotal marks obtained {results}\")"
      ]
    },
    {
      "cell_type": "markdown",
      "metadata": {
        "id": "1fPdPbr2arGm"
      },
      "source": [
        "### 7.7 Anonymous Function or Lambda Function\n",
        "\n",
        "**EXAMPLE**: Lets convert below example into a onliner or lambda function"
      ]
    },
    {
      "cell_type": "markdown",
      "metadata": {
        "id": "t0t-QK1KbIqB"
      },
      "source": [
        "```python\n",
        "def travel_or_not(BIKE=True, CAR=False):\n",
        "    TRAVEL_100_KM = BIKE or CAR\n",
        "\n",
        "    print(f\"You have BIKE: {BIKE}\")\n",
        "    print(f\"You have CAR: {CAR}\")\n",
        "    return f\"You can travel 100 KMs: {TRAVEL_100_KM}\\n\"\n",
        "\n",
        "\n",
        "result = travel_or_not(False, True)\n",
        "print(f\"\\nresults:-\\n{result}\")\n",
        "```"
      ]
    },
    {
      "cell_type": "code",
      "execution_count": null,
      "metadata": {
        "id": "H7NOHoK2O9Xl"
      },
      "outputs": [],
      "source": [
        "BIKE=True\n",
        "CAR=False\n",
        "\n",
        "result = lambda BIKE, CAR: f\"You can travel 100 KMs: {BIKE or CAR}\\n\"\n",
        "print(f\"\\nresults:-\\n{result(BIKE, CAR)}\")"
      ]
    },
    {
      "cell_type": "markdown",
      "metadata": {
        "id": "km5laIO9b85P"
      },
      "source": [
        "**EXAMPLE**\n",
        "Lets make a lambda function that returns power of an input no. It takes power and number as an input"
      ]
    },
    {
      "cell_type": "code",
      "execution_count": null,
      "metadata": {
        "id": "2OCQhMhwbuaT"
      },
      "outputs": [],
      "source": [
        "number = 5\n",
        "power = 3\n",
        "result = lambda number, power: number**power\n",
        "\n",
        "print(f\"{number} to the power of {power} is {result(number, power)}\")"
      ]
    },
    {
      "cell_type": "markdown",
      "metadata": {
        "id": "tW65_zyDc1Wg"
      },
      "source": [
        "### 7.8 Scope of variables\n",
        "* Variables defined inside the function are known as Local variable\n",
        "\n",
        "* Global varaibles can be accessed anywhere in the script unlike local variable who's scope is defined within the function only. \n",
        "\n",
        "**EXAMPLE**"
      ]
    },
    {
      "cell_type": "code",
      "execution_count": null,
      "metadata": {
        "id": "oRjEhhrack15"
      },
      "outputs": [],
      "source": [
        "result = 0 # outside the scope of function\n",
        "\n",
        "def divide(numerator, denominator):\n",
        "    result = numerator//denominator # result inside the scope of function\n",
        "    print(f\"result after division inside the function: {result}\")\n",
        "\n",
        "numerator = 625\n",
        "denominator = 5\n",
        "divide(numerator, denominator)\n",
        "\n",
        "print(f\"result after division outside the function: {result}\")"
      ]
    },
    {
      "cell_type": "markdown",
      "metadata": {
        "id": "_97TSpl0f-FO"
      },
      "source": [
        "### 7.9 Docstring\n",
        "\n",
        "```python\n",
        "def function():\n",
        "    \"\"\"\n",
        "    This is docstring of the function.\n",
        "    \"\"\"\n",
        "    pass\n",
        "```\n",
        "**EXAMPLE**"
      ]
    },
    {
      "cell_type": "code",
      "execution_count": null,
      "metadata": {
        "id": "Nx8xFCzHgLng"
      },
      "outputs": [],
      "source": [
        "def find_power(number, power):\n",
        "    \"\"\"This function returns the power of the number\n",
        "\n",
        "    Args:\n",
        "        number (int): insert any integer value\n",
        "        power (int): insert any integer value\n",
        "\n",
        "    Returns:\n",
        "        integer: power of number\n",
        "    \"\"\"\n",
        "    return number**power\n",
        "\n",
        "number = 5\n",
        "power = 3\n",
        "result = find_power(number, power)\n",
        "\n",
        "print(f\"{number} to the power of {power} is {result}\")"
      ]
    },
    {
      "cell_type": "code",
      "execution_count": null,
      "metadata": {
        "id": "MfrP3JG4heUu"
      },
      "outputs": [],
      "source": [
        "# This prints the docstring.\n",
        "# Its very good practice to write the docstring of very important function\n",
        "# It imroves code readabilty\n",
        "help(find_power)"
      ]
    },
    {
      "cell_type": "markdown",
      "metadata": {
        "id": "Kuan7P_-2fEM"
      },
      "source": [
        "FUNCTIONS\n",
        "\n",
        "## ----------------------------------------------------------------------"
      ]
    },
    {
      "cell_type": "markdown",
      "metadata": {
        "id": "NlBKe3GI2fEM"
      },
      "source": [
        "code re-usability. "
      ]
    },
    {
      "cell_type": "markdown",
      "metadata": {
        "id": "tFPvH1uW2fEN"
      },
      "source": [
        "To create and use a function we have to take 2 steps:\n",
        "\n",
        "\n",
        "Function Definition: Creating or writing the body of a function is called defining it. It contains the set of statements we want to run , when the function execute.\n",
        "\n",
        "Function Call: A function never runs automatically . So to execute it’s statements we must call it\n"
      ]
    },
    {
      "cell_type": "code",
      "execution_count": null,
      "metadata": {
        "id": "Qbn3ksR82fEN"
      },
      "outputs": [],
      "source": [
        "def function_name(param1,param2):\n",
        "    statement(s)\n"
      ]
    },
    {
      "cell_type": "markdown",
      "metadata": {
        "id": "EIUG4HSa2fEO"
      },
      "source": [
        "### About Return Statement"
      ]
    },
    {
      "cell_type": "markdown",
      "metadata": {
        "id": "w2fNNMZj2fEO"
      },
      "source": [
        "- Return value\n",
        "\n",
        "- Return multiple value\n",
        "\n",
        "- it will stop the execution from that line itself\n"
      ]
    },
    {
      "cell_type": "code",
      "execution_count": null,
      "metadata": {
        "id": "ZYI7QwAj2fEO"
      },
      "outputs": [],
      "source": [
        "def add(x,y):\n",
        "    a=x\n",
        "    b=y\n",
        "    c=a+b\n",
        "    #print(c)\n",
        "    mul=x*y\n",
        "    print(mul)\n",
        "    return c\n",
        "    "
      ]
    },
    {
      "cell_type": "code",
      "execution_count": null,
      "metadata": {
        "id": "W2g93XfI2fEP"
      },
      "outputs": [],
      "source": [
        "add(10,20)"
      ]
    },
    {
      "cell_type": "markdown",
      "metadata": {
        "id": "BIJkbQwK2fEP"
      },
      "source": [
        "#### Parameter vs Argument"
      ]
    },
    {
      "cell_type": "markdown",
      "metadata": {
        "id": "CyXk7tJ52fEP"
      },
      "source": [
        "In Python , a function can have 4 types of arguments:\n",
        "\n",
        "Positional Argument\n",
        "\n",
        "Keyword Argument\n",
        "\n",
        "Default Argument\n",
        "\n",
        "Variable Length Argument\n"
      ]
    },
    {
      "cell_type": "markdown",
      "metadata": {
        "id": "d5JMD1772fEP"
      },
      "source": [
        "if number of argument is not matching with number of parameter then we will get a type error."
      ]
    },
    {
      "cell_type": "markdown",
      "metadata": {
        "id": "Lzc2Pkxq2fEQ"
      },
      "source": [
        "#### Positional Argument"
      ]
    },
    {
      "cell_type": "code",
      "execution_count": null,
      "metadata": {
        "id": "0pExxD6W2fEQ"
      },
      "outputs": [],
      "source": [
        "def attach(s1,s2):\n",
        "    s3=s1+s2\n",
        "    print(\"Joined String is:\",s3)\n",
        "\n",
        "\n"
      ]
    },
    {
      "cell_type": "code",
      "execution_count": null,
      "metadata": {
        "id": "pIaLqXnz2fEQ"
      },
      "outputs": [],
      "source": [
        "attach(\"Good\",\"Evening\")"
      ]
    },
    {
      "cell_type": "code",
      "execution_count": null,
      "metadata": {
        "id": "HcIW8o032fER"
      },
      "outputs": [],
      "source": [
        "def grocery(name,price):\n",
        "    print(\"Item is\",name,\"It's price is\",price)\n",
        "\n",
        "\n"
      ]
    },
    {
      "cell_type": "code",
      "execution_count": null,
      "metadata": {
        "id": "5vMp4hH22fER"
      },
      "outputs": [],
      "source": [
        "grocery(\"Bread\",20)\n"
      ]
    },
    {
      "cell_type": "code",
      "execution_count": null,
      "metadata": {
        "id": "2Kgpj9AM2fER"
      },
      "outputs": [],
      "source": [
        "grocery(150,\"Butter\")"
      ]
    },
    {
      "cell_type": "markdown",
      "metadata": {
        "id": "fmyOtRTq2fES"
      },
      "source": [
        "#### Keyword Argument"
      ]
    },
    {
      "cell_type": "code",
      "execution_count": null,
      "metadata": {
        "id": "U7d3XFJG2fES"
      },
      "outputs": [],
      "source": [
        "def grocery(name,price):\n",
        "    print(\"Item is\",name,\"It's price is\",price)\n",
        "\n"
      ]
    },
    {
      "cell_type": "code",
      "execution_count": null,
      "metadata": {
        "id": "B2Eyqshu2fET"
      },
      "outputs": [],
      "source": [
        "grocery('bread',200)"
      ]
    },
    {
      "cell_type": "code",
      "execution_count": null,
      "metadata": {
        "id": "UVvy3ooE2fEU"
      },
      "outputs": [],
      "source": [
        "grocery(200,'bread')"
      ]
    },
    {
      "cell_type": "code",
      "execution_count": null,
      "metadata": {
        "id": "rH82uaim2fEU"
      },
      "outputs": [],
      "source": [
        "grocery(name=\"Bread\",price=20)\n",
        "\n"
      ]
    },
    {
      "cell_type": "code",
      "execution_count": null,
      "metadata": {
        "id": "gpv0bpBx2fEV"
      },
      "outputs": [],
      "source": [
        "grocery(price=150,name=\"Butter\")"
      ]
    },
    {
      "cell_type": "code",
      "execution_count": null,
      "metadata": {
        "id": "tOp4mTc32fEV"
      },
      "outputs": [],
      "source": [
        "### A positional argument can never follow a keyword argument i.e. the keyword argument should always appear after positional argument\n",
        "\n",
        "###For example:\n",
        "\n",
        "\n"
      ]
    },
    {
      "cell_type": "code",
      "execution_count": null,
      "metadata": {
        "id": "ulxHEbwp2fEV"
      },
      "outputs": [],
      "source": [
        "def display(num1,num2):\n",
        "    # some code\n",
        "    pass\n"
      ]
    },
    {
      "cell_type": "code",
      "execution_count": null,
      "metadata": {
        "id": "t2phDuNJ2fEV"
      },
      "outputs": [],
      "source": [
        "display(num1=10,15)"
      ]
    },
    {
      "cell_type": "code",
      "execution_count": null,
      "metadata": {
        "id": "5iv7jxzN2fEW"
      },
      "outputs": [],
      "source": [
        "display(15,num1=10)"
      ]
    },
    {
      "cell_type": "code",
      "execution_count": null,
      "metadata": {
        "id": "CEo8joEJ2fEW"
      },
      "outputs": [],
      "source": [
        "display(15,num2=10)"
      ]
    },
    {
      "cell_type": "code",
      "execution_count": null,
      "metadata": {
        "id": "52-xCqrF2fEW"
      },
      "outputs": [],
      "source": [
        "def display(10,num2=15):\n",
        "    pass"
      ]
    },
    {
      "cell_type": "code",
      "execution_count": null,
      "metadata": {
        "id": "ZlPniEjt2fEX"
      },
      "outputs": [],
      "source": [
        ""
      ]
    },
    {
      "cell_type": "code",
      "execution_count": null,
      "metadata": {
        "id": "PjRhprj42fEX"
      },
      "outputs": [],
      "source": [
        "Now if we call the above function as:\n",
        "\n",
        "\n",
        "\n",
        "Then it will be correct. But if we call it as:\n",
        "\n",
        "\n",
        "\n",
        "Then it will be a Syntax Error"
      ]
    },
    {
      "cell_type": "markdown",
      "metadata": {
        "id": "7Wz9svdr2fEX"
      },
      "source": [
        "### Default Argument"
      ]
    },
    {
      "cell_type": "markdown",
      "metadata": {
        "id": "K6P5vGbH2fEX"
      },
      "source": [
        "For some functions, we may want to make some parameters optional and use default values in case the user does not want to provide values for them. \n",
        "\n",
        "This is done with the help of default argument values. \n",
        "\n",
        "We can specify default argument values for parameters by appending to the parameter name in the function definition the assignment operator (=) followed by the default value.\n",
        "\n"
      ]
    },
    {
      "cell_type": "markdown",
      "metadata": {
        "id": "_lNYgGQD2fEY"
      },
      "source": [
        "#Syntax:\n",
        "def function_name(paramname1=value,paramname2=value):\n",
        "    # function body\n",
        "    pass\n"
      ]
    },
    {
      "cell_type": "code",
      "execution_count": null,
      "metadata": {
        "id": "txzJGJoU2fEY"
      },
      "outputs": [],
      "source": [
        "def greet(name,msg=\"Good Morning\"):\n",
        "    print(\"Hello\",name,msg)"
      ]
    },
    {
      "cell_type": "code",
      "execution_count": null,
      "metadata": {
        "id": "cUqBbxx02fEY"
      },
      "outputs": [],
      "source": [
        "greet(\"Sunny\")"
      ]
    },
    {
      "cell_type": "code",
      "execution_count": null,
      "metadata": {
        "id": "BDwRlwtS2fEZ"
      },
      "outputs": [],
      "source": [
        "greet(\"sunny\",\"How are you?\")\n"
      ]
    },
    {
      "cell_type": "markdown",
      "metadata": {
        "id": "MJKApkph2fEZ"
      },
      "source": [
        "A function can have any number of default arguments but t once we have a default argument, all the arguments to it’s right must also have default values.\n",
        "\n",
        "\n",
        "This means to say, non-default arguments cannot follow default arguments.\n"
      ]
    },
    {
      "cell_type": "code",
      "execution_count": null,
      "metadata": {
        "id": "hsGGU6Va2fEZ"
      },
      "outputs": [],
      "source": [
        "\n",
        "def greet(msg = \"Good morning!\", name):\n",
        "    pass"
      ]
    },
    {
      "cell_type": "code",
      "execution_count": null,
      "metadata": {
        "id": "zjTwmlvH2fEa"
      },
      "outputs": [],
      "source": [
        "For example:  if we had defined the function header above as:\n",
        "\n",
        "def greet(msg = \"Good morning!\", name):\n",
        "\n",
        "Then we would have got the following SyntaxError\n"
      ]
    },
    {
      "cell_type": "code",
      "execution_count": null,
      "metadata": {
        "id": "M39nmKi72fEa"
      },
      "outputs": [],
      "source": [
        "def show(a=10,b=20,c=30):\n",
        "    print(a,b,c)\n"
      ]
    },
    {
      "cell_type": "markdown",
      "metadata": {
        "id": "Ftw11HgW2fEa"
      },
      "source": [
        "### Excercise\n",
        "\n",
        "Write a function called cal_area( ) using default argument concept which accepts radius and pi as arguments and calculates and displays area of the Circle. The value of pi should be used as default argument and value of radius should be accepted from the user\n"
      ]
    },
    {
      "cell_type": "markdown",
      "metadata": {
        "id": "EAqL1xLM2fEb"
      },
      "source": [
        "### Function or Method Overloading\n"
      ]
    },
    {
      "cell_type": "markdown",
      "metadata": {
        "id": "WO4KA4IB2fEb"
      },
      "source": [
        "Method Overloading is an example of Compile time polymorphism.In this, more than one method of the same class shares the same method name having different parameters.If a class has multiple methods having same name but different in parameters, it is known as Method Overloading.\n",
        "\n",
        "Note: Python does not support method overloading. We may overload the methods but can only use the latest defined method."
      ]
    },
    {
      "cell_type": "code",
      "execution_count": null,
      "metadata": {
        "id": "3AoLBty92fEb"
      },
      "outputs": [],
      "source": [
        "def addnos(a,b):\n",
        "    c=a+b\n",
        "    return c\n"
      ]
    },
    {
      "cell_type": "code",
      "execution_count": null,
      "metadata": {
        "id": "_1i874uj2fEb"
      },
      "outputs": [],
      "source": [
        "def addnos(a,b,c):\n",
        "    d=a+b+c\n",
        "    return d   \n"
      ]
    },
    {
      "cell_type": "code",
      "execution_count": null,
      "metadata": {
        "id": "evFB9zpv2fEc"
      },
      "outputs": [],
      "source": [
        "def addnos(a,b,c,d):\n",
        "    d=a+b+c+d\n",
        "    return d  "
      ]
    },
    {
      "cell_type": "code",
      "execution_count": null,
      "metadata": {
        "id": "tysofbiq2fEc"
      },
      "outputs": [],
      "source": [
        "addnos(10,20,30,40)"
      ]
    },
    {
      "cell_type": "code",
      "execution_count": null,
      "metadata": {
        "id": "XfU0JZjy2fEc"
      },
      "outputs": [],
      "source": [
        "print(addnos(10,20))\n",
        "\n"
      ]
    },
    {
      "cell_type": "code",
      "execution_count": null,
      "metadata": {
        "id": "gnZb-mAo2fEd"
      },
      "outputs": [],
      "source": [
        "print(addnos(10,20,30)) "
      ]
    },
    {
      "cell_type": "markdown",
      "metadata": {
        "id": "BzYYw7qw2fEd"
      },
      "source": [
        "The error occurred because Python does not support Function or Method Overloading\n",
        "\n",
        "Moreover Python understands the latest definition of a function addnos( ) which takes 3 arguments \n",
        "\n",
        "Now since we passed 2 arguments only , the call generated error because Python tried to call the method with 3 arguments\n"
      ]
    },
    {
      "cell_type": "markdown",
      "metadata": {
        "id": "D_YcTD1B2fEd"
      },
      "source": [
        "### Variable Length Arguments"
      ]
    },
    {
      "cell_type": "markdown",
      "metadata": {
        "id": "57q43RPB2fEe"
      },
      "source": [
        "The solution to this problem is a technique called variable length arguments\n",
        "\n",
        "\n",
        "\n",
        "\n",
        "In this technique , we define the function in such a way that it can accept any number of arguments from 0 to infinite\n"
      ]
    },
    {
      "cell_type": "code",
      "execution_count": null,
      "metadata": {
        "id": "8PSoVw_w2fEe"
      },
      "outputs": [],
      "source": [
        "def test(**sunny):\n",
        "    print(sunny)\n",
        "    print(type(sunny))"
      ]
    },
    {
      "cell_type": "code",
      "execution_count": null,
      "metadata": {
        "id": "3UNGPztB2fEe"
      },
      "outputs": [],
      "source": [
        "test(10)"
      ]
    },
    {
      "cell_type": "code",
      "execution_count": null,
      "metadata": {
        "id": "Uw3e2mZP2fEf"
      },
      "outputs": [],
      "source": [
        "test(10,20)"
      ]
    },
    {
      "cell_type": "code",
      "execution_count": null,
      "metadata": {
        "id": "218dxpvT2fEf"
      },
      "outputs": [],
      "source": [
        "test(10,20,30)"
      ]
    },
    {
      "cell_type": "code",
      "execution_count": null,
      "metadata": {
        "id": "035w1CDn2fEf"
      },
      "outputs": [],
      "source": [
        "def addnos(*a):\n",
        "    sum =0\n",
        "    for x in a:\n",
        "        sum=sum+x\n",
        "    return sum\n",
        "\n"
      ]
    },
    {
      "cell_type": "code",
      "execution_count": null,
      "metadata": {
        "id": "QeF2fW9W2fEg"
      },
      "outputs": [],
      "source": [
        "print(addnos(10,20))\n",
        "print(addnos(10,20,30)) \n",
        "print(addnos(10,20,30,40)) "
      ]
    },
    {
      "cell_type": "code",
      "execution_count": null,
      "metadata": {
        "id": "PGUDKktd2fEg"
      },
      "outputs": [],
      "source": [
        "type(10)"
      ]
    },
    {
      "cell_type": "code",
      "execution_count": null,
      "metadata": {
        "id": "JQi6xcC_2fEg"
      },
      "outputs": [],
      "source": [
        "type((10))"
      ]
    },
    {
      "cell_type": "code",
      "execution_count": null,
      "metadata": {
        "id": "VTq0AgK_2fEh"
      },
      "outputs": [],
      "source": [
        "type((10,))"
      ]
    },
    {
      "cell_type": "markdown",
      "metadata": {
        "id": "eRCXHnvg2fEh"
      },
      "source": [
        "### Method Overriding"
      ]
    },
    {
      "cell_type": "markdown",
      "metadata": {
        "id": "MoGdXdGV2fEh"
      },
      "source": [
        "Method overriding is an ability of any object-oriented programming language that allows a subclass or child class to provide a specific implementation of a method that is already provided by one of its super-classes or parent classes."
      ]
    },
    {
      "cell_type": "markdown",
      "metadata": {
        "id": "30lG4SuD2fEh"
      },
      "source": [
        "![image.png](attachment:image.png)"
      ]
    },
    {
      "cell_type": "code",
      "execution_count": null,
      "metadata": {
        "id": "yogT_xic2fEi"
      },
      "outputs": [],
      "source": [
        "# Defining parent class\n",
        "class Animal():\n",
        "      \n",
        "    # Constructor\n",
        "    def __init__(self):\n",
        "        self.value = \"Inside Parent\"\n",
        "          \n",
        "    # Parent's show method\n",
        "    def show(self):\n",
        "        print(self.value)\n",
        "    \n",
        "    def eat(self):\n",
        "        pass"
      ]
    },
    {
      "cell_type": "code",
      "execution_count": null,
      "metadata": {
        "id": "69NQc_Wr2fEi"
      },
      "outputs": [],
      "source": [
        "# Defining child class\n",
        "class Dog(Animal):\n",
        "      \n",
        "    # Constructor\n",
        "    def __init__(self):\n",
        "        self.value = \"Inside Child\"\n",
        "          \n",
        "    # Child's show method\n",
        "    def show(self):\n",
        "        print(self.value)\n",
        "    \n",
        "    def eat(self):\n",
        "        pass"
      ]
    },
    {
      "cell_type": "code",
      "execution_count": null,
      "metadata": {
        "id": "xiHa14Xu2fEj"
      },
      "outputs": [],
      "source": [
        "# Driver's code\n",
        "obj1 = Parent()\n",
        "obj2 = Child()\n",
        "  \n",
        "obj1.show()\n",
        "obj2.show()"
      ]
    },
    {
      "cell_type": "code",
      "execution_count": null,
      "metadata": {
        "id": "lvSjs7C62fEk"
      },
      "outputs": [],
      "source": [
        ""
      ]
    },
    {
      "cell_type": "markdown",
      "metadata": {
        "id": "W72_NkRP2fEk"
      },
      "source": [
        "### Exercise\n",
        "Write a function called find_largest( ) which accepts multiple strings as argument and returns the length of the largest string\n"
      ]
    },
    {
      "cell_type": "code",
      "execution_count": null,
      "metadata": {
        "id": "3CXgamt_2fEl"
      },
      "outputs": [],
      "source": [
        "### A function cannot have 2 variable length arguments. So the following is wrong:\n",
        "\n",
        "def addnos(*a,*b):\n",
        "    pass\n"
      ]
    },
    {
      "cell_type": "code",
      "execution_count": null,
      "metadata": {
        "id": "A2fVo2ow2fEl"
      },
      "outputs": [],
      "source": [
        "#If we have any other argument along with variable length argument , then it should be set before the variable length argument\n",
        "def addnos(n,*a):\n",
        "    sum =n\n",
        "    print(n)\n",
        "    print(a)\n",
        "    for x in a:\n",
        "        sum=sum+x\n",
        "    return sum\n"
      ]
    },
    {
      "cell_type": "code",
      "execution_count": null,
      "metadata": {
        "id": "LU3Tx9zF2fEm"
      },
      "outputs": [],
      "source": [
        "print(addnos(10,20,30))"
      ]
    },
    {
      "cell_type": "code",
      "execution_count": null,
      "metadata": {
        "id": "r71veJUf2fEm"
      },
      "outputs": [],
      "source": [
        "\n",
        "print(addnos(10,20,30,40))"
      ]
    },
    {
      "cell_type": "code",
      "execution_count": null,
      "metadata": {
        "id": "LyWT8g0h2fEm"
      },
      "outputs": [],
      "source": [
        "#If we set the other argument used with variable length argument , after the variable length argument then while calling it , we must pass it as keyword argument\n",
        "\n",
        "def addnos(*a,n):\n",
        "    print(a)\n",
        "    print(n)\n",
        "    sum =n\n",
        "    for x in a:\n",
        "        sum=sum+x\n",
        "    return sum\n"
      ]
    },
    {
      "cell_type": "code",
      "execution_count": null,
      "metadata": {
        "id": "lgHv-RBY2fEn"
      },
      "outputs": [],
      "source": [
        "addnos(20,30,n=40)"
      ]
    },
    {
      "cell_type": "code",
      "execution_count": null,
      "metadata": {
        "id": "_gZ1Ps4R2fEn"
      },
      "outputs": [],
      "source": [
        "print(addnos(20,30,n=10))"
      ]
    },
    {
      "cell_type": "code",
      "execution_count": null,
      "metadata": {
        "id": "X-1rvLBR2fEn"
      },
      "outputs": [],
      "source": [
        "\n",
        "print(addnos(20,30,40,n=10))"
      ]
    },
    {
      "cell_type": "markdown",
      "metadata": {
        "id": "6vg16Ubm2fEo"
      },
      "source": [
        "## User Defined Functions\n",
        "\n",
        "Variable Scope\n",
        "\n",
        "Local Scope\n",
        "\n",
        "Global Scope\n",
        "\n",
        "Argument Passing\n"
      ]
    },
    {
      "cell_type": "code",
      "execution_count": null,
      "metadata": {
        "id": "6W9Hp9SX2fEo"
      },
      "outputs": [],
      "source": [
        "Local : Inside a function body\n",
        "Enclosing: Inside an outer function’s body . We will discuss it later\n",
        "Global: At the module level\n",
        "Built In: At the interpreter level\n"
      ]
    },
    {
      "cell_type": "code",
      "execution_count": null,
      "metadata": {
        "id": "nIQ0Tq8s2fEp"
      },
      "outputs": [],
      "source": [
        ""
      ]
    },
    {
      "cell_type": "code",
      "execution_count": null,
      "metadata": {
        "id": "iqMHeQpG2fEp"
      },
      "outputs": [],
      "source": [
        "s = \"I love Python\"#global variable\n",
        "def f(): \n",
        "    print(s) \n",
        "f()\n"
      ]
    },
    {
      "cell_type": "code",
      "execution_count": null,
      "metadata": {
        "id": "S5_6vI7a2fEq"
      },
      "outputs": [],
      "source": [
        "indentation\n",
        "\n",
        "def test():\n",
        "    ajcjc\n",
        "    hjafhs\n",
        "    hakfshks\n",
        "kjgjsdsjkas"
      ]
    },
    {
      "cell_type": "code",
      "execution_count": null,
      "metadata": {
        "id": "ULknYTQ82fEq"
      },
      "outputs": [],
      "source": [
        "def f(): \n",
        "    print(s) \n",
        "s = \"I love Python\"# global or local?\n",
        "f()\n"
      ]
    },
    {
      "cell_type": "code",
      "execution_count": null,
      "metadata": {
        "id": "gelNVvK_2fEr"
      },
      "outputs": [],
      "source": [
        "def f():\n",
        "    print(p)\n",
        "f()\n",
        "p=\"I love Python\"\n",
        "\n"
      ]
    },
    {
      "cell_type": "code",
      "execution_count": null,
      "metadata": {
        "id": "JR4n3-IY2fEr"
      },
      "outputs": [],
      "source": [
        "def f():\n",
        "    s=\"I love Python\"#local variable\n",
        "    print(s)\n",
        "f()"
      ]
    },
    {
      "cell_type": "code",
      "execution_count": null,
      "metadata": {
        "id": "WiwVHGc12fEs"
      },
      "outputs": [],
      "source": [
        "def f():\n",
        "    s1=\"I love Python\"#local variable\n",
        "    print(s1)\n",
        "f()\n",
        "print(s1)\n"
      ]
    },
    {
      "cell_type": "code",
      "execution_count": null,
      "metadata": {
        "id": "tIOJNL352fEs"
      },
      "outputs": [],
      "source": [
        "s2=\"I love Python\"\n",
        "def f():\n",
        "    s2=\"I love C\"\n",
        "    print(s2)\n",
        "    print(id(s2))\n",
        "f()\n",
        "print(s2)\n",
        "print(id(s2))\n"
      ]
    },
    {
      "cell_type": "code",
      "execution_count": null,
      "metadata": {
        "id": "3D3iD8Wg2fEs"
      },
      "outputs": [],
      "source": [
        "def f():\n",
        "    global p1\n",
        "    p1=\"I love C\"\n",
        "    print(p1)\n",
        "    #print(id(p))\n",
        "f()\n",
        "print(p1)"
      ]
    },
    {
      "cell_type": "code",
      "execution_count": null,
      "metadata": {
        "id": "TzXGnX6u2fEt"
      },
      "outputs": [],
      "source": [
        "print(p)"
      ]
    },
    {
      "cell_type": "code",
      "execution_count": null,
      "metadata": {
        "id": "nH6C-VhI2fEt",
        "outputId": "439f5ed1-e530-40f4-814d-00d700799bd0"
      },
      "outputs": [
        {
          "name": "stdout",
          "output_type": "stream",
          "text": [
            "I love C\n",
            "2046596301936\n",
            "I love Python\n",
            "2046596301616\n"
          ]
        }
      ],
      "source": [
        "s1=\"I love Python\"\n",
        "def f():\n",
        "    s1=\"I love C\"\n",
        "    print(s1)\n",
        "    print(id(s1))\n",
        "f()\n",
        "print(s1)\n",
        "print(id(s1))\n"
      ]
    },
    {
      "cell_type": "code",
      "execution_count": null,
      "metadata": {
        "id": "kVVcZKqF2fEu",
        "outputId": "a65827cb-4975-4fe1-f0c8-359ced46204e"
      },
      "outputs": [
        {
          "name": "stdout",
          "output_type": "stream",
          "text": [
            "I love C\n",
            "2046596303984\n",
            "I love C\n",
            "2046596303984\n"
          ]
        }
      ],
      "source": [
        "s=\"I love Python\"\n",
        "def f():\n",
        "    global s\n",
        "    s=\"I love C\"\n",
        "    print(s)\n",
        "    print(id(s))\n",
        "f()\n",
        "print(s)\n",
        "print(id(s))\n"
      ]
    },
    {
      "cell_type": "code",
      "execution_count": null,
      "metadata": {
        "id": "03QwfEsF2fEv"
      },
      "outputs": [],
      "source": [
        "s=\"I love Python\""
      ]
    },
    {
      "cell_type": "code",
      "execution_count": null,
      "metadata": {
        "id": "qpYM2oJw2fEv"
      },
      "outputs": [],
      "source": [
        "\n",
        "def f():\n",
        "    global s\n",
        "    print(s)\n",
        "    s=\"I love C\"\n",
        "    print(s)\n",
        "f()\n",
        "print(s)\n",
        "\n"
      ]
    },
    {
      "cell_type": "code",
      "execution_count": null,
      "metadata": {
        "id": "ueKk-UD82fEv"
      },
      "outputs": [],
      "source": [
        "a=1\n",
        "def f():\n",
        "    print ('Inside f() : ', a)\n",
        "def g():    \n",
        "    a = 2\n",
        "    print ('Inside g() : ',a)\n",
        "def h():    \n",
        "    global a\n",
        "    a = 3\n",
        "    print ('Inside h() : ',a)\n",
        " \n",
        "print ('global : ',a)\n",
        "f()\n",
        "print ('global : ',a)\n",
        "g()\n",
        "print ('global : ',a)\n",
        "h()\n",
        "print ('global : ',a)\n"
      ]
    },
    {
      "cell_type": "markdown",
      "metadata": {
        "id": "Yb-1y-OO2fEw"
      },
      "source": [
        "Lambda Function\n",
        "\n",
        "The map( ) Function\n",
        "\n",
        "The filter( ) Function\n",
        "\n",
        "Using map( ) and filter( ) with Lambda Expressions\n",
        "\n",
        "\n"
      ]
    },
    {
      "cell_type": "markdown",
      "metadata": {
        "id": "28yxkQIr2fEx"
      },
      "source": [
        "### What is Anonymous Function"
      ]
    },
    {
      "cell_type": "markdown",
      "metadata": {
        "id": "QGfxsOK72fEx"
      },
      "source": [
        "An anonymous function is a function that is defined without a name"
      ]
    },
    {
      "cell_type": "markdown",
      "metadata": {
        "id": "FKWBhtuK2fEy"
      },
      "source": [
        "### Difference between anonymous function and normal function"
      ]
    },
    {
      "cell_type": "markdown",
      "metadata": {
        "id": "SWJ4Osml2fEy"
      },
      "source": [
        "While normal functions are defined using the def keyword, we define anonymous functions using the lambda keyword.\n"
      ]
    },
    {
      "cell_type": "markdown",
      "metadata": {
        "id": "OdLHY_N02fEy"
      },
      "source": [
        "### Syntax: lambda [arg1,arg2,..]:[expression]"
      ]
    },
    {
      "cell_type": "markdown",
      "metadata": {
        "id": "Qx6O3mse2fEy"
      },
      "source": [
        "lambda is a keyword/operator and can have any number of arguments.\n",
        "\n",
        "But it can have only one expression. \n",
        "\n",
        "Python evaluates the expression and returns the result automatically"
      ]
    },
    {
      "cell_type": "markdown",
      "metadata": {
        "id": "2wIqrpjE2fEz"
      },
      "source": [
        "An expression here is anything that can return some value.\n",
        "\n",
        "The following items qualify as expressions.\n",
        "\n",
        "Arithmetic operations like a+b and a**b\n",
        "\n",
        "Function calls like sum(a,b)\n",
        "\n",
        "A print statement like print(“Hello”)\n",
        "\n"
      ]
    },
    {
      "cell_type": "markdown",
      "metadata": {
        "id": "4yQYFUZD2fEz"
      },
      "source": [
        "Assignment statements cannot be used in lambda , because they don’t return anything, not even None (null).\n",
        "\n",
        "Simple things such as mathematical operations, string operations etc. are OK in a lambda.\n",
        "\n",
        "Function calls are expressions, so it’s OK to put a function call in a lambda, and to pass arguments to that function. \n",
        "\n",
        "Even functions that return None, like the print function in Python 3, can be used in a lambda.\n",
        "\n",
        "Single line if – else is also allowed as it also evaluates the condition and returns the result of true or false expression\n"
      ]
    },
    {
      "cell_type": "code",
      "execution_count": null,
      "metadata": {
        "id": "Aal7mGq22fE0"
      },
      "outputs": [],
      "source": [
        "#Suppose, we want to make a function which will calculate sum of two numbers.\n",
        "\n",
        "#In normal approach we will do as shown below:\n",
        "\n",
        "def add(a,b): \n",
        "    return a+b\n"
      ]
    },
    {
      "cell_type": "code",
      "execution_count": null,
      "metadata": {
        "id": "P0ZZ4XW52fE1",
        "outputId": "cb7081a6-392b-47f1-f09f-777be404ffcb"
      },
      "outputs": [
        {
          "data": {
            "text/plain": [
              "30"
            ]
          },
          "execution_count": 7,
          "metadata": {},
          "output_type": "execute_result"
        }
      ],
      "source": [
        "add(10,20)"
      ]
    },
    {
      "cell_type": "code",
      "execution_count": null,
      "metadata": {
        "id": "DLNVx0902fE2",
        "outputId": "279489e3-051e-4a6e-bbbc-63a2693966f3"
      },
      "outputs": [
        {
          "name": "stdout",
          "output_type": "stream",
          "text": [
            "30\n"
          ]
        }
      ],
      "source": [
        "#In case of lambda function we will write it as:\n",
        "\n",
        "print((lambda a,b:a+b)(10,20))\n"
      ]
    },
    {
      "cell_type": "markdown",
      "metadata": {
        "id": "qH8ajnWO2fE2"
      },
      "source": [
        "A very common doubt is that when we can define our functions using def keyword , then why we require lambda functions ?\n",
        "\n",
        "The most common use for lambda functions is in code that requires a simple one-line function, where it would be an overkill to write a complete normal function.\n",
        "\n",
        "We will explore it in more detail when we will discuss two very important functions in Python called map( ) and filter( )\n"
      ]
    },
    {
      "cell_type": "markdown",
      "metadata": {
        "id": "_ehAfBcO2fE2"
      },
      "source": [
        "There are 2 ways to use a Lambda Function.\n",
        "\n",
        "\n",
        "- Using it anonymously in inline mode\n",
        "\n",
        "- Using it by assigning it to a variable\n"
      ]
    },
    {
      "cell_type": "code",
      "execution_count": null,
      "metadata": {
        "id": "fLwy-ljy2fE3"
      },
      "outputs": [],
      "source": [
        "#Using it as anonymous function\n",
        "\n",
        "print((lambda a,b: a+b)(2,3))\n"
      ]
    },
    {
      "cell_type": "code",
      "execution_count": null,
      "metadata": {
        "id": "4RyF95o52fE3"
      },
      "outputs": [],
      "source": [
        "#Using it by assigning it to a variable\n",
        "\n",
        "sum=lambda a,b: a+b"
      ]
    },
    {
      "cell_type": "code",
      "execution_count": null,
      "metadata": {
        "id": "0_eputDN2fE3",
        "outputId": "0edb25a2-ce26-481b-e68a-6ce85c2d5127"
      },
      "outputs": [
        {
          "name": "stdout",
          "output_type": "stream",
          "text": [
            "5\n"
          ]
        }
      ],
      "source": [
        "print(sum(2,3))"
      ]
    },
    {
      "cell_type": "code",
      "execution_count": null,
      "metadata": {
        "id": "k92RJrZY2fE4",
        "outputId": "47b4ff8f-b47f-4373-ab34-beb529def630"
      },
      "outputs": [
        {
          "name": "stdout",
          "output_type": "stream",
          "text": [
            "14\n"
          ]
        }
      ],
      "source": [
        "\n",
        "\n",
        "\n",
        "print(sum(5,9))\n"
      ]
    },
    {
      "cell_type": "markdown",
      "metadata": {
        "id": "lf6vKVR72fE4"
      },
      "source": [
        "What is happening in this code ?\n",
        "\n",
        "The statement lambda a,b:a+b , \n",
        "\n",
        "is creating a FUNCTION OBJECT\n",
        "\n",
        "and returning that object . The\n",
        "\n",
        "variable sum is referring to that\n",
        "\n",
        "object. Now when we write sum(2,3), it behaves like function call\n"
      ]
    },
    {
      "cell_type": "code",
      "execution_count": null,
      "metadata": {
        "id": "WlmKUz5k2fE4"
      },
      "outputs": [],
      "source": [
        "sum=lambda a,b: a+b\n",
        "\n",
        "print(type(sum))\n",
        "print(sum)\n"
      ]
    },
    {
      "cell_type": "code",
      "execution_count": null,
      "metadata": {
        "id": "PH28z-sq2fE5"
      },
      "outputs": [],
      "source": [
        "squareit=lambda a: a*a\n",
        "\n",
        "print(squareit(25))\n",
        "print(squareit(10))\n",
        "\n"
      ]
    },
    {
      "cell_type": "code",
      "execution_count": null,
      "metadata": {
        "id": "SohXzzRH2fE5"
      },
      "outputs": [],
      "source": [
        "import math\n",
        "\n",
        "squr=lambda a:math.sqrt(a)\n",
        "\n"
      ]
    },
    {
      "cell_type": "code",
      "execution_count": null,
      "metadata": {
        "id": "M-NMWl1w2fE5",
        "outputId": "b0d7cc8d-4f8e-477c-ce02-b4153b8e20ff"
      },
      "outputs": [
        {
          "data": {
            "text/plain": [
              "5.0"
            ]
          },
          "execution_count": 17,
          "metadata": {},
          "output_type": "execute_result"
        }
      ],
      "source": [
        "squr(25)"
      ]
    },
    {
      "cell_type": "code",
      "execution_count": null,
      "metadata": {
        "id": "goFExLmN2fE6"
      },
      "outputs": [],
      "source": [
        "st=lambda str:str[0]"
      ]
    },
    {
      "cell_type": "code",
      "execution_count": null,
      "metadata": {
        "id": "K1yT3smj2fE6",
        "outputId": "8b4709a9-ff88-4a84-deca-2378a1637d90"
      },
      "outputs": [
        {
          "data": {
            "text/plain": [
              "'s'"
            ]
          },
          "execution_count": 19,
          "metadata": {},
          "output_type": "execute_result"
        }
      ],
      "source": [
        "st(\"sunny\")"
      ]
    },
    {
      "cell_type": "code",
      "execution_count": null,
      "metadata": {
        "id": "6T-IQXsz2fE6"
      },
      "outputs": [],
      "source": [
        "iseven=lambda n: n%2==0"
      ]
    },
    {
      "cell_type": "code",
      "execution_count": null,
      "metadata": {
        "id": "cZUZAYKP2fE6",
        "outputId": "3b9607d1-1754-4c49-dfbf-312ac6f57911"
      },
      "outputs": [
        {
          "name": "stdout",
          "output_type": "stream",
          "text": [
            "10 is even : False\n"
          ]
        }
      ],
      "source": [
        "\n",
        "print(\"10 is even :\",iseven(11))"
      ]
    },
    {
      "cell_type": "code",
      "execution_count": null,
      "metadata": {
        "id": "gbVJJ13t2fE7"
      },
      "outputs": [],
      "source": [
        "\n",
        "print(\"7 is even:\",iseven(7))\n"
      ]
    },
    {
      "cell_type": "code",
      "execution_count": null,
      "metadata": {
        "id": "ZOvqAHbu2fE7"
      },
      "outputs": [],
      "source": [
        "#Write a lambda function that accepts 2 arguments and returns the greater amongst them\n",
        "maxnum=lambda a,b: a if a>b else b"
      ]
    },
    {
      "cell_type": "code",
      "execution_count": null,
      "metadata": {
        "id": "Zs03qtyt2fE8",
        "outputId": "d7bb58d1-33f9-4478-9a2d-7f8799e17fef"
      },
      "outputs": [
        {
          "name": "stdout",
          "output_type": "stream",
          "text": [
            "max amongst 10 and 20 : 20\n"
          ]
        }
      ],
      "source": [
        "print(\"max amongst 10 and 20 :\",maxnum(10,20))"
      ]
    },
    {
      "cell_type": "code",
      "execution_count": null,
      "metadata": {
        "id": "be63zm_y2fE8",
        "outputId": "ed3b0180-2bac-490f-e8df-1811c059b808"
      },
      "outputs": [
        {
          "name": "stdout",
          "output_type": "stream",
          "text": [
            "max amongst 15 and 5 : 15\n"
          ]
        }
      ],
      "source": [
        "print(\"max amongst 15 and 5 :\",maxnum(15,5))\n"
      ]
    },
    {
      "cell_type": "markdown",
      "metadata": {
        "id": "rJj1F9n-2fE9"
      },
      "source": [
        "### map() function in python"
      ]
    },
    {
      "cell_type": "code",
      "execution_count": null,
      "metadata": {
        "id": "HTjOCs1s2fE9"
      },
      "outputs": [],
      "source": [
        "#map() is a function which takes two arguments:\n",
        "r = map(func, iterable)"
      ]
    },
    {
      "cell_type": "markdown",
      "metadata": {
        "id": "LJOdAPdk2fE9"
      },
      "source": [
        "The first argument func is the name of a function and the second argument  , iterable  ,should be a sequence (e.g. a list , tuple ,string etc) or anything that can be used with for loop. \n",
        "\n",
        "map() applies the function func to all the elements of the sequence iterable\n"
      ]
    },
    {
      "cell_type": "markdown",
      "metadata": {
        "id": "jA_nPsHq2fFD"
      },
      "source": [
        "### To understand this , let’s solve a problem"
      ]
    },
    {
      "cell_type": "code",
      "execution_count": null,
      "metadata": {
        "id": "Eov_7Qm_2fFF"
      },
      "outputs": [],
      "source": [
        "#Suppose we want to define a function called square( ) that can accept a number as argument and returns it’s square.\n",
        "\n",
        "#The definition of this function would be:\n",
        "\n",
        "def square(num):\n",
        "    return num**2"
      ]
    },
    {
      "cell_type": "code",
      "execution_count": null,
      "metadata": {
        "id": "ADQh8VX_2fFG",
        "outputId": "31890af9-7d4c-4a92-9a6c-005a516a6832"
      },
      "outputs": [
        {
          "data": {
            "text/plain": [
              "25"
            ]
          },
          "execution_count": 27,
          "metadata": {},
          "output_type": "execute_result"
        }
      ],
      "source": [
        "square(5)"
      ]
    },
    {
      "cell_type": "code",
      "execution_count": null,
      "metadata": {
        "id": "cmVL0Afy2fFH",
        "outputId": "1461099d-cba0-4e1d-f200-43dde00df9cf"
      },
      "outputs": [
        {
          "data": {
            "text/plain": [
              "625"
            ]
          },
          "execution_count": 28,
          "metadata": {},
          "output_type": "execute_result"
        }
      ],
      "source": [
        "square(25)"
      ]
    },
    {
      "cell_type": "code",
      "execution_count": null,
      "metadata": {
        "id": "cKaHcLTJ2fFH"
      },
      "outputs": [],
      "source": [
        "#Now suppose we want to call this function for the following list of numbers:\n",
        "\n",
        "mynums=[1,2,3,4,5]"
      ]
    },
    {
      "cell_type": "code",
      "execution_count": null,
      "metadata": {
        "id": "tHaDURKx2fFH",
        "outputId": "63421b23-ced7-46ae-93de-4791ff160e1e"
      },
      "outputs": [
        {
          "name": "stdout",
          "output_type": "stream",
          "text": [
            "1\n",
            "4\n",
            "9\n",
            "16\n",
            "25\n"
          ]
        }
      ],
      "source": [
        "#One way to do this , will be to use a for loop \n",
        "\n",
        "mynums=[1,2,3,4,5]\n",
        "for x in mynums:\n",
        "    print(square(x))"
      ]
    },
    {
      "cell_type": "code",
      "execution_count": null,
      "metadata": {
        "id": "J4ipw1ft2fFI",
        "outputId": "fee529ee-2a90-4973-ccc8-4811d18dd9c3"
      },
      "outputs": [
        {
          "name": "stdout",
          "output_type": "stream",
          "text": [
            "1\n",
            "4\n",
            "9\n",
            "16\n",
            "25\n"
          ]
        }
      ],
      "source": [
        "def square(num):\n",
        "    return num**2\n",
        "mynums=[1,2,3,4,5]\n",
        "for x in mynums:\n",
        "    print(square(x))"
      ]
    },
    {
      "cell_type": "code",
      "execution_count": null,
      "metadata": {
        "id": "VpYt9jF12fFI"
      },
      "outputs": [],
      "source": [
        "<map at 0x1b3e7ae1880> \n"
      ]
    },
    {
      "cell_type": "markdown",
      "metadata": {
        "id": "DzRr68I42fFI"
      },
      "source": [
        "Another way to solve the previous problem is to use the map( ) function .\n",
        "The map( ) function will accept 2 arguments from us. \n",
        "\n",
        "The first argument will be the name of the function square \n",
        "\n",
        "The second argument will be the list mynums.\n",
        "\n",
        "It will then apply the function square on every element of mynum and return the corresponding result as map object \n"
      ]
    },
    {
      "cell_type": "code",
      "execution_count": null,
      "metadata": {
        "id": "3SbwurOH2fFJ"
      },
      "outputs": [],
      "source": [
        "def square(num):\n",
        "    return num**2\n",
        "mynums=(1,2,3,4,5)"
      ]
    },
    {
      "cell_type": "code",
      "execution_count": null,
      "metadata": {
        "id": "twNu4CdC2fFJ",
        "outputId": "0d847bee-26dc-496b-bb6b-ae281131c333"
      },
      "outputs": [
        {
          "name": "stdout",
          "output_type": "stream",
          "text": [
            "[1, 4, 9, 16, 25]\n"
          ]
        }
      ],
      "source": [
        "print(list(map(square,mynums)))"
      ]
    },
    {
      "cell_type": "code",
      "execution_count": null,
      "metadata": {
        "id": "Ro3fjTQW2fFJ"
      },
      "outputs": [],
      "source": [
        "def square(num):\n",
        "    return num**2\n",
        "\n",
        "mynums=[1,2,3,4,5]\n",
        "result=map(square,mynums)\n",
        "print(result)\n"
      ]
    },
    {
      "cell_type": "markdown",
      "metadata": {
        "id": "1G-VQk_Y2fFK"
      },
      "source": [
        "As we can observe , the return value of map( ) function is a map object \n",
        "\n",
        "To convert it into actual numbers we can pass it to the function list( )"
      ]
    },
    {
      "cell_type": "code",
      "execution_count": null,
      "metadata": {
        "id": "T54I_wH22fFK"
      },
      "outputs": [],
      "source": [
        "def square(num):\n",
        "    return num**2\n",
        "\n",
        "mynums=[1,2,3,4,5]\n",
        "result=map(square,mynums)"
      ]
    },
    {
      "cell_type": "code",
      "execution_count": null,
      "metadata": {
        "id": "s7JUJNJq2fFK",
        "outputId": "5d5b0c8e-322a-47f4-c56b-f3c9abaac8df"
      },
      "outputs": [
        {
          "data": {
            "text/plain": [
              "<map at 0x1f01b38dd90>"
            ]
          },
          "execution_count": 12,
          "metadata": {},
          "output_type": "execute_result"
        }
      ],
      "source": [
        "result"
      ]
    },
    {
      "cell_type": "code",
      "execution_count": null,
      "metadata": {
        "id": "yh2sOtU22fFL"
      },
      "outputs": [],
      "source": [
        "sqrnum=list(result)"
      ]
    },
    {
      "cell_type": "code",
      "execution_count": null,
      "metadata": {
        "id": "2CfImxoS2fFL",
        "outputId": "10d8587c-a121-474d-db82-5ac0f4af94e7"
      },
      "outputs": [
        {
          "name": "stdout",
          "output_type": "stream",
          "text": [
            "[1, 4, 9, 16, 25]\n"
          ]
        }
      ],
      "source": [
        "\n",
        "\n",
        "print(sqrnum)\n"
      ]
    },
    {
      "cell_type": "code",
      "execution_count": null,
      "metadata": {
        "id": "zdHJDclr2fFM"
      },
      "outputs": [],
      "source": [
        "def square(num):\n",
        "    return num**2\n",
        "\n",
        "\n",
        "mynums=[1,2,3,4,5]\n",
        "# we can club the 2 lines in 1 line\n",
        "\n",
        "sqrnum=list(map(square,mynums))\n",
        "\n",
        "print(sqrnum)\n"
      ]
    },
    {
      "cell_type": "code",
      "execution_count": null,
      "metadata": {
        "id": "l6-Erhsd2fFM"
      },
      "outputs": [],
      "source": [
        "#To make it even shorter we can directly pass the list( ) function to \n",
        "#the function print()\n",
        "def square(num):\n",
        "    return num**2\n",
        "\n",
        "mynums=[1,2,3,4,5]\n",
        "print(list(map(square,mynums)))\n"
      ]
    },
    {
      "cell_type": "code",
      "execution_count": null,
      "metadata": {
        "id": "W1J1rCjV2fFM"
      },
      "outputs": [],
      "source": [
        "#In case we want to iterate over this list , then we can use for loop\n",
        "def square(num):\n",
        "    return num**2\n",
        "\n",
        "mynums=[1,2,3,4,5]\n",
        "for x in map(square,mynums):\n",
        "    print(x)\n"
      ]
    },
    {
      "cell_type": "markdown",
      "metadata": {
        "id": "PIB-BwWL2fFN"
      },
      "source": [
        "Write a function called inspect( ) that accepts a string as argument and returns the word EVEN if the string is of even length and returns it’s first character if the string is of odd length\n",
        "\n",
        "Now call this function for first 3 month names"
      ]
    },
    {
      "cell_type": "code",
      "execution_count": null,
      "metadata": {
        "id": "qJDjAjR92fFN",
        "outputId": "977063ed-add2-4fc7-ef6a-6a1e99d21f19"
      },
      "outputs": [
        {
          "name": "stdout",
          "output_type": "stream",
          "text": [
            "['J', 'EVEN', 'M']\n"
          ]
        }
      ],
      "source": [
        "def inspect(mystring):\n",
        "    if len(mystring)%2==0:\n",
        "        return \"EVEN\"\n",
        "    else:\n",
        "        return mystring[0]\n",
        "\n",
        "months=[\"January\",\"February\",\"March\"]\n",
        "print(list(map(inspect,months))) \n"
      ]
    },
    {
      "cell_type": "markdown",
      "metadata": {
        "id": "d0tP2wEQ2fFN"
      },
      "source": [
        "### filter() function in python"
      ]
    },
    {
      "cell_type": "markdown",
      "metadata": {
        "id": "pSJ32h0P2fFO"
      },
      "source": [
        "Another way to solve the previous problem is to use the filter( ) function .\n",
        "\n",
        "\n",
        "The flter( ) function will accept 2 arguments from us. \n",
        "\n",
        "The first argument will be the name of the function check_even \n",
        "\n",
        "The second argument will be the list mynums.\n",
        "\n",
        "It will then apply the function check_even on every element of mynum and if check_even returned True for that element then filter( ) will return that element as a part of it’s return value otherwise that element will not be returned\n"
      ]
    },
    {
      "cell_type": "code",
      "execution_count": null,
      "metadata": {
        "id": "kLXy87_m2fFO"
      },
      "outputs": [],
      "source": [
        "num=7"
      ]
    },
    {
      "cell_type": "code",
      "execution_count": null,
      "metadata": {
        "id": "zkGm7v6x2fFO",
        "outputId": "f4380c02-3253-4f37-a1ed-40e0dceac9a0"
      },
      "outputs": [
        {
          "data": {
            "text/plain": [
              "1"
            ]
          },
          "execution_count": 26,
          "metadata": {},
          "output_type": "execute_result"
        }
      ],
      "source": [
        "num%2"
      ]
    },
    {
      "cell_type": "code",
      "execution_count": null,
      "metadata": {
        "id": "ZYNQXsK42fFP"
      },
      "outputs": [],
      "source": [
        "def check_even(num):\n",
        "    return num%2!=0"
      ]
    },
    {
      "cell_type": "code",
      "execution_count": null,
      "metadata": {
        "id": "8CKE7nVB2fFP",
        "outputId": "95eda260-9c65-426a-959e-6fd0008cf863"
      },
      "outputs": [
        {
          "data": {
            "text/plain": [
              "True"
            ]
          },
          "execution_count": 23,
          "metadata": {},
          "output_type": "execute_result"
        }
      ],
      "source": [
        "check_even(7)"
      ]
    },
    {
      "cell_type": "code",
      "execution_count": null,
      "metadata": {
        "id": "zsAVB12b2fFP"
      },
      "outputs": [],
      "source": [
        "mynums=[1,2,3,4,5,6]"
      ]
    },
    {
      "cell_type": "code",
      "execution_count": null,
      "metadata": {
        "id": "tkw_NnSW2fFQ"
      },
      "outputs": [],
      "source": [
        "value=filter(check_even,mynums)"
      ]
    },
    {
      "cell_type": "code",
      "execution_count": null,
      "metadata": {
        "id": "eClDcRt62fFQ",
        "outputId": "8d2df15b-ab85-4937-fd1e-c2301f339b90"
      },
      "outputs": [
        {
          "data": {
            "text/plain": [
              "[1, 3, 5]"
            ]
          },
          "execution_count": 29,
          "metadata": {},
          "output_type": "execute_result"
        }
      ],
      "source": [
        "list(value)"
      ]
    },
    {
      "cell_type": "code",
      "execution_count": null,
      "metadata": {
        "id": "DnQRq-mT2fFQ",
        "outputId": "4cbf064f-4818-4c00-bec4-8f1797a95c5a"
      },
      "outputs": [
        {
          "name": "stdout",
          "output_type": "stream",
          "text": [
            "<filter object at 0x000001F01B38DA00>\n"
          ]
        }
      ],
      "source": [
        "\n",
        "\n",
        "\n",
        "print()"
      ]
    },
    {
      "cell_type": "markdown",
      "metadata": {
        "id": "SnHdb-Q_2fFQ"
      },
      "source": [
        "As we can observe , the return value of filter( ) function is a  filter object \n",
        "\n",
        "To convert it into actual numbers we can pass it to the function list( )\n"
      ]
    },
    {
      "cell_type": "code",
      "execution_count": null,
      "metadata": {
        "id": "clGYP-Vo2fFR",
        "outputId": "005629dc-94cb-4326-994e-8d5ec42c0da5"
      },
      "outputs": [
        {
          "name": "stdout",
          "output_type": "stream",
          "text": [
            "[2, 4, 6]\n"
          ]
        }
      ],
      "source": [
        "def check_even(num):\n",
        "    return num%2==0\n",
        "\n",
        "mynums=[1,2,3,4,5,6]\n",
        "print(list(filter(check_even,mynums)))\n",
        "\n",
        "\n"
      ]
    },
    {
      "cell_type": "code",
      "execution_count": null,
      "metadata": {
        "id": "4UuV91Bb2fFR",
        "outputId": "7919b0ae-1561-4898-b004-8bbc5e3a6fd1"
      },
      "outputs": [
        {
          "name": "stdout",
          "output_type": "stream",
          "text": [
            "2\n",
            "4\n",
            "6\n"
          ]
        }
      ],
      "source": [
        "#In case we want to iterate over this list , then we can use for loop \n",
        "#as shown below:\n",
        "def check_even(num):\n",
        "    return num%2==0\n",
        "\n",
        "mynums=[1,2,3,4,5,6]\n",
        "for x in filter(check_even,mynums):\n",
        "    print(x)"
      ]
    },
    {
      "cell_type": "code",
      "execution_count": null,
      "metadata": {
        "id": "uIiio1-j2fFS",
        "outputId": "cbc6caf0-357f-41a4-95d8-46e460468de1"
      },
      "outputs": [
        {
          "name": "stdout",
          "output_type": "stream",
          "text": [
            "[1, 2, 3, 4, 5]\n"
          ]
        }
      ],
      "source": [
        "def f1(num):\n",
        "    return num*num\n",
        "\n",
        "mynums=[1,2,3,4,5]\n",
        "print(list(filter(f1,mynums)))\n"
      ]
    },
    {
      "cell_type": "markdown",
      "metadata": {
        "id": "S9kdkSjE2fFS"
      },
      "source": [
        "Ideally , the function passed to filter( ) should return a boolean value. But if it doesn’t return boolean value , then whatever value it returns Python converts it to boolean . In our case for each value in mynums the return value will be it’s square which is a non-zero value and thus assumed to be True. So all the elements are returned by filter() \n"
      ]
    },
    {
      "cell_type": "code",
      "execution_count": null,
      "metadata": {
        "id": "zIjFUVrp2fFS"
      },
      "outputs": [],
      "source": [
        "def f1(num):\n",
        "    return num%2"
      ]
    },
    {
      "cell_type": "code",
      "execution_count": null,
      "metadata": {
        "id": "e2iAg4s82fFS",
        "outputId": "3b925b2e-4671-40ae-f76a-97f54bbbc13e"
      },
      "outputs": [
        {
          "data": {
            "text/plain": [
              "1"
            ]
          },
          "execution_count": 31,
          "metadata": {},
          "output_type": "execute_result"
        }
      ],
      "source": [
        "f1(11)"
      ]
    },
    {
      "cell_type": "code",
      "execution_count": null,
      "metadata": {
        "id": "5n6KRK4-2fFT",
        "outputId": "81695bdc-a07a-40ea-963b-89099fd0c0c1"
      },
      "outputs": [
        {
          "data": {
            "text/plain": [
              "1"
            ]
          },
          "execution_count": 35,
          "metadata": {},
          "output_type": "execute_result"
        }
      ],
      "source": [
        "True+False"
      ]
    },
    {
      "cell_type": "code",
      "execution_count": null,
      "metadata": {
        "id": "NoqpjtN52fFT",
        "outputId": "b4d7c92f-6f1f-4459-b0e8-ce05d558c1ac"
      },
      "outputs": [
        {
          "name": "stdout",
          "output_type": "stream",
          "text": [
            "1\n",
            "0\n",
            "1\n",
            "0\n",
            "1\n",
            "[]\n"
          ]
        }
      ],
      "source": [
        "def f1(num):\n",
        "    print(num%2)\n",
        "    #return num%2\n",
        "\n",
        "mynums=[1,2,3,4,5]\n",
        "print(list(filter(f1,mynums)))\n"
      ]
    },
    {
      "cell_type": "code",
      "execution_count": null,
      "metadata": {
        "id": "gl1_RJm62fFT",
        "outputId": "dc937d91-ee3f-40b9-938e-ce8e9123018a"
      },
      "outputs": [
        {
          "data": {
            "text/plain": [
              "<filter at 0x1f01b38d970>"
            ]
          },
          "execution_count": 37,
          "metadata": {},
          "output_type": "execute_result"
        }
      ],
      "source": [
        "filter(f1,mynums)"
      ]
    },
    {
      "cell_type": "markdown",
      "metadata": {
        "id": "A5q1HmDG2fFU"
      },
      "source": [
        "For every even number the return value of the function f1( ) will be 0 which is assumed to be False and for every odd number the return value will be 1 which is assumed to be True . Thus filter( ) returns only those numbers for which f1( ) has returned 1.\n"
      ]
    },
    {
      "cell_type": "code",
      "execution_count": null,
      "metadata": {
        "id": "vJWGsHhY2fFU"
      },
      "outputs": [],
      "source": [
        "def f1(num):\n",
        "    print(\"Hello\")"
      ]
    },
    {
      "cell_type": "code",
      "execution_count": null,
      "metadata": {
        "id": "qOpNgZx_2fFU",
        "outputId": "6631424f-8742-4fe4-9b7a-d89acdb8b959"
      },
      "outputs": [
        {
          "name": "stdout",
          "output_type": "stream",
          "text": [
            "Hello\n"
          ]
        }
      ],
      "source": [
        "f1(5)"
      ]
    },
    {
      "cell_type": "code",
      "execution_count": null,
      "metadata": {
        "id": "_anRE91d2fFV",
        "outputId": "a47f1be2-c3b9-4899-b7a5-26c368bb2c59"
      },
      "outputs": [
        {
          "name": "stdout",
          "output_type": "stream",
          "text": [
            "Hello\n",
            "Hello\n",
            "Hello\n",
            "Hello\n",
            "Hello\n",
            "[]\n"
          ]
        }
      ],
      "source": [
        "mynums=[1,2,3,4,5]\n",
        "print(list(filter(f1,mynums)))\n"
      ]
    },
    {
      "cell_type": "markdown",
      "metadata": {
        "id": "9sVifGsY2fFV"
      },
      "source": [
        "Hello is displayed 5 times because the filter( ) function has called f1( ) function 5 times. Now for each value in mynums , since f1( ) has not returned any value , by default it’s return value is assumed to be None which is a representation of False. Thus filter( ) returned an empty list.\n"
      ]
    },
    {
      "cell_type": "code",
      "execution_count": null,
      "metadata": {
        "id": "1sLg2-_82fFW",
        "outputId": "b047002c-c08c-49fe-f0bd-1e480360280e"
      },
      "outputs": [
        {
          "name": "stdout",
          "output_type": "stream",
          "text": [
            "[]\n"
          ]
        }
      ],
      "source": [
        "def f1(num):\n",
        "    pass\n",
        "\n",
        "mynums=[1,2,3,4,5]\n",
        "print(list(filter(f1,mynums)))\n"
      ]
    },
    {
      "cell_type": "markdown",
      "metadata": {
        "id": "mkSUPvzf2fFX"
      },
      "source": [
        "For each value in mynums , since f1( ) has not returned any value , by default it’s return value is assumed to be None which is a representation of False. Thus filter( ) returned an empty list.\n"
      ]
    },
    {
      "cell_type": "code",
      "execution_count": null,
      "metadata": {
        "id": "rt8Ffs0j2fFX",
        "outputId": "6bc37d3b-9618-482d-94bc-d86a1dd3aa65"
      },
      "outputs": [
        {
          "ename": "TypeError",
          "evalue": "f1() takes 0 positional arguments but 1 was given",
          "output_type": "error",
          "traceback": [
            "\u001b[1;31m---------------------------------------------------------------------------\u001b[0m",
            "\u001b[1;31mTypeError\u001b[0m                                 Traceback (most recent call last)",
            "\u001b[1;32m<ipython-input-45-804ed006219b>\u001b[0m in \u001b[0;36m<module>\u001b[1;34m\u001b[0m\n\u001b[0;32m      3\u001b[0m \u001b[1;33m\u001b[0m\u001b[0m\n\u001b[0;32m      4\u001b[0m \u001b[0mmynums\u001b[0m\u001b[1;33m=\u001b[0m\u001b[1;33m[\u001b[0m\u001b[1;36m1\u001b[0m\u001b[1;33m,\u001b[0m\u001b[1;36m2\u001b[0m\u001b[1;33m,\u001b[0m\u001b[1;36m3\u001b[0m\u001b[1;33m,\u001b[0m\u001b[1;36m4\u001b[0m\u001b[1;33m,\u001b[0m\u001b[1;36m5\u001b[0m\u001b[1;33m]\u001b[0m\u001b[1;33m\u001b[0m\u001b[1;33m\u001b[0m\u001b[0m\n\u001b[1;32m----> 5\u001b[1;33m \u001b[0mprint\u001b[0m\u001b[1;33m(\u001b[0m\u001b[0mlist\u001b[0m\u001b[1;33m(\u001b[0m\u001b[0mfilter\u001b[0m\u001b[1;33m(\u001b[0m\u001b[0mf1\u001b[0m\u001b[1;33m,\u001b[0m\u001b[0mmynums\u001b[0m\u001b[1;33m)\u001b[0m\u001b[1;33m)\u001b[0m\u001b[1;33m)\u001b[0m\u001b[1;33m\u001b[0m\u001b[1;33m\u001b[0m\u001b[0m\n\u001b[0m\u001b[0;32m      6\u001b[0m \u001b[1;33m\u001b[0m\u001b[0m\n",
            "\u001b[1;31mTypeError\u001b[0m: f1() takes 0 positional arguments but 1 was given"
          ]
        }
      ],
      "source": [
        "def f1():\n",
        "    pass\n",
        "\n",
        "mynums=[1,2,3,4,5]\n",
        "print(list(filter(f1,mynums)))\n",
        "\n"
      ]
    },
    {
      "cell_type": "markdown",
      "metadata": {
        "id": "fCJgYjUS2fFX"
      },
      "source": [
        "The function filter() is trying to call f1( ) for every value in the list mynums. But since f1( ) is a non-parametrized function , this call generates TypeError\n"
      ]
    },
    {
      "cell_type": "code",
      "execution_count": null,
      "metadata": {
        "id": "yLpeFsms2fFY"
      },
      "outputs": [],
      "source": [
        "def f1():\n",
        "    pass\n",
        "\n",
        "mynums=[]\n",
        "print(list(filter(f1,mynums)))\n",
        "\n"
      ]
    },
    {
      "cell_type": "code",
      "execution_count": null,
      "metadata": {
        "id": "LgIkY4212fFY",
        "outputId": "566eff6a-474d-4130-cb9e-95594206b61d"
      },
      "outputs": [
        {
          "name": "stdout",
          "output_type": "stream",
          "text": [
            "[1, 0, 1, 0, 1]\n"
          ]
        }
      ],
      "source": [
        "def f1(num):\n",
        "    return num%2\n",
        "\n",
        "mynums=[1,2,3,4,5]\n",
        "print(list(map(f1,mynums)))\n",
        "\n"
      ]
    },
    {
      "cell_type": "code",
      "execution_count": null,
      "metadata": {
        "id": "voSvK3aE2fFY",
        "outputId": "91dbc852-6f23-42f1-fbd8-7bc7c37d7fd9"
      },
      "outputs": [
        {
          "name": "stdout",
          "output_type": "stream",
          "text": [
            "[1, 3, 5]\n"
          ]
        }
      ],
      "source": [
        "def f1(num):\n",
        "    return num%2\n",
        "\n",
        "mynums=[1,2,3,4,5]\n",
        "print(list(filter(f1,mynums)))"
      ]
    },
    {
      "cell_type": "markdown",
      "metadata": {
        "id": "vu7VW3OS2fFZ"
      },
      "source": [
        "For every even number the return value of the function f1( ) will be 0 and for every odd number the return value will be 1. Thus map( ) has returned a list containing 1 and 0 for each number in mynums based upon even and odd.\n"
      ]
    },
    {
      "cell_type": "code",
      "execution_count": null,
      "metadata": {
        "id": "Qlduw8t82fFZ",
        "outputId": "497cad6d-dd7a-45f9-8729-3daf6b454764"
      },
      "outputs": [
        {
          "name": "stdout",
          "output_type": "stream",
          "text": [
            "[None, None, None, None, None]\n"
          ]
        }
      ],
      "source": [
        "def f1(num):\n",
        "    pass\n",
        "\n",
        "mynums=[1,2,3,4,5]\n",
        "print(list(map(f1,mynums)))\n",
        "\n"
      ]
    },
    {
      "cell_type": "markdown",
      "metadata": {
        "id": "YNDTqGOE2fFZ"
      },
      "source": [
        "Since f1( ) is not returning anything , so it’s return value by default is assumed to be None  and because map( ) has internally called f1 () 5 times , so the list returned contains None 5 times\n"
      ]
    },
    {
      "cell_type": "code",
      "execution_count": null,
      "metadata": {
        "id": "SP4cTJsY2fFZ",
        "outputId": "62febf52-e9d8-48f4-bbf7-7ae88ae3f499"
      },
      "outputs": [
        {
          "name": "stdout",
          "output_type": "stream",
          "text": [
            "[]\n"
          ]
        }
      ],
      "source": [
        "def f1():\n",
        "    pass\n",
        "\n",
        "mynums=[]\n",
        "print(list(map(f1,mynums)))\n"
      ]
    },
    {
      "cell_type": "markdown",
      "metadata": {
        "id": "nPCcNMXA2fFa"
      },
      "source": [
        "The best use of Lambda Expression is to use it with map( ) and filter( ) functions\n",
        "\n",
        "\n",
        "\n",
        "\n",
        "Recall that the keyword lambda creates an anonymous function and returns it’s address.\n"
      ]
    },
    {
      "cell_type": "markdown",
      "metadata": {
        "id": "wJKW_ddC2fFa"
      },
      "source": [
        "So , we can pass this lambda expression as first argument to map( ) and filter() functions , since their first argument is the a function object reference\n",
        "\n",
        "\n",
        "In this way , we wouldn’t be required to specially create a separate function using the keyword def\n"
      ]
    },
    {
      "cell_type": "code",
      "execution_count": null,
      "metadata": {
        "id": "s9O_xGFD2fFa",
        "outputId": "52d0de44-e070-43eb-fb84-2112d00bb038"
      },
      "outputs": [
        {
          "name": "stdout",
          "output_type": "stream",
          "text": [
            "[1, 4, 9, 16, 25]\n"
          ]
        }
      ],
      "source": [
        "def square(num):\n",
        "    return num**2\n",
        "\n",
        "mynums=[1,2,3,4,5]\n",
        "squrnum=list(map(square,mynums))\n",
        "print(squrnum)\n"
      ]
    },
    {
      "cell_type": "code",
      "execution_count": null,
      "metadata": {
        "id": "gxbeM6Jx2fFb"
      },
      "outputs": [],
      "source": [
        "#To convert the above code using lambda ,we have to do 2 changes:\n",
        "\n",
        "#Remove the function square( )\n",
        "\n",
        "#Rewrite this function as lambda in place of first argument while calling the function map( )\n"
      ]
    },
    {
      "cell_type": "code",
      "execution_count": null,
      "metadata": {
        "id": "jJAhDIri2fFb"
      },
      "outputs": [],
      "source": [
        "map(lambda num: num*num,mynums)"
      ]
    },
    {
      "cell_type": "code",
      "execution_count": null,
      "metadata": {
        "id": "xiv1ICit2fFb",
        "outputId": "e06c6183-e72c-40c2-98aa-0ce738e949a9"
      },
      "outputs": [
        {
          "name": "stdout",
          "output_type": "stream",
          "text": [
            "[1, 4, 9, 16, 25]\n"
          ]
        }
      ],
      "source": [
        "#Following will be the resultant code:\n",
        "\n",
        "mynums=[1,2,3,4,5]\n",
        "sqrnum=list(map(lambda num: num*num,mynums))\n",
        "print(sqrnum)\n"
      ]
    },
    {
      "cell_type": "markdown",
      "metadata": {
        "id": "TEF-XEiE2fFb"
      },
      "source": [
        "### Exercise1"
      ]
    },
    {
      "cell_type": "markdown",
      "metadata": {
        "id": "kALu8t9I2fFc"
      },
      "source": [
        "Write a lambda expression that accepts a string as argument and returns it’s first character\n",
        "\n",
        "Now use this lambda expression in map( ) function \n",
        "to work on for first 3 month names\n"
      ]
    },
    {
      "cell_type": "code",
      "execution_count": null,
      "metadata": {
        "id": "2lLETAE_2fFc",
        "outputId": "2e917755-4811-4401-ddbd-1bf51e19cee6"
      },
      "outputs": [
        {
          "data": {
            "text/plain": [
              "['b', 's', 'k']"
            ]
          },
          "execution_count": 56,
          "metadata": {},
          "output_type": "execute_result"
        }
      ],
      "source": [
        "list(map(lambda x:x[0],['bunny','sudhanshu','krish']))"
      ]
    },
    {
      "cell_type": "code",
      "execution_count": null,
      "metadata": {
        "id": "VLQiv7Q-2fFc"
      },
      "outputs": [],
      "source": [
        "months=[\"January\",\"February\",\"March\"]\n",
        "print(list(map(lambda mystring: mystring[0],months)))\n",
        "\n"
      ]
    },
    {
      "cell_type": "markdown",
      "metadata": {
        "id": "2yc7uoIM2fFc"
      },
      "source": [
        "### Exercise2"
      ]
    },
    {
      "cell_type": "markdown",
      "metadata": {
        "id": "sC792hOu2fFd"
      },
      "source": [
        "Write a lambda expression that accepts a string as argument and returns the word EVEN if the string is of even length and returns it’s first character if the string is of odd length\n",
        "\n",
        "Now use this lambda expression in map( ) function \n",
        "to work on for first 3 month names\n"
      ]
    },
    {
      "cell_type": "code",
      "execution_count": null,
      "metadata": {
        "id": "WxAIjn4u2fFd",
        "outputId": "a5bb81c4-43ce-426a-e130-ef56dab6b045"
      },
      "outputs": [
        {
          "data": {
            "text/plain": [
              "['b', 'EVEN', 'k']"
            ]
          },
          "execution_count": 61,
          "metadata": {},
          "output_type": "execute_result"
        }
      ],
      "source": [
        "list(map(lambda x:\"EVEN\" if len(x)%2==0 else x[0],['bunny','sudhansh','krish']))"
      ]
    },
    {
      "cell_type": "code",
      "execution_count": null,
      "metadata": {
        "id": "MX72y76x2fFd"
      },
      "outputs": [],
      "source": [
        "months=[\"January\",\"February\",\"March\"]\n",
        "print(list(map(lambda mystring: \"EVEN\" if len(mystring)%2==0 else \n",
        "mystring[0],months)))\n",
        "\n"
      ]
    },
    {
      "cell_type": "markdown",
      "metadata": {
        "id": "yJ1LPSP42fFd"
      },
      "source": [
        "### Exercise3"
      ]
    },
    {
      "cell_type": "markdown",
      "metadata": {
        "id": "nPUrdMNm2fFe"
      },
      "source": [
        "Write a lambda expression that accepts a character as argument and returns True if it is a vowel otherwise False\n",
        "\n",
        "Now ask the user to input his/her name and display \n",
        "only the vowels in the name . In case the name does \n",
        "not contain any vowel display the message No vowels \n",
        "in your name\n"
      ]
    },
    {
      "cell_type": "code",
      "execution_count": null,
      "metadata": {
        "id": "TkfA-wRu2fFe",
        "outputId": "62e78ca0-ff4a-4a9c-e4fd-0e927301ed25"
      },
      "outputs": [
        {
          "name": "stdout",
          "output_type": "stream",
          "text": [
            "[2, 4, 6]\n"
          ]
        }
      ],
      "source": [
        "mynums=[1,2,3,4,5,6]\n",
        "print(list(filter(lambda num:num%2==0 ,mynums)))\n"
      ]
    },
    {
      "cell_type": "code",
      "execution_count": null,
      "metadata": {
        "id": "pZHGIaUZ2fFe"
      },
      "outputs": [],
      "source": [
        "Write a lambda expression that accepts a character as argument and returns True if it is a vowel otherwise False\n",
        "\n",
        "Now ask the user to input his/her name and display \n",
        "only the vowels in the name . In case the name does \n",
        "not contain any vowel display the message No vowels \n",
        "in your name\n"
      ]
    },
    {
      "cell_type": "code",
      "execution_count": null,
      "metadata": {
        "id": "NLoaJWEH2fFe"
      },
      "outputs": [],
      "source": [
        "name=input(\"Enter your name:\")\n",
        "vowels=list(filter(lambda ch: ch in \"aeiou\" ,name))\n",
        "if len(vowels)==0:\n",
        "    print(\"No vowels in your name\")\n",
        "else:\n",
        "    print(\"Vowels in your name are:\",vowels)\n"
      ]
    },
    {
      "cell_type": "code",
      "execution_count": null,
      "metadata": {
        "id": "9I1seR6X2fFf"
      },
      "outputs": [],
      "source": [
        "def between(number, min=0, max=1000):\n",
        "    return max > number > min\n",
        "\n",
        "# Only returns number between 10 and 1000\n",
        "filter(lambda x: between(x, min=10), range(10000))"
      ]
    },
    {
      "cell_type": "code",
      "execution_count": null,
      "metadata": {
        "id": "-ncKf0Mq2fFf"
      },
      "outputs": [],
      "source": [
        "a=42"
      ]
    },
    {
      "cell_type": "code",
      "execution_count": null,
      "metadata": {
        "id": "jJSZDfiD2fFf"
      },
      "outputs": [],
      "source": [
        "b=42"
      ]
    },
    {
      "cell_type": "code",
      "execution_count": null,
      "metadata": {
        "id": "6597f7Zx2fFf"
      },
      "outputs": [],
      "source": [
        "c=42"
      ]
    },
    {
      "cell_type": "code",
      "execution_count": null,
      "metadata": {
        "id": "gXX0ytJN2fFg",
        "outputId": "aad0d0cd-360f-42c9-8a3a-3472b50b9e6b"
      },
      "outputs": [
        {
          "data": {
            "text/plain": [
              "140703981190208"
            ]
          },
          "execution_count": 66,
          "metadata": {},
          "output_type": "execute_result"
        }
      ],
      "source": [
        "id(a)"
      ]
    },
    {
      "cell_type": "code",
      "execution_count": null,
      "metadata": {
        "id": "iqGziBVP2fFg",
        "outputId": "8c554fef-e72d-4cf8-92b0-9ca8220ae86e"
      },
      "outputs": [
        {
          "data": {
            "text/plain": [
              "140703981190208"
            ]
          },
          "execution_count": 67,
          "metadata": {},
          "output_type": "execute_result"
        }
      ],
      "source": [
        "id(b)"
      ]
    },
    {
      "cell_type": "code",
      "execution_count": null,
      "metadata": {
        "id": "TadVjJ7x2fFg",
        "outputId": "10b9fcda-7c01-4d7e-a0d0-cf77223b2672"
      },
      "outputs": [
        {
          "data": {
            "text/plain": [
              "140703981190208"
            ]
          },
          "execution_count": 68,
          "metadata": {},
          "output_type": "execute_result"
        }
      ],
      "source": [
        "id(c)"
      ]
    },
    {
      "cell_type": "code",
      "execution_count": null,
      "metadata": {
        "id": "PhlRhEyr2fFh"
      },
      "outputs": [],
      "source": [
        "a=43"
      ]
    },
    {
      "cell_type": "code",
      "execution_count": null,
      "metadata": {
        "id": "gGPPPgZL2fFh",
        "outputId": "736b1a1d-fe76-45b9-a74e-f216e3e2a3dc"
      },
      "outputs": [
        {
          "data": {
            "text/plain": [
              "140703981190240"
            ]
          },
          "execution_count": 70,
          "metadata": {},
          "output_type": "execute_result"
        }
      ],
      "source": [
        "id(a)"
      ]
    },
    {
      "cell_type": "code",
      "execution_count": null,
      "metadata": {
        "id": "I211IkE92fFh",
        "outputId": "69699a54-0785-4081-9616-cb612485d9d6"
      },
      "outputs": [
        {
          "data": {
            "text/plain": [
              "140703981190208"
            ]
          },
          "execution_count": 71,
          "metadata": {},
          "output_type": "execute_result"
        }
      ],
      "source": [
        "id(b)"
      ]
    },
    {
      "cell_type": "code",
      "execution_count": null,
      "metadata": {
        "id": "Kh63ma5k2fFh",
        "outputId": "543d4232-f536-4ef6-d670-df5a5a0d805c"
      },
      "outputs": [
        {
          "data": {
            "text/plain": [
              "140703981190208"
            ]
          },
          "execution_count": 72,
          "metadata": {},
          "output_type": "execute_result"
        }
      ],
      "source": [
        "id(c)"
      ]
    },
    {
      "cell_type": "code",
      "execution_count": null,
      "metadata": {
        "id": "CbGIFAP82fFi",
        "outputId": "034e7071-18dc-4486-9ef4-80e3b67bbc61"
      },
      "outputs": [
        {
          "data": {
            "text/plain": [
              "42"
            ]
          },
          "execution_count": 73,
          "metadata": {},
          "output_type": "execute_result"
        }
      ],
      "source": [
        "b"
      ]
    },
    {
      "cell_type": "code",
      "execution_count": null,
      "metadata": {
        "id": "2803NoZt2fFi",
        "outputId": "00f42569-b1b0-44c4-db6d-a88c463d040a"
      },
      "outputs": [
        {
          "data": {
            "text/plain": [
              "42"
            ]
          },
          "execution_count": 74,
          "metadata": {},
          "output_type": "execute_result"
        }
      ],
      "source": [
        "c"
      ]
    },
    {
      "cell_type": "code",
      "execution_count": null,
      "metadata": {
        "id": "2ym-oXTi2fFi",
        "outputId": "5714f346-407a-45cd-fa3b-b268c2babf18"
      },
      "outputs": [
        {
          "data": {
            "text/plain": [
              "43"
            ]
          },
          "execution_count": 75,
          "metadata": {},
          "output_type": "execute_result"
        }
      ],
      "source": [
        "a"
      ]
    },
    {
      "cell_type": "code",
      "execution_count": null,
      "metadata": {
        "id": "p2EXBVky2fFj"
      },
      "outputs": [],
      "source": [
        "a=42"
      ]
    },
    {
      "cell_type": "code",
      "execution_count": null,
      "metadata": {
        "id": "UPWFjT4o2fFj",
        "outputId": "760fd848-610c-4e89-a40a-ba01ae0daa58"
      },
      "outputs": [
        {
          "data": {
            "text/plain": [
              "140703981190208"
            ]
          },
          "execution_count": 77,
          "metadata": {},
          "output_type": "execute_result"
        }
      ],
      "source": [
        "id(a)"
      ]
    },
    {
      "cell_type": "code",
      "execution_count": null,
      "metadata": {
        "id": "HV3K0i9w2fFj"
      },
      "outputs": [],
      "source": [
        "a=10"
      ]
    },
    {
      "cell_type": "code",
      "execution_count": null,
      "metadata": {
        "id": "eNdFYzyb2fFj",
        "outputId": "213a2516-8485-4420-d300-d2a7fab32235"
      },
      "outputs": [
        {
          "data": {
            "text/plain": [
              "140703981189184"
            ]
          },
          "execution_count": 79,
          "metadata": {},
          "output_type": "execute_result"
        }
      ],
      "source": [
        "id(a)"
      ]
    },
    {
      "cell_type": "code",
      "execution_count": null,
      "metadata": {
        "id": "uRc6FY8e2fFk"
      },
      "outputs": [],
      "source": [
        "a=20"
      ]
    },
    {
      "cell_type": "code",
      "execution_count": null,
      "metadata": {
        "id": "5qbqiXnN2fFk",
        "outputId": "4528c13a-cc01-46c8-eb00-5f254a8f1dba"
      },
      "outputs": [
        {
          "data": {
            "text/plain": [
              "140703981189504"
            ]
          },
          "execution_count": 81,
          "metadata": {},
          "output_type": "execute_result"
        }
      ],
      "source": [
        "id(20)"
      ]
    },
    {
      "cell_type": "code",
      "execution_count": null,
      "metadata": {
        "id": "Jc4gtdiJ2fFk"
      },
      "outputs": [],
      "source": [
        "a=30"
      ]
    },
    {
      "cell_type": "code",
      "execution_count": null,
      "metadata": {
        "id": "WqWzfd092fFk",
        "outputId": "95d0016b-4c81-4aff-cea6-a7b7d516362a"
      },
      "outputs": [
        {
          "data": {
            "text/plain": [
              "140703981189824"
            ]
          },
          "execution_count": 84,
          "metadata": {},
          "output_type": "execute_result"
        }
      ],
      "source": [
        "id(a)"
      ]
    },
    {
      "cell_type": "code",
      "execution_count": null,
      "metadata": {
        "id": "xXPRTUo62fFl"
      },
      "outputs": [],
      "source": [
        "a=\"sunny\""
      ]
    },
    {
      "cell_type": "code",
      "execution_count": null,
      "metadata": {
        "id": "2rhRXlsT2fFl"
      },
      "outputs": [],
      "source": [
        "b=\"sudhanshu\""
      ]
    },
    {
      "cell_type": "code",
      "execution_count": null,
      "metadata": {
        "id": "WHKJgV6c2fFm",
        "outputId": "c3807ad2-d093-4604-fc7c-bf7d768894d2"
      },
      "outputs": [
        {
          "data": {
            "text/plain": [
              "False"
            ]
          },
          "execution_count": 87,
          "metadata": {},
          "output_type": "execute_result"
        }
      ],
      "source": [
        "a is b"
      ]
    },
    {
      "cell_type": "code",
      "execution_count": null,
      "metadata": {
        "id": "xy19BQKI2fFn",
        "outputId": "b68f2a6f-8bd0-4ff4-fe56-0a90431e3457"
      },
      "outputs": [
        {
          "data": {
            "text/plain": [
              "2130760172912"
            ]
          },
          "execution_count": 88,
          "metadata": {},
          "output_type": "execute_result"
        }
      ],
      "source": [
        "id(a)"
      ]
    },
    {
      "cell_type": "code",
      "execution_count": null,
      "metadata": {
        "id": "MMhvPP9B2fFo",
        "outputId": "be063a8c-fc20-4e59-801f-d05a7fe8e8e7"
      },
      "outputs": [
        {
          "data": {
            "text/plain": [
              "2130793892016"
            ]
          },
          "execution_count": 89,
          "metadata": {},
          "output_type": "execute_result"
        }
      ],
      "source": [
        "id(b)"
      ]
    },
    {
      "cell_type": "code",
      "execution_count": null,
      "metadata": {
        "id": "vW8y2ivr2fFo"
      },
      "outputs": [],
      "source": [
        "a=\"ravi\""
      ]
    },
    {
      "cell_type": "code",
      "execution_count": null,
      "metadata": {
        "id": "jgXzudIC2fFp"
      },
      "outputs": [],
      "source": [
        "b=\"ravi\""
      ]
    },
    {
      "cell_type": "code",
      "execution_count": null,
      "metadata": {
        "id": "6QfIBFZE2fFp",
        "outputId": "7f89bd5e-0433-4038-9bdc-25649d40cc31"
      },
      "outputs": [
        {
          "data": {
            "text/plain": [
              "True"
            ]
          },
          "execution_count": 92,
          "metadata": {},
          "output_type": "execute_result"
        }
      ],
      "source": [
        "a is b"
      ]
    },
    {
      "cell_type": "code",
      "execution_count": null,
      "metadata": {
        "id": "FT78iGt52fFp",
        "outputId": "4a4f7a73-427f-4027-ebf0-35af2aa694aa"
      },
      "outputs": [
        {
          "data": {
            "text/plain": [
              "2130794293872"
            ]
          },
          "execution_count": 93,
          "metadata": {},
          "output_type": "execute_result"
        }
      ],
      "source": [
        "id(a)"
      ]
    },
    {
      "cell_type": "code",
      "execution_count": null,
      "metadata": {
        "id": "VC5VVZ9j2fFp",
        "outputId": "5995fa3b-e779-4071-cedc-8ffd80cb78df"
      },
      "outputs": [
        {
          "data": {
            "text/plain": [
              "2130794293872"
            ]
          },
          "execution_count": 94,
          "metadata": {},
          "output_type": "execute_result"
        }
      ],
      "source": [
        "id(b)"
      ]
    },
    {
      "cell_type": "code",
      "execution_count": null,
      "metadata": {
        "id": "MdP_PHWE2fFq"
      },
      "outputs": [],
      "source": [
        "a=[1,2,3,4,5]"
      ]
    },
    {
      "cell_type": "code",
      "execution_count": null,
      "metadata": {
        "id": "b1zO3lfu2fFq",
        "outputId": "510743a2-a828-491f-ec91-6769b9bad36b"
      },
      "outputs": [
        {
          "data": {
            "text/plain": [
              "2130794313536"
            ]
          },
          "execution_count": 96,
          "metadata": {},
          "output_type": "execute_result"
        }
      ],
      "source": [
        "id(a)"
      ]
    },
    {
      "cell_type": "code",
      "execution_count": null,
      "metadata": {
        "id": "SgLDuqZ62fFq",
        "outputId": "43503a2c-43d5-4451-992f-0ba7f1d2ab26"
      },
      "outputs": [
        {
          "data": {
            "text/plain": [
              "list"
            ]
          },
          "execution_count": 97,
          "metadata": {},
          "output_type": "execute_result"
        }
      ],
      "source": [
        "type(a)"
      ]
    },
    {
      "cell_type": "code",
      "execution_count": null,
      "metadata": {
        "id": "QPRuIZBL2fFr"
      },
      "outputs": [],
      "source": [
        "a[3]=7"
      ]
    },
    {
      "cell_type": "code",
      "execution_count": null,
      "metadata": {
        "id": "m6XpMLim2fFr",
        "outputId": "354186e9-2270-45cb-a062-02e328a4aa3b"
      },
      "outputs": [
        {
          "data": {
            "text/plain": [
              "[1, 2, 3, 7, 5]"
            ]
          },
          "execution_count": 99,
          "metadata": {},
          "output_type": "execute_result"
        }
      ],
      "source": [
        "a"
      ]
    },
    {
      "cell_type": "code",
      "execution_count": null,
      "metadata": {
        "id": "xf4VU0XS2fFr",
        "outputId": "c167d2fb-cac6-4274-97fe-e8105389ecdd"
      },
      "outputs": [
        {
          "data": {
            "text/plain": [
              "2130794313536"
            ]
          },
          "execution_count": 100,
          "metadata": {},
          "output_type": "execute_result"
        }
      ],
      "source": [
        "id(a)"
      ]
    },
    {
      "cell_type": "code",
      "execution_count": null,
      "metadata": {
        "id": "OrnMZc7R2fFr"
      },
      "outputs": [],
      "source": [
        "a=42"
      ]
    },
    {
      "cell_type": "code",
      "execution_count": null,
      "metadata": {
        "id": "A-G_VZh82fFs",
        "outputId": "3c405066-a075-41bc-b6d6-1d994bfff044"
      },
      "outputs": [
        {
          "data": {
            "text/plain": [
              "140703981190208"
            ]
          },
          "execution_count": 102,
          "metadata": {},
          "output_type": "execute_result"
        }
      ],
      "source": [
        "id(a)"
      ]
    },
    {
      "cell_type": "code",
      "execution_count": null,
      "metadata": {
        "id": "MNTDBs-N2fFs"
      },
      "outputs": [],
      "source": [
        "a=43"
      ]
    },
    {
      "cell_type": "code",
      "execution_count": null,
      "metadata": {
        "id": "a82wx4F12fFs",
        "outputId": "ea086ab1-9024-4a41-f720-b5c71e10821f"
      },
      "outputs": [
        {
          "data": {
            "text/plain": [
              "140703981190240"
            ]
          },
          "execution_count": 104,
          "metadata": {},
          "output_type": "execute_result"
        }
      ],
      "source": [
        "id(a)"
      ]
    },
    {
      "cell_type": "code",
      "execution_count": null,
      "metadata": {
        "id": "s5wH9w-62fFs"
      },
      "outputs": [],
      "source": [
        "tup=(1,2,3,4,5)"
      ]
    },
    {
      "cell_type": "code",
      "execution_count": null,
      "metadata": {
        "id": "pHU04eti2fFt",
        "outputId": "aa424783-35b3-4faa-ddf1-983ccea3fc27"
      },
      "outputs": [
        {
          "ename": "TypeError",
          "evalue": "'tuple' object does not support item assignment",
          "output_type": "error",
          "traceback": [
            "\u001b[1;31m---------------------------------------------------------------------------\u001b[0m",
            "\u001b[1;31mTypeError\u001b[0m                                 Traceback (most recent call last)",
            "\u001b[1;32m<ipython-input-106-79950056ad54>\u001b[0m in \u001b[0;36m<module>\u001b[1;34m\u001b[0m\n\u001b[1;32m----> 1\u001b[1;33m \u001b[0mtup\u001b[0m\u001b[1;33m[\u001b[0m\u001b[1;36m0\u001b[0m\u001b[1;33m]\u001b[0m\u001b[1;33m=\u001b[0m\u001b[1;36m4\u001b[0m\u001b[1;33m\u001b[0m\u001b[1;33m\u001b[0m\u001b[0m\n\u001b[0m",
            "\u001b[1;31mTypeError\u001b[0m: 'tuple' object does not support item assignment"
          ]
        }
      ],
      "source": [
        "tup[0]=4"
      ]
    },
    {
      "cell_type": "code",
      "execution_count": null,
      "metadata": {
        "id": "6V_X7x292fFt",
        "outputId": "b95d1680-ea36-4b2a-f851-0f3185653051"
      },
      "outputs": [
        {
          "data": {
            "text/plain": [
              "2130761246416"
            ]
          },
          "execution_count": 107,
          "metadata": {},
          "output_type": "execute_result"
        }
      ],
      "source": [
        "id(tup)"
      ]
    },
    {
      "cell_type": "code",
      "execution_count": null,
      "metadata": {
        "id": "IaStQDna2fFt"
      },
      "outputs": [],
      "source": [
        "tup=(787,87348,98734985)"
      ]
    },
    {
      "cell_type": "code",
      "execution_count": null,
      "metadata": {
        "id": "zo4L0e4Q2fFu",
        "outputId": "28c41139-1f64-4aaa-f9da-9e0ee76fdc17"
      },
      "outputs": [
        {
          "data": {
            "text/plain": [
              "2130793806976"
            ]
          },
          "execution_count": 109,
          "metadata": {},
          "output_type": "execute_result"
        }
      ],
      "source": [
        "id(tup)"
      ]
    },
    {
      "cell_type": "code",
      "execution_count": null,
      "metadata": {
        "id": "pd-FQgUE2fFu"
      },
      "outputs": [],
      "source": [
        ""
      ]
    }
  ],
  "metadata": {
    "colab": {
      "collapsed_sections": [],
      "name": "07 Functions_Revision.ipynb",
      "provenance": []
    },
    "kernelspec": {
      "display_name": "Python 3",
      "language": "python",
      "name": "python3"
    },
    "language_info": {
      "codemirror_mode": {
        "name": "ipython",
        "version": 3
      },
      "file_extension": ".py",
      "mimetype": "text/x-python",
      "name": "python",
      "nbconvert_exporter": "python",
      "pygments_lexer": "ipython3",
      "version": "3.8.3"
    }
  },
  "nbformat": 4,
  "nbformat_minor": 0
}
