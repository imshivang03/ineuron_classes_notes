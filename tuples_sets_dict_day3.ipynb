{
  "cells": [
    {
      "cell_type": "code",
      "execution_count": null,
      "metadata": {
        "id": "lfMrOL5DAW4z"
      },
      "outputs": [],
      "source": [
        "t = (1,2,3,4,5)"
      ]
    },
    {
      "cell_type": "code",
      "execution_count": null,
      "metadata": {
        "id": "YiT2Nes6AW4_",
        "outputId": "4934d7d1-45d9-4405-e3cf-c68cc01030f6"
      },
      "outputs": [
        {
          "data": {
            "text/plain": [
              "tuple"
            ]
          },
          "execution_count": 2,
          "metadata": {},
          "output_type": "execute_result"
        }
      ],
      "source": [
        "type(t)"
      ]
    },
    {
      "cell_type": "code",
      "execution_count": null,
      "metadata": {
        "id": "iXuPvKKJAW5D"
      },
      "outputs": [],
      "source": [
        "t1 = (\"sudh\" , 345 , 45+78j , 546.56 ,True)"
      ]
    },
    {
      "cell_type": "code",
      "execution_count": null,
      "metadata": {
        "id": "qK89Z7WFAW5F"
      },
      "outputs": [],
      "source": [
        " l = [\"sudh\" , 345 , 45+78j , 546.56 ,True]"
      ]
    },
    {
      "cell_type": "code",
      "execution_count": null,
      "metadata": {
        "id": "CS3OqIrdAW5H",
        "outputId": "4e3ed2e4-0375-4ee8-a2d9-7a71607e19be"
      },
      "outputs": [
        {
          "data": {
            "text/plain": [
              "tuple"
            ]
          },
          "execution_count": 6,
          "metadata": {},
          "output_type": "execute_result"
        }
      ],
      "source": [
        "type(t1)"
      ]
    },
    {
      "cell_type": "code",
      "execution_count": null,
      "metadata": {
        "id": "W8LUrbb_AW5L",
        "outputId": "26049e8e-76a3-4bcc-e0fc-7c0258423281"
      },
      "outputs": [
        {
          "data": {
            "text/plain": [
              "list"
            ]
          },
          "execution_count": 7,
          "metadata": {},
          "output_type": "execute_result"
        }
      ],
      "source": [
        "type(l)"
      ]
    },
    {
      "cell_type": "code",
      "execution_count": null,
      "metadata": {
        "id": "MXEuk9YyAW5P"
      },
      "outputs": [],
      "source": [
        "t2 = ()"
      ]
    },
    {
      "cell_type": "markdown",
      "source": [
        ""
      ],
      "metadata": {
        "id": "Ei1ZAps0AdqV"
      }
    },
    {
      "cell_type": "code",
      "execution_count": null,
      "metadata": {
        "id": "_nFONGdxAW5R",
        "outputId": "11c2257d-4381-44f5-dc1a-b4cbbf960e2e"
      },
      "outputs": [
        {
          "data": {
            "text/plain": [
              "tuple"
            ]
          },
          "execution_count": 9,
          "metadata": {},
          "output_type": "execute_result"
        }
      ],
      "source": [
        "type(t2)"
      ]
    },
    {
      "cell_type": "code",
      "execution_count": null,
      "metadata": {
        "id": "Y_bekw-GAW5U",
        "outputId": "5cc67659-f4a0-4d3e-c9e1-d4a01407e27e"
      },
      "outputs": [
        {
          "data": {
            "text/plain": [
              "('sudh', 345, (45+78j), 546.56, True)"
            ]
          },
          "execution_count": 10,
          "metadata": {},
          "output_type": "execute_result"
        }
      ],
      "source": [
        "t1"
      ]
    },
    {
      "cell_type": "code",
      "execution_count": null,
      "metadata": {
        "id": "XtpPqPSZAW5W",
        "outputId": "38cc4ce9-0b19-42e5-e0c5-8cd3dd2fb06f"
      },
      "outputs": [
        {
          "data": {
            "text/plain": [
              "['sudh', 345, (45+78j), 546.56, True]"
            ]
          },
          "execution_count": 11,
          "metadata": {},
          "output_type": "execute_result"
        }
      ],
      "source": [
        "l"
      ]
    },
    {
      "cell_type": "code",
      "execution_count": null,
      "metadata": {
        "id": "gEVzUj3jAW5Y",
        "outputId": "83ef0698-90a8-4679-8d6f-9c50d06934f7"
      },
      "outputs": [
        {
          "data": {
            "text/plain": [
              "['sudh', 345]"
            ]
          },
          "execution_count": 12,
          "metadata": {},
          "output_type": "execute_result"
        }
      ],
      "source": [
        "l[0:2]"
      ]
    },
    {
      "cell_type": "code",
      "execution_count": null,
      "metadata": {
        "id": "Z0FzU0zPAW5a",
        "outputId": "edb0284e-f1f0-4a89-9ce4-0dc2866fd7b9"
      },
      "outputs": [
        {
          "data": {
            "text/plain": [
              "('sudh', 345)"
            ]
          },
          "execution_count": 13,
          "metadata": {},
          "output_type": "execute_result"
        }
      ],
      "source": [
        "t1[0:2]"
      ]
    },
    {
      "cell_type": "code",
      "execution_count": null,
      "metadata": {
        "id": "I1I1bPU_AW5e",
        "outputId": "8cc697c5-12cf-425f-8381-a24f6e6e5823"
      },
      "outputs": [
        {
          "data": {
            "text/plain": [
              "(True, 546.56, (45+78j), 345, 'sudh')"
            ]
          },
          "execution_count": 14,
          "metadata": {},
          "output_type": "execute_result"
        }
      ],
      "source": [
        "t1[::-1]"
      ]
    },
    {
      "cell_type": "code",
      "execution_count": null,
      "metadata": {
        "id": "1tOiVa-NAW5g",
        "outputId": "915efacc-7260-4fd3-8085-c1b3cf294efd"
      },
      "outputs": [
        {
          "data": {
            "text/plain": [
              "True"
            ]
          },
          "execution_count": 15,
          "metadata": {},
          "output_type": "execute_result"
        }
      ],
      "source": [
        "t1[-1]"
      ]
    },
    {
      "cell_type": "code",
      "execution_count": null,
      "metadata": {
        "id": "3aSMhWuyAW5i",
        "outputId": "4dc0a5cb-54be-48c8-8a9b-1cc9f59fcddc"
      },
      "outputs": [
        {
          "data": {
            "text/plain": [
              "('sudh', 345, (45+78j), 546.56, True)"
            ]
          },
          "execution_count": 16,
          "metadata": {},
          "output_type": "execute_result"
        }
      ],
      "source": [
        "t1"
      ]
    },
    {
      "cell_type": "code",
      "execution_count": null,
      "metadata": {
        "id": "GNwhoU1EAW5j",
        "outputId": "4d99763f-2774-4f9b-e19a-774df9c0c305"
      },
      "outputs": [
        {
          "data": {
            "text/plain": [
              "('sudh', (45+78j), True)"
            ]
          },
          "execution_count": 17,
          "metadata": {},
          "output_type": "execute_result"
        }
      ],
      "source": [
        "t1[0::2]"
      ]
    },
    {
      "cell_type": "code",
      "execution_count": null,
      "metadata": {
        "id": "SIHxgKxUAW5k",
        "outputId": "d644e191-8007-4a19-f02e-461e6326134b"
      },
      "outputs": [
        {
          "data": {
            "text/plain": [
              "['sudh', 345, (45+78j), 546.56, True]"
            ]
          },
          "execution_count": 18,
          "metadata": {},
          "output_type": "execute_result"
        }
      ],
      "source": [
        "l"
      ]
    },
    {
      "cell_type": "code",
      "execution_count": null,
      "metadata": {
        "id": "t8KIAd8TAW5l"
      },
      "outputs": [],
      "source": [
        "l1 = [4,5,6,7]"
      ]
    },
    {
      "cell_type": "code",
      "execution_count": null,
      "metadata": {
        "id": "eeFJA7smAW5n"
      },
      "outputs": [],
      "source": [
        "l[0] = \"kumar\""
      ]
    },
    {
      "cell_type": "code",
      "execution_count": null,
      "metadata": {
        "id": "GJr421XxAW5n",
        "outputId": "aef9b2ef-fb5b-4eb1-d7fd-97db87014017"
      },
      "outputs": [
        {
          "data": {
            "text/plain": [
              "['kumar', 345, (45+78j), 546.56, True]"
            ]
          },
          "execution_count": 22,
          "metadata": {},
          "output_type": "execute_result"
        }
      ],
      "source": [
        "l"
      ]
    },
    {
      "cell_type": "code",
      "execution_count": null,
      "metadata": {
        "id": "DHZvEvwkAW5p",
        "outputId": "9ce18f41-8a0d-42cd-afe5-d57ccd2c8a33"
      },
      "outputs": [
        {
          "data": {
            "text/plain": [
              "('sudh', 345, (45+78j), 546.56, True)"
            ]
          },
          "execution_count": 23,
          "metadata": {},
          "output_type": "execute_result"
        }
      ],
      "source": [
        "t1"
      ]
    },
    {
      "cell_type": "code",
      "execution_count": null,
      "metadata": {
        "id": "I09mYafnAW5q",
        "outputId": "49cbb13f-b828-4003-8de4-4ea6bd4e4d62"
      },
      "outputs": [
        {
          "ename": "TypeError",
          "evalue": "'tuple' object does not support item assignment",
          "output_type": "error",
          "traceback": [
            "\u001b[1;31m---------------------------------------------------------------------------\u001b[0m",
            "\u001b[1;31mTypeError\u001b[0m                                 Traceback (most recent call last)",
            "\u001b[1;32m<ipython-input-25-5bd21952e310>\u001b[0m in \u001b[0;36m<module>\u001b[1;34m\u001b[0m\n\u001b[1;32m----> 1\u001b[1;33m \u001b[0mt1\u001b[0m\u001b[1;33m[\u001b[0m\u001b[1;36m0\u001b[0m\u001b[1;33m]\u001b[0m \u001b[1;33m=\u001b[0m \u001b[1;34m\"xyz\"\u001b[0m\u001b[1;33m\u001b[0m\u001b[1;33m\u001b[0m\u001b[0m\n\u001b[0m",
            "\u001b[1;31mTypeError\u001b[0m: 'tuple' object does not support item assignment"
          ]
        }
      ],
      "source": [
        "t1[0] = \"xyz\""
      ]
    },
    {
      "cell_type": "code",
      "execution_count": null,
      "metadata": {
        "id": "9si5Hoj_AW5r"
      },
      "outputs": [],
      "source": [
        "s = \"sudh\""
      ]
    },
    {
      "cell_type": "code",
      "execution_count": null,
      "metadata": {
        "id": "thlKYb_DAW5s",
        "outputId": "b186f69a-a87b-4299-d36d-9205af3f1bfa"
      },
      "outputs": [
        {
          "ename": "TypeError",
          "evalue": "'str' object does not support item assignment",
          "output_type": "error",
          "traceback": [
            "\u001b[1;31m---------------------------------------------------------------------------\u001b[0m",
            "\u001b[1;31mTypeError\u001b[0m                                 Traceback (most recent call last)",
            "\u001b[1;32m<ipython-input-28-4911d8b25eb9>\u001b[0m in \u001b[0;36m<module>\u001b[1;34m\u001b[0m\n\u001b[1;32m----> 1\u001b[1;33m \u001b[0ms\u001b[0m\u001b[1;33m[\u001b[0m\u001b[1;36m0\u001b[0m\u001b[1;33m]\u001b[0m \u001b[1;33m=\u001b[0m \u001b[1;36m45\u001b[0m\u001b[1;33m\u001b[0m\u001b[1;33m\u001b[0m\u001b[0m\n\u001b[0m",
            "\u001b[1;31mTypeError\u001b[0m: 'str' object does not support item assignment"
          ]
        }
      ],
      "source": [
        "s[0] = 45"
      ]
    },
    {
      "cell_type": "code",
      "execution_count": null,
      "metadata": {
        "id": "VE-VKlkrAW5u",
        "outputId": "697219c0-ff46-4bf1-f99f-1fc540674dc6"
      },
      "outputs": [
        {
          "data": {
            "text/plain": [
              "('sudh', 345, (45+78j), 546.56, True)"
            ]
          },
          "execution_count": 29,
          "metadata": {},
          "output_type": "execute_result"
        }
      ],
      "source": [
        "t1"
      ]
    },
    {
      "cell_type": "code",
      "execution_count": null,
      "metadata": {
        "id": "lBX5XqN6AW5v"
      },
      "outputs": [],
      "source": [
        "t2 = (34,56,56,56,5,656)"
      ]
    },
    {
      "cell_type": "code",
      "execution_count": null,
      "metadata": {
        "id": "C9Sht9xbAW5w",
        "outputId": "7c894ab2-daf4-47e7-aa54-9bc0fa8dfa08"
      },
      "outputs": [
        {
          "data": {
            "text/plain": [
              "('sudh', 345, (45+78j), 546.56, True, 34, 56, 56, 56, 5, 656)"
            ]
          },
          "execution_count": 31,
          "metadata": {},
          "output_type": "execute_result"
        }
      ],
      "source": [
        "t1+t2"
      ]
    },
    {
      "cell_type": "code",
      "execution_count": null,
      "metadata": {
        "id": "MG-yOKPXAW5x",
        "outputId": "426888d1-eb05-42ed-de0e-618f27b66926"
      },
      "outputs": [
        {
          "data": {
            "text/plain": [
              "['kumar', 345, (45+78j), 546.56, True]"
            ]
          },
          "execution_count": 32,
          "metadata": {},
          "output_type": "execute_result"
        }
      ],
      "source": [
        "l"
      ]
    },
    {
      "cell_type": "code",
      "execution_count": null,
      "metadata": {
        "id": "BUVamzTXAW5x",
        "outputId": "8ce69059-8024-42f7-d7f8-338b519d95ab"
      },
      "outputs": [
        {
          "data": {
            "text/plain": [
              "[4, 5, 6, 7]"
            ]
          },
          "execution_count": 33,
          "metadata": {},
          "output_type": "execute_result"
        }
      ],
      "source": [
        "l1"
      ]
    },
    {
      "cell_type": "code",
      "execution_count": null,
      "metadata": {
        "id": "DfQwMcAlAW5y",
        "outputId": "4b470d05-fd13-4ce2-8378-ebd1c1f31f71"
      },
      "outputs": [
        {
          "data": {
            "text/plain": [
              "['kumar', 345, (45+78j), 546.56, True, 4, 5, 6, 7]"
            ]
          },
          "execution_count": 34,
          "metadata": {},
          "output_type": "execute_result"
        }
      ],
      "source": [
        "l+l1"
      ]
    },
    {
      "cell_type": "code",
      "execution_count": null,
      "metadata": {
        "id": "2Eaz9en0AW5z",
        "outputId": "c9cc1a91-01bc-471e-c524-2858980de9a3"
      },
      "outputs": [
        {
          "data": {
            "text/plain": [
              "('sudh', 345, (45+78j), 546.56, True)"
            ]
          },
          "execution_count": 35,
          "metadata": {},
          "output_type": "execute_result"
        }
      ],
      "source": [
        "t1"
      ]
    },
    {
      "cell_type": "code",
      "execution_count": null,
      "metadata": {
        "id": "75ligc0GAW50",
        "outputId": "0cf2eac3-c234-4485-d865-67750c5c1b34"
      },
      "outputs": [
        {
          "data": {
            "text/plain": [
              "('sudh', 345, (45+78j), 546.56, True, 'sudh', 345, (45+78j), 546.56, True)"
            ]
          },
          "execution_count": 36,
          "metadata": {},
          "output_type": "execute_result"
        }
      ],
      "source": [
        "t1*2"
      ]
    },
    {
      "cell_type": "code",
      "execution_count": null,
      "metadata": {
        "id": "4M-Q3YFtAW51",
        "outputId": "b25901b2-9f33-43fc-ee5c-7f61f8e7ea70"
      },
      "outputs": [
        {
          "data": {
            "text/plain": [
              "('sudh', 345, (45+78j), 546.56, True)"
            ]
          },
          "execution_count": 37,
          "metadata": {},
          "output_type": "execute_result"
        }
      ],
      "source": [
        "t1"
      ]
    },
    {
      "cell_type": "code",
      "execution_count": null,
      "metadata": {
        "id": "Lh8BLXDbAW51",
        "outputId": "02b8dcc9-ec1c-4f90-bcbb-f1bbea770fc0"
      },
      "outputs": [
        {
          "data": {
            "text/plain": [
              "1"
            ]
          },
          "execution_count": 39,
          "metadata": {},
          "output_type": "execute_result"
        }
      ],
      "source": [
        "t1.count(\"sudh\")"
      ]
    },
    {
      "cell_type": "code",
      "execution_count": null,
      "metadata": {
        "id": "hgj1D37tAW52",
        "outputId": "d843895f-6b54-4618-994b-24f74c8bf5d8"
      },
      "outputs": [
        {
          "data": {
            "text/plain": [
              "0"
            ]
          },
          "execution_count": 40,
          "metadata": {},
          "output_type": "execute_result"
        }
      ],
      "source": [
        "t1.index(\"sudh\")"
      ]
    },
    {
      "cell_type": "code",
      "execution_count": null,
      "metadata": {
        "id": "OKvHcWZrAW53",
        "outputId": "e0576d8b-b033-49bf-d925-6cf4e47f3dfe"
      },
      "outputs": [
        {
          "data": {
            "text/plain": [
              "['kumar', 345, (45+78j), 546.56, True]"
            ]
          },
          "execution_count": 38,
          "metadata": {},
          "output_type": "execute_result"
        }
      ],
      "source": [
        "l"
      ]
    },
    {
      "cell_type": "code",
      "execution_count": null,
      "metadata": {
        "id": "_0MPWLfPAW54"
      },
      "outputs": [],
      "source": [
        "l."
      ]
    },
    {
      "cell_type": "code",
      "execution_count": null,
      "metadata": {
        "id": "3RR1J029AW55"
      },
      "outputs": [],
      "source": [
        "t = (45,54,54,5, (4,5,6) , (\"sudh\"))"
      ]
    },
    {
      "cell_type": "code",
      "execution_count": null,
      "metadata": {
        "id": "SxNiPm2FAW55",
        "outputId": "8be1a2e4-1f18-4b4c-91bf-83be7638904e"
      },
      "outputs": [
        {
          "data": {
            "text/plain": [
              "(45, 54, 54, 5, (4, 5, 6), 'sudh')"
            ]
          },
          "execution_count": 42,
          "metadata": {},
          "output_type": "execute_result"
        }
      ],
      "source": [
        "t"
      ]
    },
    {
      "cell_type": "code",
      "execution_count": null,
      "metadata": {
        "id": "2ORH28M0AW56"
      },
      "outputs": [],
      "source": [
        "t1 = ([3,4,54,6]  , (\"sd\" , 435,56) , \"ushd\")"
      ]
    },
    {
      "cell_type": "code",
      "execution_count": null,
      "metadata": {
        "id": "yOzkh78vAW57"
      },
      "outputs": [],
      "source": [
        "t1[0][2] = \"sudh\""
      ]
    },
    {
      "cell_type": "code",
      "execution_count": null,
      "metadata": {
        "id": "qVh2wjPAAW57",
        "outputId": "ce385965-69a1-4f12-91af-b2948c2e1f4e"
      },
      "outputs": [
        {
          "data": {
            "text/plain": [
              "([3, 4, 'sudh', 6], ('sd', 435, 56), 'ushd')"
            ]
          },
          "execution_count": 48,
          "metadata": {},
          "output_type": "execute_result"
        }
      ],
      "source": [
        "t1"
      ]
    },
    {
      "cell_type": "code",
      "execution_count": null,
      "metadata": {
        "id": "g7XyTU3dAW58",
        "outputId": "12454c24-d5c9-4d9b-d271-ce9681a794bb"
      },
      "outputs": [
        {
          "ename": "TypeError",
          "evalue": "'tuple' object does not support item assignment",
          "output_type": "error",
          "traceback": [
            "\u001b[1;31m---------------------------------------------------------------------------\u001b[0m",
            "\u001b[1;31mTypeError\u001b[0m                                 Traceback (most recent call last)",
            "\u001b[1;32m<ipython-input-50-adad04fe9159>\u001b[0m in \u001b[0;36m<module>\u001b[1;34m\u001b[0m\n\u001b[1;32m----> 1\u001b[1;33m \u001b[0mt1\u001b[0m\u001b[1;33m[\u001b[0m\u001b[1;36m0\u001b[0m\u001b[1;33m]\u001b[0m \u001b[1;33m=\u001b[0m \u001b[1;34m\"sdfsaf\"\u001b[0m\u001b[1;33m\u001b[0m\u001b[1;33m\u001b[0m\u001b[0m\n\u001b[0m",
            "\u001b[1;31mTypeError\u001b[0m: 'tuple' object does not support item assignment"
          ]
        }
      ],
      "source": [
        "t1[0] = \"sdfsaf\""
      ]
    },
    {
      "cell_type": "code",
      "execution_count": null,
      "metadata": {
        "id": "9Cm1m5eTAW59"
      },
      "outputs": [],
      "source": [
        "t1 = (53,54,45,4,5,4,54)"
      ]
    },
    {
      "cell_type": "code",
      "execution_count": null,
      "metadata": {
        "id": "DE26VFIgAW59"
      },
      "outputs": [],
      "source": [
        "l  = list(t1)"
      ]
    },
    {
      "cell_type": "code",
      "execution_count": null,
      "metadata": {
        "id": "z8pBH9q2AW5_",
        "outputId": "9134715c-6ac2-4df2-d9b3-bd32a72e4976"
      },
      "outputs": [
        {
          "data": {
            "text/plain": [
              "[53, 54, 45, 4, 5, 4, 54]"
            ]
          },
          "execution_count": 54,
          "metadata": {},
          "output_type": "execute_result"
        }
      ],
      "source": [
        "l"
      ]
    },
    {
      "cell_type": "code",
      "execution_count": null,
      "metadata": {
        "id": "n0fpmIYSAW6A",
        "outputId": "b82de155-0bd3-4a0f-d76b-c7f2dbc3e0ab"
      },
      "outputs": [
        {
          "data": {
            "text/plain": [
              "(53, 54, 45, 4, 5, 4, 54)"
            ]
          },
          "execution_count": 55,
          "metadata": {},
          "output_type": "execute_result"
        }
      ],
      "source": [
        "tuple(l)"
      ]
    },
    {
      "cell_type": "code",
      "execution_count": null,
      "metadata": {
        "id": "LKxH5_UiAW6A"
      },
      "outputs": [],
      "source": [
        "l = [1,2,3,4,5,6,76,5,5,5,5,5,5,5,2,3,4,5,6,1,2,3]"
      ]
    },
    {
      "cell_type": "code",
      "execution_count": null,
      "metadata": {
        "id": "H-X69Pq3AW6B",
        "outputId": "73d7da14-2fa1-430e-bdf4-b9e850ea3c74"
      },
      "outputs": [
        {
          "data": {
            "text/plain": [
              "{1, 2, 3, 4, 5, 6, 76}"
            ]
          },
          "execution_count": 58,
          "metadata": {},
          "output_type": "execute_result"
        }
      ],
      "source": [
        "set(l)"
      ]
    },
    {
      "cell_type": "code",
      "execution_count": null,
      "metadata": {
        "id": "-57XD2B-AW6B"
      },
      "outputs": [],
      "source": [
        "s = {}"
      ]
    },
    {
      "cell_type": "code",
      "execution_count": null,
      "metadata": {
        "id": "2HaMpJKmAW6C",
        "outputId": "253a9e42-091b-4a96-cbbd-5dc530c56c8b"
      },
      "outputs": [
        {
          "data": {
            "text/plain": [
              "dict"
            ]
          },
          "execution_count": 60,
          "metadata": {},
          "output_type": "execute_result"
        }
      ],
      "source": [
        "type(s)"
      ]
    },
    {
      "cell_type": "code",
      "execution_count": null,
      "metadata": {
        "id": "yYE4ThkeAW6D"
      },
      "outputs": [],
      "source": [
        "s1 = {2,3,4}"
      ]
    },
    {
      "cell_type": "code",
      "execution_count": null,
      "metadata": {
        "id": "EgH72JgwAW6D",
        "outputId": "3dfe94fb-c87c-4b6a-ec93-f790a30bdf79"
      },
      "outputs": [
        {
          "data": {
            "text/plain": [
              "set"
            ]
          },
          "execution_count": 62,
          "metadata": {},
          "output_type": "execute_result"
        }
      ],
      "source": [
        "type(s1)"
      ]
    },
    {
      "cell_type": "code",
      "execution_count": null,
      "metadata": {
        "id": "H4BW4zWbAW6E"
      },
      "outputs": [],
      "source": [
        "s2={1,1,1,1,1,1,2,3,4,54,4,3,3,2,54}"
      ]
    },
    {
      "cell_type": "code",
      "execution_count": null,
      "metadata": {
        "id": "BBHD2TQWAW6F",
        "outputId": "2263d9e7-fb28-425b-de09-912f8700e52a"
      },
      "outputs": [
        {
          "data": {
            "text/plain": [
              "{1, 2, 3, 4, 54}"
            ]
          },
          "execution_count": 64,
          "metadata": {},
          "output_type": "execute_result"
        }
      ],
      "source": [
        "s2"
      ]
    },
    {
      "cell_type": "code",
      "execution_count": null,
      "metadata": {
        "id": "TI1ZJTqPAW6F",
        "outputId": "ddb8ab7d-7e4a-468a-86c8-9c6c8685989b"
      },
      "outputs": [
        {
          "ename": "TypeError",
          "evalue": "'set' object is not subscriptable",
          "output_type": "error",
          "traceback": [
            "\u001b[1;31m---------------------------------------------------------------------------\u001b[0m",
            "\u001b[1;31mTypeError\u001b[0m                                 Traceback (most recent call last)",
            "\u001b[1;32m<ipython-input-65-ab7c8e26b0d3>\u001b[0m in \u001b[0;36m<module>\u001b[1;34m\u001b[0m\n\u001b[1;32m----> 1\u001b[1;33m \u001b[0ms2\u001b[0m\u001b[1;33m[\u001b[0m\u001b[1;36m0\u001b[0m\u001b[1;33m]\u001b[0m\u001b[1;33m\u001b[0m\u001b[1;33m\u001b[0m\u001b[0m\n\u001b[0m",
            "\u001b[1;31mTypeError\u001b[0m: 'set' object is not subscriptable"
          ]
        }
      ],
      "source": [
        "s2[0]"
      ]
    },
    {
      "cell_type": "code",
      "execution_count": null,
      "metadata": {
        "id": "yFp9bZFvAW6G",
        "outputId": "525342b3-7d47-44e8-bd2c-cfe451139f20"
      },
      "outputs": [
        {
          "data": {
            "text/plain": [
              "[1, 2, 3, 4, 54]"
            ]
          },
          "execution_count": 67,
          "metadata": {},
          "output_type": "execute_result"
        }
      ],
      "source": [
        "list(s2)"
      ]
    },
    {
      "cell_type": "code",
      "execution_count": null,
      "metadata": {
        "id": "GEVl8V_1AW6H",
        "outputId": "33065594-fb62-4b86-f4d1-deb26959ec26"
      },
      "outputs": [
        {
          "data": {
            "text/plain": [
              "{1, 2, 3, 4, 54}"
            ]
          },
          "execution_count": 68,
          "metadata": {},
          "output_type": "execute_result"
        }
      ],
      "source": [
        "s2"
      ]
    },
    {
      "cell_type": "code",
      "execution_count": null,
      "metadata": {
        "id": "dKL_i655AW6I"
      },
      "outputs": [],
      "source": [
        "s2.add(89777)"
      ]
    },
    {
      "cell_type": "code",
      "execution_count": null,
      "metadata": {
        "id": "XUWBees4AW6I",
        "outputId": "1a8ce290-98b5-4b27-d8dd-275049859db0"
      },
      "outputs": [
        {
          "data": {
            "text/plain": [
              "{1, 2, 3, 4, 54, 89777}"
            ]
          },
          "execution_count": 70,
          "metadata": {},
          "output_type": "execute_result"
        }
      ],
      "source": [
        "s2"
      ]
    },
    {
      "cell_type": "code",
      "execution_count": null,
      "metadata": {
        "id": "kaNqiCbZAW6J"
      },
      "outputs": [],
      "source": [
        "s2.add(\"sudh\")"
      ]
    },
    {
      "cell_type": "code",
      "execution_count": null,
      "metadata": {
        "id": "1-o2ZUiRAW6K",
        "outputId": "7ab2540f-8fcf-463f-ea14-2369451d6412"
      },
      "outputs": [
        {
          "data": {
            "text/plain": [
              "{1, 2, 3, 4, 54, 89777, 'sudh'}"
            ]
          },
          "execution_count": 72,
          "metadata": {},
          "output_type": "execute_result"
        }
      ],
      "source": [
        "s2"
      ]
    },
    {
      "cell_type": "code",
      "execution_count": null,
      "metadata": {
        "id": "Lak8ivJMAW6L",
        "outputId": "72d8b8fb-602f-45d4-81de-91e485fb5242"
      },
      "outputs": [
        {
          "ename": "TypeError",
          "evalue": "unhashable type: 'list'",
          "output_type": "error",
          "traceback": [
            "\u001b[1;31m---------------------------------------------------------------------------\u001b[0m",
            "\u001b[1;31mTypeError\u001b[0m                                 Traceback (most recent call last)",
            "\u001b[1;32m<ipython-input-73-345b76a01cc4>\u001b[0m in \u001b[0;36m<module>\u001b[1;34m\u001b[0m\n\u001b[1;32m----> 1\u001b[1;33m \u001b[0ms2\u001b[0m\u001b[1;33m.\u001b[0m\u001b[0madd\u001b[0m\u001b[1;33m(\u001b[0m\u001b[1;33m[\u001b[0m\u001b[1;36m3\u001b[0m\u001b[1;33m,\u001b[0m\u001b[1;36m4\u001b[0m\u001b[1;33m,\u001b[0m\u001b[1;36m5\u001b[0m\u001b[1;33m,\u001b[0m\u001b[1;36m6\u001b[0m\u001b[1;33m]\u001b[0m\u001b[1;33m)\u001b[0m\u001b[1;33m\u001b[0m\u001b[1;33m\u001b[0m\u001b[0m\n\u001b[0m",
            "\u001b[1;31mTypeError\u001b[0m: unhashable type: 'list'"
          ]
        }
      ],
      "source": [
        "s2.add([3,4,5,6])"
      ]
    },
    {
      "cell_type": "code",
      "execution_count": null,
      "metadata": {
        "id": "4YyzBNSGAW6L",
        "outputId": "fdbe7a47-8759-4984-a870-7e34529ed58c"
      },
      "outputs": [
        {
          "ename": "TypeError",
          "evalue": "unhashable type: 'list'",
          "output_type": "error",
          "traceback": [
            "\u001b[1;31m---------------------------------------------------------------------------\u001b[0m",
            "\u001b[1;31mTypeError\u001b[0m                                 Traceback (most recent call last)",
            "\u001b[1;32m<ipython-input-74-41fccfa9cf4f>\u001b[0m in \u001b[0;36m<module>\u001b[1;34m\u001b[0m\n\u001b[1;32m----> 1\u001b[1;33m \u001b[1;33m{\u001b[0m\u001b[1;33m[\u001b[0m\u001b[1;36m3\u001b[0m\u001b[1;33m,\u001b[0m\u001b[1;36m4\u001b[0m\u001b[1;33m,\u001b[0m\u001b[1;36m5\u001b[0m\u001b[1;33m,\u001b[0m\u001b[1;36m6\u001b[0m\u001b[1;33m]\u001b[0m \u001b[1;33m,\u001b[0m\u001b[1;36m3\u001b[0m\u001b[1;33m,\u001b[0m\u001b[1;36m4\u001b[0m\u001b[1;33m,\u001b[0m\u001b[1;36m5\u001b[0m\u001b[1;33m,\u001b[0m\u001b[1;36m3\u001b[0m\u001b[1;33m,\u001b[0m\u001b[1;36m4\u001b[0m\u001b[1;33m,\u001b[0m\u001b[1;36m5\u001b[0m\u001b[1;33m}\u001b[0m\u001b[1;33m\u001b[0m\u001b[1;33m\u001b[0m\u001b[0m\n\u001b[0m",
            "\u001b[1;31mTypeError\u001b[0m: unhashable type: 'list'"
          ]
        }
      ],
      "source": [
        "{[3,4,5,6] ,3,4,5,3,4,5}"
      ]
    },
    {
      "cell_type": "code",
      "execution_count": null,
      "metadata": {
        "id": "b0saCIKMAW6M"
      },
      "outputs": [],
      "source": [
        "s = {(3,4,5,6) ,(3,4,5,6) ,3,4,5,3,4,5}"
      ]
    },
    {
      "cell_type": "code",
      "execution_count": null,
      "metadata": {
        "id": "WE9NRSy7AW6N",
        "outputId": "bc762838-f785-4372-fa70-1598d68a03a6"
      },
      "outputs": [
        {
          "data": {
            "text/plain": [
              "{}"
            ]
          },
          "execution_count": 77,
          "metadata": {},
          "output_type": "execute_result"
        }
      ],
      "source": [
        "s"
      ]
    },
    {
      "cell_type": "code",
      "execution_count": null,
      "metadata": {
        "id": "cPY5kzLVAW6N",
        "outputId": "9c54e994-146f-4331-c920-5893027aa85e"
      },
      "outputs": [
        {
          "data": {
            "text/plain": [
              "{(3, 4, 5, 6), 3, 4, 5}"
            ]
          },
          "execution_count": 79,
          "metadata": {},
          "output_type": "execute_result"
        }
      ],
      "source": [
        "s"
      ]
    },
    {
      "cell_type": "code",
      "execution_count": null,
      "metadata": {
        "id": "cC7BQbl-AW6P"
      },
      "outputs": [],
      "source": [
        "s.remove(4)"
      ]
    },
    {
      "cell_type": "code",
      "execution_count": null,
      "metadata": {
        "id": "7nRG5cs6AW6Q",
        "outputId": "60dbda44-c9ed-4e10-82b4-9fbb025354e5"
      },
      "outputs": [
        {
          "data": {
            "text/plain": [
              "{(3, 4, 5, 6), 3, 5}"
            ]
          },
          "execution_count": 81,
          "metadata": {},
          "output_type": "execute_result"
        }
      ],
      "source": [
        "s"
      ]
    },
    {
      "cell_type": "code",
      "execution_count": null,
      "metadata": {
        "id": "r4K2d9AKAW6Q"
      },
      "outputs": [],
      "source": [
        "s.discard(5)"
      ]
    },
    {
      "cell_type": "code",
      "execution_count": null,
      "metadata": {
        "id": "0jt61x03AW6R",
        "outputId": "68aa6757-153d-45b1-e3d9-35aab758ab3d"
      },
      "outputs": [
        {
          "data": {
            "text/plain": [
              "{(3, 4, 5, 6), 3}"
            ]
          },
          "execution_count": 83,
          "metadata": {},
          "output_type": "execute_result"
        }
      ],
      "source": [
        "s"
      ]
    },
    {
      "cell_type": "code",
      "execution_count": null,
      "metadata": {
        "id": "NGcsnvL5AW6S",
        "outputId": "edaffda4-c6f5-4a73-8ec1-516da2763cb5"
      },
      "outputs": [
        {
          "ename": "KeyError",
          "evalue": "45",
          "output_type": "error",
          "traceback": [
            "\u001b[1;31m---------------------------------------------------------------------------\u001b[0m",
            "\u001b[1;31mKeyError\u001b[0m                                  Traceback (most recent call last)",
            "\u001b[1;32m<ipython-input-84-30b5ee21a9a0>\u001b[0m in \u001b[0;36m<module>\u001b[1;34m\u001b[0m\n\u001b[1;32m----> 1\u001b[1;33m \u001b[0ms\u001b[0m\u001b[1;33m.\u001b[0m\u001b[0mremove\u001b[0m\u001b[1;33m(\u001b[0m\u001b[1;36m45\u001b[0m\u001b[1;33m)\u001b[0m\u001b[1;33m\u001b[0m\u001b[1;33m\u001b[0m\u001b[0m\n\u001b[0m",
            "\u001b[1;31mKeyError\u001b[0m: 45"
          ]
        }
      ],
      "source": [
        "s.remove(45)"
      ]
    },
    {
      "cell_type": "code",
      "execution_count": null,
      "metadata": {
        "id": "L34wwbcFAW6S"
      },
      "outputs": [],
      "source": [
        "s.discard(45)"
      ]
    },
    {
      "cell_type": "code",
      "execution_count": null,
      "metadata": {
        "id": "wR5VtpahAW6T",
        "outputId": "39ae134e-fe9d-4af8-da4e-c2c303321663"
      },
      "outputs": [
        {
          "data": {
            "text/plain": [
              "{'Sudh', 'sudh'}"
            ]
          },
          "execution_count": 86,
          "metadata": {},
          "output_type": "execute_result"
        }
      ],
      "source": [
        "{\"sudh\" ,\"Sudh\"}"
      ]
    },
    {
      "cell_type": "code",
      "execution_count": null,
      "metadata": {
        "id": "cvOg3XizAW6U"
      },
      "outputs": [],
      "source": [
        "s = {4,5,6,7,78 , 3,4,5,3,4,5 , \"sudh\" , \"sudh\"}"
      ]
    },
    {
      "cell_type": "code",
      "execution_count": null,
      "metadata": {
        "id": "TbUfWfRIAW6U",
        "outputId": "a455475d-3d91-4668-9088-b890ec82d43c"
      },
      "outputs": [
        {
          "data": {
            "text/plain": [
              "{3, 4, 5, 6, 7, 78, 'sudh'}"
            ]
          },
          "execution_count": 88,
          "metadata": {},
          "output_type": "execute_result"
        }
      ],
      "source": [
        "s"
      ]
    },
    {
      "cell_type": "code",
      "execution_count": null,
      "metadata": {
        "id": "Nqfl0kBaAW6V"
      },
      "outputs": [],
      "source": [
        "l = [3,4,5,6]"
      ]
    },
    {
      "cell_type": "code",
      "execution_count": null,
      "metadata": {
        "id": "T5bZBcBdAW6W",
        "outputId": "7d8a8499-c336-4afe-e012-a667b7d1b813"
      },
      "outputs": [
        {
          "data": {
            "text/plain": [
              "{3, 4, 5, 6}"
            ]
          },
          "execution_count": 90,
          "metadata": {},
          "output_type": "execute_result"
        }
      ],
      "source": [
        "set(l)"
      ]
    },
    {
      "cell_type": "code",
      "execution_count": null,
      "metadata": {
        "id": "yWnJEJqcAW6W"
      },
      "outputs": [],
      "source": [
        "d = {3,4}"
      ]
    },
    {
      "cell_type": "code",
      "execution_count": null,
      "metadata": {
        "id": "UqywrgWpAW6X",
        "outputId": "f0d06fda-2da2-45c5-81ab-4f60c304e52c"
      },
      "outputs": [
        {
          "data": {
            "text/plain": [
              "set"
            ]
          },
          "execution_count": 94,
          "metadata": {},
          "output_type": "execute_result"
        }
      ],
      "source": [
        "type(d)"
      ]
    },
    {
      "cell_type": "code",
      "execution_count": null,
      "metadata": {
        "id": "aUvp3v98AW6Y"
      },
      "outputs": [],
      "source": [
        "d = {4:\"sudh\"}"
      ]
    },
    {
      "cell_type": "code",
      "execution_count": null,
      "metadata": {
        "id": "zGmuivcOAW6Y"
      },
      "outputs": [],
      "source": [
        "d1 = {\"key1\" : 5445 , \"key2\" :\"sudh\" , 45 : [3,4,5,6]}"
      ]
    },
    {
      "cell_type": "code",
      "execution_count": null,
      "metadata": {
        "id": "Eu7Xz7C4AW6Z"
      },
      "outputs": [],
      "source": [
        "l = [3,4,5,6,7]"
      ]
    },
    {
      "cell_type": "code",
      "execution_count": null,
      "metadata": {
        "id": "voR9KPrxAW6a",
        "outputId": "a15b4d03-c092-43ce-f389-9313ec4a803c"
      },
      "outputs": [
        {
          "data": {
            "text/plain": [
              "{'key1': 5445, 'key2': 'sudh', 45: [3, 4, 5, 6]}"
            ]
          },
          "execution_count": 100,
          "metadata": {},
          "output_type": "execute_result"
        }
      ],
      "source": [
        "d1"
      ]
    },
    {
      "cell_type": "code",
      "execution_count": null,
      "metadata": {
        "id": "fVapHJS1AW6a",
        "outputId": "03571e72-0375-4c20-eeb7-a119f81b1353"
      },
      "outputs": [
        {
          "data": {
            "text/plain": [
              "3"
            ]
          },
          "execution_count": 101,
          "metadata": {},
          "output_type": "execute_result"
        }
      ],
      "source": [
        "l[0]"
      ]
    },
    {
      "cell_type": "code",
      "execution_count": null,
      "metadata": {
        "id": "6ZGdi7YfAW6b",
        "outputId": "5bfb03a1-88d9-4a56-ee77-3b63ccbc7ed2"
      },
      "outputs": [
        {
          "data": {
            "text/plain": [
              "5445"
            ]
          },
          "execution_count": 102,
          "metadata": {},
          "output_type": "execute_result"
        }
      ],
      "source": [
        "d1['key1']"
      ]
    },
    {
      "cell_type": "code",
      "execution_count": null,
      "metadata": {
        "id": "vQxNNhtIAW6c",
        "outputId": "8ba0c6bb-2f3f-48a5-dd61-6abc0bbec913"
      },
      "outputs": [
        {
          "data": {
            "text/plain": [
              "[3, 4, 5, 6]"
            ]
          },
          "execution_count": 103,
          "metadata": {},
          "output_type": "execute_result"
        }
      ],
      "source": [
        "d1[45]"
      ]
    },
    {
      "cell_type": "code",
      "execution_count": null,
      "metadata": {
        "id": "iD2hLqjOAW6d"
      },
      "outputs": [],
      "source": [
        "d = {\"KEY\":{3,4,5,6}}"
      ]
    },
    {
      "cell_type": "code",
      "execution_count": null,
      "metadata": {
        "id": "3cLwbc3aAW6d"
      },
      "outputs": [],
      "source": [
        "d1 = {\"key1\" : [2,3,4,5]  , \"key2\":[2,3,4,5], \"kumar\" :45}"
      ]
    },
    {
      "cell_type": "code",
      "execution_count": null,
      "metadata": {
        "id": "PjrblKFMAW6e",
        "outputId": "c3e60726-3942-4bd6-848a-0f718b6ab9b5"
      },
      "outputs": [
        {
          "data": {
            "text/plain": [
              "[2, 3, 4, 5]"
            ]
          },
          "execution_count": 120,
          "metadata": {},
          "output_type": "execute_result"
        }
      ],
      "source": [
        "d1['key1']"
      ]
    },
    {
      "cell_type": "code",
      "execution_count": null,
      "metadata": {
        "id": "2acP3W65AW6f",
        "outputId": "4bd292b0-f845-4af3-e64e-652aa57f19b3"
      },
      "outputs": [
        {
          "data": {
            "text/plain": [
              "45"
            ]
          },
          "execution_count": 121,
          "metadata": {},
          "output_type": "execute_result"
        }
      ],
      "source": [
        "d1['kumar']"
      ]
    },
    {
      "cell_type": "code",
      "execution_count": null,
      "metadata": {
        "id": "1ojlZW4BAW6g"
      },
      "outputs": [],
      "source": [
        "d3= {\"*+++\":\"venu\"}"
      ]
    },
    {
      "cell_type": "code",
      "execution_count": null,
      "metadata": {
        "id": "e8PBgp0TAW6h"
      },
      "outputs": [],
      "source": [
        "d = {'name' : \"sudhanshu\" , \"mo_no\" :3454354353 , \"mail_id\" :\"sudhanshu@xyz.com\",'key1':[4,5,6,7] , \"key2\" :(3,4,5,6),\"key3\" : {3,4,5,4,3,3,3,3,3,3,3},'key4':{1:5,4:6}}"
      ]
    },
    {
      "cell_type": "code",
      "execution_count": null,
      "metadata": {
        "id": "YWPSLjC4AW6i",
        "outputId": "1934c692-03cd-4f88-a7d9-6269c773585e"
      },
      "outputs": [
        {
          "data": {
            "text/plain": [
              "{'name': 'sudhanshu',\n",
              " 'mo_no': 3454354353,\n",
              " 'mail_id': 'sudhanshu@xyz.com',\n",
              " 'key1': [4, 5, 6, 7],\n",
              " 'key2': (3, 4, 5, 6),\n",
              " 'key3': {3, 4, 5},\n",
              " 'key4': {1: 5, 4: 6}}"
            ]
          },
          "execution_count": 125,
          "metadata": {},
          "output_type": "execute_result"
        }
      ],
      "source": [
        "d"
      ]
    },
    {
      "cell_type": "code",
      "execution_count": null,
      "metadata": {
        "id": "uzK5Tq5sAW6j",
        "outputId": "bcad360c-3ac3-43f7-ffd7-df3ce2afc3c2"
      },
      "outputs": [
        {
          "data": {
            "text/plain": [
              "set"
            ]
          },
          "execution_count": 127,
          "metadata": {},
          "output_type": "execute_result"
        }
      ],
      "source": [
        "type(d['key3'])"
      ]
    },
    {
      "cell_type": "code",
      "execution_count": null,
      "metadata": {
        "id": "Ln_dLlqUAW6j",
        "outputId": "c24f2ea9-584b-41d2-c6b7-346a5cff7209"
      },
      "outputs": [
        {
          "data": {
            "text/plain": [
              "6"
            ]
          },
          "execution_count": 129,
          "metadata": {},
          "output_type": "execute_result"
        }
      ],
      "source": [
        "d['key4'][4]"
      ]
    },
    {
      "cell_type": "code",
      "execution_count": null,
      "metadata": {
        "id": "p-1WDCfYAW6k",
        "outputId": "3ab69f0d-1e5a-413b-ccce-99942db39090"
      },
      "outputs": [
        {
          "data": {
            "text/plain": [
              "{'name': 'sudhanshu',\n",
              " 'mo_no': 3454354353,\n",
              " 'mail_id': 'sudhanshu@xyz.com',\n",
              " 'key1': [4, 5, 6, 7],\n",
              " 'key2': (3, 4, 5, 6),\n",
              " 'key3': {3, 4, 5},\n",
              " 'key4': {1: 5, 4: 6}}"
            ]
          },
          "execution_count": 130,
          "metadata": {},
          "output_type": "execute_result"
        }
      ],
      "source": [
        "d"
      ]
    },
    {
      "cell_type": "code",
      "execution_count": null,
      "metadata": {
        "id": "SJJsdIUtAW6l",
        "outputId": "5cb31752-fc22-4b9c-ed33-5360b8f93516"
      },
      "outputs": [
        {
          "data": {
            "text/plain": [
              "dict_keys(['name', 'mo_no', 'mail_id', 'key1', 'key2', 'key3', 'key4'])"
            ]
          },
          "execution_count": 131,
          "metadata": {},
          "output_type": "execute_result"
        }
      ],
      "source": [
        "d.keys()"
      ]
    },
    {
      "cell_type": "code",
      "execution_count": null,
      "metadata": {
        "id": "Z6nXbTpiAW6l",
        "outputId": "9530bddc-3896-448c-f5fd-0b7ea04cf22e"
      },
      "outputs": [
        {
          "data": {
            "text/plain": [
              "dict_values(['sudhanshu', 3454354353, 'sudhanshu@xyz.com', [4, 5, 6, 7], (3, 4, 5, 6), {3, 4, 5}, {1: 5, 4: 6}])"
            ]
          },
          "execution_count": 132,
          "metadata": {},
          "output_type": "execute_result"
        }
      ],
      "source": [
        "d.values()"
      ]
    },
    {
      "cell_type": "code",
      "execution_count": null,
      "metadata": {
        "id": "nvEUjCSSAW6m",
        "outputId": "0b2c3767-0f34-498a-eda7-8a920b8868d9"
      },
      "outputs": [
        {
          "data": {
            "text/plain": [
              "dict_items"
            ]
          },
          "execution_count": 134,
          "metadata": {},
          "output_type": "execute_result"
        }
      ],
      "source": [
        "type(d.items())"
      ]
    },
    {
      "cell_type": "code",
      "execution_count": null,
      "metadata": {
        "id": "8hdVg9aEAW6n"
      },
      "outputs": [],
      "source": [
        "d = {'key1' : \"sudh\" , \"key2\" : [1,2,3,4]}"
      ]
    },
    {
      "cell_type": "code",
      "execution_count": null,
      "metadata": {
        "id": "hUWDb6BCAW6n",
        "outputId": "4aaab9e6-bda9-41f6-fe7f-c9495009fd6a"
      },
      "outputs": [
        {
          "data": {
            "text/plain": [
              "{'key1': 'sudh', 'key2': [1, 2, 3, 4]}"
            ]
          },
          "execution_count": 136,
          "metadata": {},
          "output_type": "execute_result"
        }
      ],
      "source": [
        "d"
      ]
    },
    {
      "cell_type": "code",
      "execution_count": null,
      "metadata": {
        "id": "P3wT8RkWAW6o"
      },
      "outputs": [],
      "source": [
        "d[\"key3\"]  = \"kumar\""
      ]
    },
    {
      "cell_type": "code",
      "execution_count": null,
      "metadata": {
        "id": "kI-lCfV2AW6o",
        "outputId": "c814f821-2262-44a8-af3c-abafee1bfd67"
      },
      "outputs": [
        {
          "data": {
            "text/plain": [
              "{'key1': 'sudh', 'key2': [1, 2, 3, 4], 'key3': 'kumar'}"
            ]
          },
          "execution_count": 138,
          "metadata": {},
          "output_type": "execute_result"
        }
      ],
      "source": [
        "d"
      ]
    },
    {
      "cell_type": "code",
      "execution_count": null,
      "metadata": {
        "id": "FyQJiK5NAW6p"
      },
      "outputs": [],
      "source": [
        "d[4] = [2,4,4,4,5,4]"
      ]
    },
    {
      "cell_type": "code",
      "execution_count": null,
      "metadata": {
        "id": "m_TpCc8vAW6q",
        "outputId": "1712c3e2-8377-4520-d29a-e2a04581bcf4"
      },
      "outputs": [
        {
          "data": {
            "text/plain": [
              "{'key1': 'sudh', 'key2': [1, 2, 3, 4], 'key3': 'kumar', 4: [2, 4, 4, 4, 5, 4]}"
            ]
          },
          "execution_count": 140,
          "metadata": {},
          "output_type": "execute_result"
        }
      ],
      "source": [
        "d"
      ]
    },
    {
      "cell_type": "code",
      "execution_count": null,
      "metadata": {
        "id": "b2B6satrAW6q"
      },
      "outputs": [],
      "source": [
        "d['key1'] = \"fsafsadfads\""
      ]
    },
    {
      "cell_type": "code",
      "execution_count": null,
      "metadata": {
        "id": "NvDfDp4VAW6r",
        "outputId": "c8dde047-777d-487a-f09d-6ce7fe74fa08"
      },
      "outputs": [
        {
          "data": {
            "text/plain": [
              "{'key1': 'fsafsadfads',\n",
              " 'key2': [1, 2, 3, 4],\n",
              " 'key3': 'kumar',\n",
              " 4: [2, 4, 4, 4, 5, 4]}"
            ]
          },
          "execution_count": 142,
          "metadata": {},
          "output_type": "execute_result"
        }
      ],
      "source": [
        "d"
      ]
    },
    {
      "cell_type": "code",
      "execution_count": null,
      "metadata": {
        "id": "St8vhwN9AW6s"
      },
      "outputs": [],
      "source": [
        "del d['key1']"
      ]
    },
    {
      "cell_type": "code",
      "execution_count": null,
      "metadata": {
        "id": "C9FoxEjtAW6s",
        "outputId": "76cffd26-c465-459c-ecca-6238d2c51454"
      },
      "outputs": [
        {
          "data": {
            "text/plain": [
              "{'key2': [1, 2, 3, 4], 'key3': 'kumar', 4: [2, 4, 4, 4, 5, 4]}"
            ]
          },
          "execution_count": 144,
          "metadata": {},
          "output_type": "execute_result"
        }
      ],
      "source": [
        "d"
      ]
    },
    {
      "cell_type": "code",
      "execution_count": null,
      "metadata": {
        "id": "fycAB1xjAW6t"
      },
      "outputs": [],
      "source": [
        "del d "
      ]
    },
    {
      "cell_type": "code",
      "execution_count": null,
      "metadata": {
        "id": "KvEO9A3jAW6u",
        "outputId": "afa27643-2f9c-421f-a46c-764f794cc054"
      },
      "outputs": [
        {
          "ename": "NameError",
          "evalue": "name 'd' is not defined",
          "output_type": "error",
          "traceback": [
            "\u001b[1;31m---------------------------------------------------------------------------\u001b[0m",
            "\u001b[1;31mNameError\u001b[0m                                 Traceback (most recent call last)",
            "\u001b[1;32m<ipython-input-146-e983f374794d>\u001b[0m in \u001b[0;36m<module>\u001b[1;34m\u001b[0m\n\u001b[1;32m----> 1\u001b[1;33m \u001b[0md\u001b[0m\u001b[1;33m\u001b[0m\u001b[1;33m\u001b[0m\u001b[0m\n\u001b[0m",
            "\u001b[1;31mNameError\u001b[0m: name 'd' is not defined"
          ]
        }
      ],
      "source": [
        "d"
      ]
    },
    {
      "cell_type": "code",
      "execution_count": null,
      "metadata": {
        "id": "-FWdHd09AW6v"
      },
      "outputs": [],
      "source": [
        "d1 = {'key1' : \"sudh\" , 'key2' : [4,5,6,7,8]} "
      ]
    },
    {
      "cell_type": "code",
      "execution_count": null,
      "metadata": {
        "id": "yTLLfYqZAW6v",
        "outputId": "4d9abd29-237f-461c-ab2b-9ddbd5c9db52"
      },
      "outputs": [
        {
          "ename": "TypeError",
          "evalue": "unhashable type: 'list'",
          "output_type": "error",
          "traceback": [
            "\u001b[1;31m---------------------------------------------------------------------------\u001b[0m",
            "\u001b[1;31mTypeError\u001b[0m                                 Traceback (most recent call last)",
            "\u001b[1;32m<ipython-input-148-be53110e7467>\u001b[0m in \u001b[0;36m<module>\u001b[1;34m\u001b[0m\n\u001b[1;32m----> 1\u001b[1;33m \u001b[0md1\u001b[0m\u001b[1;33m[\u001b[0m\u001b[1;33m[\u001b[0m\u001b[1;36m1\u001b[0m\u001b[1;33m,\u001b[0m\u001b[1;36m2\u001b[0m\u001b[1;33m,\u001b[0m\u001b[1;36m3\u001b[0m\u001b[1;33m]\u001b[0m\u001b[1;33m]\u001b[0m \u001b[1;33m=\u001b[0m \u001b[1;34m\"ineuron\"\u001b[0m\u001b[1;33m\u001b[0m\u001b[1;33m\u001b[0m\u001b[0m\n\u001b[0m",
            "\u001b[1;31mTypeError\u001b[0m: unhashable type: 'list'"
          ]
        }
      ],
      "source": [
        "d1[[1,2,3]] = \"ineuron\""
      ]
    },
    {
      "cell_type": "code",
      "execution_count": null,
      "metadata": {
        "id": "YubqgbSbAW6x"
      },
      "outputs": [],
      "source": [
        "d1[(1,2,3)] = \"ineuron\""
      ]
    },
    {
      "cell_type": "code",
      "execution_count": null,
      "metadata": {
        "id": "7ImyOZHkAW6x",
        "outputId": "e502bbcb-e63b-4004-c327-00c0281e1701"
      },
      "outputs": [
        {
          "data": {
            "text/plain": [
              "{'key1': 'sudh', 'key2': [4, 5, 6, 7, 8], (1, 2, 3): 'ineuron'}"
            ]
          },
          "execution_count": 150,
          "metadata": {},
          "output_type": "execute_result"
        }
      ],
      "source": [
        "d1"
      ]
    },
    {
      "cell_type": "code",
      "execution_count": null,
      "metadata": {
        "id": "VixSHoXWAW6y",
        "outputId": "e5dc49b9-15c4-450f-8da2-518cc98e20a2"
      },
      "outputs": [
        {
          "data": {
            "text/plain": [
              "{'key1': 'sudh', 'key2': [4, 5, 6, 7, 8], (1, 2, 3): 'ineuron'}"
            ]
          },
          "execution_count": 151,
          "metadata": {},
          "output_type": "execute_result"
        }
      ],
      "source": [
        "d1"
      ]
    },
    {
      "cell_type": "code",
      "execution_count": null,
      "metadata": {
        "id": "Oez46vAeAW6z",
        "outputId": "72530f66-e270-4438-bed5-3caf8aee62e9"
      },
      "outputs": [
        {
          "data": {
            "text/plain": [
              "'sudh'"
            ]
          },
          "execution_count": 153,
          "metadata": {},
          "output_type": "execute_result"
        }
      ],
      "source": [
        "d1.get(\"key1\")"
      ]
    },
    {
      "cell_type": "code",
      "execution_count": null,
      "metadata": {
        "id": "jTMjjOhmAW60"
      },
      "outputs": [],
      "source": [
        "d1 = {'key1' : \"ineruon\" , \"key\"  : \"FSDS\"}"
      ]
    },
    {
      "cell_type": "code",
      "execution_count": null,
      "metadata": {
        "id": "Vuejx2ezAW61"
      },
      "outputs": [],
      "source": [
        "d2 = {\"key2\":456 , \"key3\" :[1,2,3,4,5]}"
      ]
    },
    {
      "cell_type": "code",
      "execution_count": null,
      "metadata": {
        "id": "CaCYhdFfAW61"
      },
      "outputs": [],
      "source": [
        "d1.update(d2)"
      ]
    },
    {
      "cell_type": "code",
      "execution_count": null,
      "metadata": {
        "id": "9sL74TtfAW62",
        "outputId": "8694aba7-3c5f-488b-eb61-153ffd698b29"
      },
      "outputs": [
        {
          "data": {
            "text/plain": [
              "{'key1': 'ineruon', 'key': 'FSDS', 'key2': 456, 'key3': [1, 2, 3, 4, 5]}"
            ]
          },
          "execution_count": 157,
          "metadata": {},
          "output_type": "execute_result"
        }
      ],
      "source": [
        "d1"
      ]
    },
    {
      "cell_type": "code",
      "execution_count": null,
      "metadata": {
        "id": "Hb1Pns4FAW63",
        "outputId": "bf6b5022-b063-40ee-e8c0-7d3b266282af"
      },
      "outputs": [
        {
          "data": {
            "text/plain": [
              "{'key2': 456, 'key3': [1, 2, 3, 4, 5]}"
            ]
          },
          "execution_count": 158,
          "metadata": {},
          "output_type": "execute_result"
        }
      ],
      "source": [
        "d2"
      ]
    },
    {
      "cell_type": "code",
      "execution_count": null,
      "metadata": {
        "id": "58eB-bFEAW64",
        "outputId": "47bfbfe2-321e-41c2-e8d6-a1b5d6da4c3e"
      },
      "outputs": [
        {
          "ename": "TypeError",
          "evalue": "unsupported operand type(s) for +: 'dict' and 'dict'",
          "output_type": "error",
          "traceback": [
            "\u001b[1;31m---------------------------------------------------------------------------\u001b[0m",
            "\u001b[1;31mTypeError\u001b[0m                                 Traceback (most recent call last)",
            "\u001b[1;32m<ipython-input-159-686adf62153a>\u001b[0m in \u001b[0;36m<module>\u001b[1;34m\u001b[0m\n\u001b[1;32m----> 1\u001b[1;33m \u001b[0md1\u001b[0m\u001b[1;33m+\u001b[0m\u001b[0md2\u001b[0m\u001b[1;33m\u001b[0m\u001b[1;33m\u001b[0m\u001b[0m\n\u001b[0m",
            "\u001b[1;31mTypeError\u001b[0m: unsupported operand type(s) for +: 'dict' and 'dict'"
          ]
        }
      ],
      "source": [
        "d1+d2"
      ]
    },
    {
      "cell_type": "code",
      "execution_count": null,
      "metadata": {
        "id": "LKemSRTHAW64"
      },
      "outputs": [],
      "source": [
        "l=[1,23,4,5]\n",
        "l.append(l)\n"
      ]
    },
    {
      "cell_type": "code",
      "execution_count": null,
      "metadata": {
        "id": "xrECa8EGAW66",
        "outputId": "dfbad12f-3439-4b40-a9b6-2d1e7472d50b"
      },
      "outputs": [
        {
          "data": {
            "text/plain": [
              "[1, 23, 4, 5, [...]]"
            ]
          },
          "execution_count": 161,
          "metadata": {},
          "output_type": "execute_result"
        }
      ],
      "source": [
        "l"
      ]
    },
    {
      "cell_type": "code",
      "execution_count": null,
      "metadata": {
        "id": "dMUbZUbsAW67",
        "outputId": "ce92e902-e8d2-40ab-c8ae-b7e4fb72ddf3"
      },
      "outputs": [
        {
          "data": {
            "text/plain": [
              "[1, 23, 4, 5, [...]]"
            ]
          },
          "execution_count": 162,
          "metadata": {},
          "output_type": "execute_result"
        }
      ],
      "source": [
        "l[4]"
      ]
    },
    {
      "cell_type": "code",
      "execution_count": null,
      "metadata": {
        "id": "YhRoooFiAW67",
        "outputId": "c93e2a1e-3c88-430f-fb08-9cc09ac44232"
      },
      "outputs": [
        {
          "data": {
            "text/plain": [
              "1"
            ]
          },
          "execution_count": 1,
          "metadata": {},
          "output_type": "execute_result"
        }
      ],
      "source": [
        "t1 = (\"aditya\",1,1+2j,3.4,True)\n",
        "t1.index(True)\n"
      ]
    },
    {
      "cell_type": "code",
      "execution_count": null,
      "metadata": {
        "id": "3j7OVuuXAW68",
        "outputId": "8b7f3a96-4229-4783-c425-5ede2f4739f4"
      },
      "outputs": [
        {
          "ename": "NameError",
          "evalue": "name 'd1' is not defined",
          "output_type": "error",
          "traceback": [
            "\u001b[1;31m---------------------------------------------------------------------------\u001b[0m",
            "\u001b[1;31mNameError\u001b[0m                                 Traceback (most recent call last)",
            "\u001b[1;32m<ipython-input-2-2d3a24957153>\u001b[0m in \u001b[0;36m<module>\u001b[1;34m\u001b[0m\n\u001b[1;32m----> 1\u001b[1;33m \u001b[0md1\u001b[0m\u001b[1;33m\u001b[0m\u001b[1;33m\u001b[0m\u001b[0m\n\u001b[0m",
            "\u001b[1;31mNameError\u001b[0m: name 'd1' is not defined"
          ]
        }
      ],
      "source": [
        "d1"
      ]
    },
    {
      "cell_type": "code",
      "execution_count": null,
      "metadata": {
        "id": "DD7IjHg-AW6-",
        "outputId": "df8c7357-7e87-4079-85e3-76a1c3f6fab3"
      },
      "outputs": [
        {
          "data": {
            "text/plain": [
              "{'key1': 'ineruon', 'key': 'FSDS'}"
            ]
          },
          "execution_count": 5,
          "metadata": {},
          "output_type": "execute_result"
        }
      ],
      "source": [
        "d1"
      ]
    },
    {
      "cell_type": "code",
      "execution_count": null,
      "metadata": {
        "id": "MYg1HWHcAW6_",
        "outputId": "0ec05245-1f1f-4d85-d558-55805f958442"
      },
      "outputs": [
        {
          "data": {
            "text/plain": [
              "{'key2': 456, 'key3': [1, 2, 3, 4, 5]}"
            ]
          },
          "execution_count": 6,
          "metadata": {},
          "output_type": "execute_result"
        }
      ],
      "source": [
        "d2"
      ]
    },
    {
      "cell_type": "code",
      "execution_count": null,
      "metadata": {
        "id": "zoLDFNDlAW7B",
        "outputId": "ed3b4d26-36da-4d6c-b0ce-d81df6eda075"
      },
      "outputs": [
        {
          "ename": "KeyError",
          "evalue": "'keyfdsf'",
          "output_type": "error",
          "traceback": [
            "\u001b[1;31m---------------------------------------------------------------------------\u001b[0m",
            "\u001b[1;31mKeyError\u001b[0m                                  Traceback (most recent call last)",
            "\u001b[1;32m<ipython-input-9-540c89fdb45d>\u001b[0m in \u001b[0;36m<module>\u001b[1;34m\u001b[0m\n\u001b[1;32m----> 1\u001b[1;33m \u001b[0md1\u001b[0m\u001b[1;33m[\u001b[0m\u001b[1;34m'keyfdsf'\u001b[0m\u001b[1;33m]\u001b[0m\u001b[1;33m\u001b[0m\u001b[1;33m\u001b[0m\u001b[0m\n\u001b[0m",
            "\u001b[1;31mKeyError\u001b[0m: 'keyfdsf'"
          ]
        }
      ],
      "source": [
        "d1['keyfdsf']"
      ]
    },
    {
      "cell_type": "code",
      "execution_count": null,
      "metadata": {
        "id": "QEFHyD6AAW7C"
      },
      "outputs": [],
      "source": [
        "d1.get('key1fdsf')"
      ]
    },
    {
      "cell_type": "code",
      "execution_count": null,
      "metadata": {
        "id": "U2-seopoAW7C",
        "outputId": "24eed03d-7c4d-4696-9197-b7e458542608"
      },
      "outputs": [
        {
          "data": {
            "text/plain": [
              "{'key1': 'ineruon', 'key': 'FSDS'}"
            ]
          },
          "execution_count": 11,
          "metadata": {},
          "output_type": "execute_result"
        }
      ],
      "source": [
        "d1\n"
      ]
    },
    {
      "cell_type": "code",
      "execution_count": null,
      "metadata": {
        "id": "SLv0FmyaAW7E"
      },
      "outputs": [],
      "source": [
        "key= (\"name\" , \"mobile_no\" , \"email_id\")\n",
        "value = (\"sudh\" , \"fdsf\" ,\"dsf\")"
      ]
    },
    {
      "cell_type": "code",
      "execution_count": null,
      "metadata": {
        "id": "bLnFC5czAW7F"
      },
      "outputs": [],
      "source": [
        "d = d1.fromkeys(key,value)"
      ]
    },
    {
      "cell_type": "code",
      "execution_count": null,
      "metadata": {
        "id": "_5dl-pQQAW7G",
        "outputId": "fb10b718-880c-42d1-a4d8-c4523caa5a8b"
      },
      "outputs": [
        {
          "data": {
            "text/plain": [
              "{'name': ('sudh', 'fdsf', 'dsf'),\n",
              " 'mobile_no': ('sudh', 'fdsf', 'dsf'),\n",
              " 'email_id': ('sudh', 'fdsf', 'dsf')}"
            ]
          },
          "execution_count": 24,
          "metadata": {},
          "output_type": "execute_result"
        }
      ],
      "source": [
        "d"
      ]
    },
    {
      "cell_type": "code",
      "execution_count": null,
      "metadata": {
        "id": "QqDo2yRoAW7G",
        "outputId": "ef352caf-3127-42b3-e8a0-448b9a996f7a"
      },
      "outputs": [
        {
          "data": {
            "text/plain": [
              "0"
            ]
          },
          "execution_count": 15,
          "metadata": {},
          "output_type": "execute_result"
        }
      ],
      "source": [
        "t1=(1,2,3,4,'dfs',True)\n",
        "t1.index(True)\n",
        "\n"
      ]
    },
    {
      "cell_type": "code",
      "execution_count": null,
      "metadata": {
        "id": "6KSvw5nUAW7H",
        "outputId": "7ec71395-0dae-4046-dc1c-07eef6150bbf"
      },
      "outputs": [
        {
          "ename": "TypeError",
          "evalue": "unhashable type: 'list'",
          "output_type": "error",
          "traceback": [
            "\u001b[1;31m---------------------------------------------------------------------------\u001b[0m",
            "\u001b[1;31mTypeError\u001b[0m                                 Traceback (most recent call last)",
            "\u001b[1;32m<ipython-input-16-9dab632140b2>\u001b[0m in \u001b[0;36m<module>\u001b[1;34m\u001b[0m\n\u001b[1;32m----> 1\u001b[1;33m \u001b[1;33m{\u001b[0m\u001b[1;33m[\u001b[0m\u001b[1;36m3\u001b[0m\u001b[1;33m,\u001b[0m\u001b[1;36m4\u001b[0m\u001b[1;33m,\u001b[0m\u001b[1;36m5\u001b[0m\u001b[1;33m,\u001b[0m\u001b[1;36m6\u001b[0m\u001b[1;33m]\u001b[0m \u001b[1;33m,\u001b[0m \u001b[1;36m4\u001b[0m\u001b[1;33m,\u001b[0m\u001b[1;36m5\u001b[0m\u001b[1;33m,\u001b[0m\u001b[1;36m5\u001b[0m\u001b[1;33m,\u001b[0m\u001b[1;36m6\u001b[0m\u001b[1;33m,\u001b[0m\u001b[1;36m7\u001b[0m\u001b[1;33m}\u001b[0m\u001b[1;33m\u001b[0m\u001b[1;33m\u001b[0m\u001b[0m\n\u001b[0m",
            "\u001b[1;31mTypeError\u001b[0m: unhashable type: 'list'"
          ]
        }
      ],
      "source": [
        "{[3,4,5,6] , 4,5,5,6,7}"
      ]
    },
    {
      "cell_type": "code",
      "execution_count": null,
      "metadata": {
        "id": "pB8ef2RbAW7I",
        "outputId": "3044bd1b-cce8-4bee-d2fa-88376f17e7c3"
      },
      "outputs": [
        {
          "ename": "NameError",
          "evalue": "name '_4' is not defined",
          "output_type": "error",
          "traceback": [
            "\u001b[1;31m---------------------------------------------------------------------------\u001b[0m",
            "\u001b[1;31mNameError\u001b[0m                                 Traceback (most recent call last)",
            "\u001b[1;32m<ipython-input-19-32a48dc1e9c0>\u001b[0m in \u001b[0;36m<module>\u001b[1;34m\u001b[0m\n\u001b[1;32m----> 1\u001b[1;33m \u001b[0md1\u001b[0m\u001b[1;33m=\u001b[0m\u001b[1;33m{\u001b[0m\u001b[0m_4\u001b[0m\u001b[1;33m:\u001b[0m\u001b[1;33m[\u001b[0m\u001b[1;36m1\u001b[0m\u001b[1;33m,\u001b[0m\u001b[1;36m2\u001b[0m\u001b[1;33m,\u001b[0m\u001b[1;36m3\u001b[0m\u001b[1;33m]\u001b[0m\u001b[1;33m,\u001b[0m\u001b[1;34m\"key\"\u001b[0m\u001b[1;33m:\u001b[0m\u001b[1;34m\"sudg\"\u001b[0m\u001b[1;33m,\u001b[0m \u001b[1;34m\"key1\"\u001b[0m\u001b[1;33m:\u001b[0m\u001b[1;36m5\u001b[0m\u001b[1;33m}\u001b[0m\u001b[1;33m\u001b[0m\u001b[1;33m\u001b[0m\u001b[0m\n\u001b[0m",
            "\u001b[1;31mNameError\u001b[0m: name '_4' is not defined"
          ]
        }
      ],
      "source": [
        "d1={_4:[1,2,3],\"key\":\"sudg\", \"key1\":5} "
      ]
    },
    {
      "cell_type": "code",
      "execution_count": null,
      "metadata": {
        "id": "a1X9RAB3AW7J",
        "outputId": "54669cde-97aa-475a-d1d6-dafe3c00d70f"
      },
      "outputs": [
        {
          "data": {
            "text/plain": [
              "[1]"
            ]
          },
          "execution_count": 25,
          "metadata": {},
          "output_type": "execute_result"
        }
      ],
      "source": [
        "l=[1,2,3,4,5]\n",
        "l[0::-1]\n"
      ]
    },
    {
      "cell_type": "code",
      "execution_count": null,
      "metadata": {
        "id": "BLAuJYmuAW7K",
        "outputId": "ffbc34bc-b54f-40b4-b010-0971a8c28054"
      },
      "outputs": [
        {
          "data": {
            "text/plain": [
              "tuple"
            ]
          },
          "execution_count": 26,
          "metadata": {},
          "output_type": "execute_result"
        }
      ],
      "source": [
        "t1 = (1,2,3,4,5)\n",
        "type(t1)"
      ]
    },
    {
      "cell_type": "code",
      "execution_count": null,
      "metadata": {
        "id": "4vl1na10AW7L"
      },
      "outputs": [],
      "source": [
        "t1 = (1)"
      ]
    },
    {
      "cell_type": "code",
      "execution_count": null,
      "metadata": {
        "id": "WquPWCoyAW7L",
        "outputId": "1a1e0d00-1ecf-438b-d6e5-a2b2092b0e8f"
      },
      "outputs": [
        {
          "data": {
            "text/plain": [
              "int"
            ]
          },
          "execution_count": 28,
          "metadata": {},
          "output_type": "execute_result"
        }
      ],
      "source": [
        "type(t1)"
      ]
    },
    {
      "cell_type": "code",
      "execution_count": null,
      "metadata": {
        "id": "a5z_AP86AW7M"
      },
      "outputs": [],
      "source": [
        "t = ([1,2,3,4,54] , \"dfsf\" , 234)"
      ]
    },
    {
      "cell_type": "code",
      "execution_count": null,
      "metadata": {
        "id": "9TFscJ0pAW7N",
        "outputId": "7d53366f-93c9-4732-c8a6-5d2a858e5273"
      },
      "outputs": [
        {
          "data": {
            "text/plain": [
              "[1, 2, 3, 4, 54]"
            ]
          },
          "execution_count": 30,
          "metadata": {},
          "output_type": "execute_result"
        }
      ],
      "source": [
        "t[0] "
      ]
    },
    {
      "cell_type": "code",
      "execution_count": null,
      "metadata": {
        "id": "_3Ao1dFCAW7N"
      },
      "outputs": [],
      "source": [
        "t[0][1]  = \"dfsfs\""
      ]
    },
    {
      "cell_type": "code",
      "execution_count": null,
      "metadata": {
        "id": "Tw2tZ8jvAW7O",
        "outputId": "87e934c7-9205-434f-bbd8-cf75a9237ee2"
      },
      "outputs": [
        {
          "data": {
            "text/plain": [
              "([1, 'dfsfs', 3, 4, 54], 'dfsf', 234)"
            ]
          },
          "execution_count": 33,
          "metadata": {},
          "output_type": "execute_result"
        }
      ],
      "source": [
        "t"
      ]
    },
    {
      "cell_type": "code",
      "execution_count": null,
      "metadata": {
        "id": "RJU8H6spAW7P"
      },
      "outputs": [],
      "source": [
        "s = {45,343,5454,545,565,65,65,6,56,56,5,343534,566,5,65,6,5,4353543,4,556}"
      ]
    },
    {
      "cell_type": "code",
      "execution_count": null,
      "metadata": {
        "id": "_4QplfsLAW7P",
        "outputId": "4940a2b4-d79c-421c-c1fa-5d7b4e40102f"
      },
      "outputs": [
        {
          "data": {
            "text/plain": [
              "{4, 5, 6, 45, 56, 65, 343, 545, 556, 565, 566, 5454, 343534, 4353543}"
            ]
          },
          "execution_count": 37,
          "metadata": {},
          "output_type": "execute_result"
        }
      ],
      "source": [
        "s"
      ]
    },
    {
      "cell_type": "code",
      "execution_count": null,
      "metadata": {
        "id": "JeyXz1jkAW7Q"
      },
      "outputs": [],
      "source": [
        "i = 0 \n",
        "j = 3\n",
        "for i, j in range(i,j) : \n",
        "     "
      ]
    },
    {
      "cell_type": "code",
      "execution_count": null,
      "metadata": {
        "id": "dIbkXnsqAW7S"
      },
      "outputs": [],
      "source": [
        "i = 10 \n",
        "j = 6"
      ]
    },
    {
      "cell_type": "code",
      "execution_count": null,
      "metadata": {
        "id": "VhhXNXfDAW7V",
        "outputId": "4b2e21d4-1924-49a3-f1d2-3b99208a38e5"
      },
      "outputs": [
        {
          "data": {
            "text/plain": [
              "10"
            ]
          },
          "execution_count": 39,
          "metadata": {},
          "output_type": "execute_result"
        }
      ],
      "source": [
        "i "
      ]
    },
    {
      "cell_type": "code",
      "execution_count": null,
      "metadata": {
        "id": "iWffUBnzAW7W",
        "outputId": "32c88437-3adf-41bc-f7b5-035adee68da8"
      },
      "outputs": [
        {
          "data": {
            "text/plain": [
              "6"
            ]
          },
          "execution_count": 40,
          "metadata": {},
          "output_type": "execute_result"
        }
      ],
      "source": [
        "j "
      ]
    },
    {
      "cell_type": "code",
      "execution_count": null,
      "metadata": {
        "id": "Y7T6AmMxAW7X"
      },
      "outputs": [],
      "source": [
        " i,j = 10,6"
      ]
    },
    {
      "cell_type": "code",
      "execution_count": null,
      "metadata": {
        "id": "a6WTM7xvAW7X",
        "outputId": "4980f56a-73c7-4002-e62c-14e3b0a4be30"
      },
      "outputs": [
        {
          "data": {
            "text/plain": [
              "10"
            ]
          },
          "execution_count": 42,
          "metadata": {},
          "output_type": "execute_result"
        }
      ],
      "source": [
        "i "
      ]
    },
    {
      "cell_type": "code",
      "execution_count": null,
      "metadata": {
        "id": "9d6GQZfWAW7Y",
        "outputId": "2971781f-a140-4124-88c6-a7ad8e61287c"
      },
      "outputs": [
        {
          "data": {
            "text/plain": [
              "6"
            ]
          },
          "execution_count": 43,
          "metadata": {},
          "output_type": "execute_result"
        }
      ],
      "source": [
        "j"
      ]
    },
    {
      "cell_type": "code",
      "execution_count": null,
      "metadata": {
        "id": "n7qaE0ZSAW7Y"
      },
      "outputs": [],
      "source": [
        "i = 4,5"
      ]
    },
    {
      "cell_type": "code",
      "execution_count": null,
      "metadata": {
        "id": "_F_KujfZAW7Y",
        "outputId": "2d720d6f-6377-4e2e-8e29-064a4292310a"
      },
      "outputs": [
        {
          "data": {
            "text/plain": [
              "(4, 5)"
            ]
          },
          "execution_count": 45,
          "metadata": {},
          "output_type": "execute_result"
        }
      ],
      "source": [
        "i"
      ]
    },
    {
      "cell_type": "code",
      "execution_count": null,
      "metadata": {
        "id": "vMoDLhyZAW7Z",
        "outputId": "bc837353-31ae-4ab0-a79c-44d83f457533"
      },
      "outputs": [
        {
          "ename": "TypeError",
          "evalue": "unsupported operand type(s) for *: 'dict' and 'int'",
          "output_type": "error",
          "traceback": [
            "\u001b[1;31m---------------------------------------------------------------------------\u001b[0m",
            "\u001b[1;31mTypeError\u001b[0m                                 Traceback (most recent call last)",
            "\u001b[1;32m<ipython-input-46-598a4e07c337>\u001b[0m in \u001b[0;36m<module>\u001b[1;34m\u001b[0m\n\u001b[1;32m----> 1\u001b[1;33m \u001b[0md1\u001b[0m \u001b[1;33m*\u001b[0m\u001b[1;36m2\u001b[0m\u001b[1;33m\u001b[0m\u001b[1;33m\u001b[0m\u001b[0m\n\u001b[0m",
            "\u001b[1;31mTypeError\u001b[0m: unsupported operand type(s) for *: 'dict' and 'int'"
          ]
        }
      ],
      "source": [
        "d1 *2"
      ]
    },
    {
      "cell_type": "code",
      "execution_count": null,
      "metadata": {
        "id": "JXI7JbavAW7a"
      },
      "outputs": [],
      "source": [
        "d3={\"key1\":\"ineuron\",\"key2\":\"fsds\"}\n",
        "d4={\"key1\":456,\"key2\":[1,2,3,4]}\n",
        "d3.update(d4)\n"
      ]
    },
    {
      "cell_type": "code",
      "execution_count": null,
      "metadata": {
        "id": "ro4ZGAsFAW7b",
        "outputId": "1c1ee50a-1892-4114-8e50-a9e6f0d2a5fb"
      },
      "outputs": [
        {
          "data": {
            "text/plain": [
              "{'key1': 456, 'key2': [1, 2, 3, 4]}"
            ]
          },
          "execution_count": 48,
          "metadata": {},
          "output_type": "execute_result"
        }
      ],
      "source": [
        "d3"
      ]
    },
    {
      "cell_type": "code",
      "execution_count": null,
      "metadata": {
        "id": "WFYYkh_-AW7b",
        "outputId": "bb666a75-b2c5-456a-b309-5e98735327c3"
      },
      "outputs": [
        {
          "data": {
            "text/plain": [
              "[1]"
            ]
          },
          "execution_count": 51,
          "metadata": {},
          "output_type": "execute_result"
        }
      ],
      "source": [
        "l=[1,2,3,4,5]\n",
        "l[0::-1]"
      ]
    },
    {
      "cell_type": "code",
      "execution_count": null,
      "metadata": {
        "id": "kw1q0mm2AW7c"
      },
      "outputs": [],
      "source": [
        "d = {'key1' :\"fdsf\" , \"key2\" :\"fdsf\" , \"key1\" :2354}"
      ]
    },
    {
      "cell_type": "code",
      "execution_count": null,
      "metadata": {
        "id": "gM5jqvqmAW7d",
        "outputId": "43614cc0-0e95-4dad-9c51-5ba5bbfb1674"
      },
      "outputs": [
        {
          "data": {
            "text/plain": [
              "dict_keys(['key1', 'key2'])"
            ]
          },
          "execution_count": 54,
          "metadata": {},
          "output_type": "execute_result"
        }
      ],
      "source": [
        "d.keys()"
      ]
    },
    {
      "cell_type": "code",
      "execution_count": null,
      "metadata": {
        "id": "3yA1deX_AW7e"
      },
      "outputs": [],
      "source": [
        "t = (1,2,3,4,1,True)"
      ]
    },
    {
      "cell_type": "code",
      "execution_count": null,
      "metadata": {
        "id": "bfHjuEEwAW7f",
        "outputId": "d919dfa0-d55f-4892-c16e-c7d2a466e474"
      },
      "outputs": [
        {
          "data": {
            "text/plain": [
              "3"
            ]
          },
          "execution_count": 56,
          "metadata": {},
          "output_type": "execute_result"
        }
      ],
      "source": [
        "t.count(1)"
      ]
    },
    {
      "cell_type": "code",
      "execution_count": null,
      "metadata": {
        "id": "yze3oiAxAW7h",
        "outputId": "02aad349-eb10-4064-9bb7-95b10ca27b3f"
      },
      "outputs": [
        {
          "data": {
            "text/plain": [
              "True"
            ]
          },
          "execution_count": 57,
          "metadata": {},
          "output_type": "execute_result"
        }
      ],
      "source": [
        "t[5]"
      ]
    },
    {
      "cell_type": "code",
      "execution_count": null,
      "metadata": {
        "id": "WllLES1vAW7j",
        "outputId": "0873455d-618c-4485-a5a2-84139ce9cdf3"
      },
      "outputs": [
        {
          "data": {
            "text/plain": [
              "['a', 'b']"
            ]
          },
          "execution_count": 58,
          "metadata": {},
          "output_type": "execute_result"
        }
      ],
      "source": [
        "list({'a':1, 'b':2})"
      ]
    },
    {
      "cell_type": "code",
      "execution_count": null,
      "metadata": {
        "id": "zdOv3YqlAW7k"
      },
      "outputs": [],
      "source": [
        "t = (0,1,True)"
      ]
    },
    {
      "cell_type": "code",
      "execution_count": null,
      "metadata": {
        "id": "bJKQu6w3AW7l",
        "outputId": "f5b00ecf-882e-48a2-a4a2-a0d78a2b6a37"
      },
      "outputs": [
        {
          "data": {
            "text/plain": [
              "2"
            ]
          },
          "execution_count": 61,
          "metadata": {},
          "output_type": "execute_result"
        }
      ],
      "source": [
        "t.count(1)"
      ]
    },
    {
      "cell_type": "code",
      "execution_count": null,
      "metadata": {
        "id": "iaZBBCotAW7m",
        "outputId": "2ec4f178-724c-44d7-977a-b7079fe47df6"
      },
      "outputs": [
        {
          "ename": "NameError",
          "evalue": "name '_3' is not defined",
          "output_type": "error",
          "traceback": [
            "\u001b[1;31m---------------------------------------------------------------------------\u001b[0m",
            "\u001b[1;31mNameError\u001b[0m                                 Traceback (most recent call last)",
            "\u001b[1;32m<ipython-input-62-30062ffeabd8>\u001b[0m in \u001b[0;36m<module>\u001b[1;34m\u001b[0m\n\u001b[1;32m----> 1\u001b[1;33m \u001b[0me\u001b[0m \u001b[1;33m=\u001b[0m \u001b[1;33m{\u001b[0m\u001b[0m_3\u001b[0m\u001b[1;33m:\u001b[0m \u001b[1;33m[\u001b[0m\u001b[1;34m\"dfsaf\"\u001b[0m\u001b[1;33m,\u001b[0m \u001b[1;34m\"dfsf\"\u001b[0m\u001b[1;33m,\u001b[0m\u001b[1;36m4\u001b[0m\u001b[1;33m,\u001b[0m\u001b[1;36m5\u001b[0m\u001b[1;33m,\u001b[0m\u001b[1;36m6\u001b[0m\u001b[1;33m,\u001b[0m\u001b[1;36m7\u001b[0m\u001b[1;33m,\u001b[0m\u001b[1;36m7\u001b[0m\u001b[1;33m]\u001b[0m\u001b[1;33m}\u001b[0m\u001b[1;33m\u001b[0m\u001b[1;33m\u001b[0m\u001b[0m\n\u001b[0m\u001b[0;32m      2\u001b[0m \u001b[1;33m\u001b[0m\u001b[0m\n",
            "\u001b[1;31mNameError\u001b[0m: name '_3' is not defined"
          ]
        }
      ],
      "source": [
        "e = {_3: [\"dfsaf\", \"dfsf\",4,5,6,7,7]}\n",
        "\n"
      ]
    },
    {
      "cell_type": "code",
      "execution_count": null,
      "metadata": {
        "id": "ZHLhf-ZOAW7n"
      },
      "outputs": [],
      "source": [
        "e = {_3: [\"dfsaf\", \"dfsf\",4,5,6,7,7]}\n",
        "\n",
        "Output : \n",
        "\n",
        "{tuple: ['dfsaf', 'dfsf', 4, 5, 6, 7, 7]}\n"
      ]
    }
  ],
  "metadata": {
    "kernelspec": {
      "display_name": "Python 3",
      "language": "python",
      "name": "python3"
    },
    "language_info": {
      "codemirror_mode": {
        "name": "ipython",
        "version": 3
      },
      "file_extension": ".py",
      "mimetype": "text/x-python",
      "name": "python",
      "nbconvert_exporter": "python",
      "pygments_lexer": "ipython3",
      "version": "3.8.5"
    },
    "colab": {
      "name": "Tuples , set , dict .ipynb",
      "provenance": []
    }
  },
  "nbformat": 4,
  "nbformat_minor": 0
}