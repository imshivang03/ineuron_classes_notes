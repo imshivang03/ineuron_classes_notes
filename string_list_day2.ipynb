{
  "cells": [
    {
      "cell_type": "code",
      "execution_count": null,
      "metadata": {
        "id": "a7ohjaFw3sBg"
      },
      "outputs": [],
      "source": [
        "s = \"sudh\""
      ]
    },
    {
      "cell_type": "code",
      "execution_count": null,
      "metadata": {
        "id": "YQjPHzbG3sBu",
        "outputId": "b0a0e569-f225-498f-ae01-80ac03c5e10f"
      },
      "outputs": [
        {
          "data": {
            "text/plain": [
              "str"
            ]
          },
          "execution_count": 2,
          "metadata": {},
          "output_type": "execute_result"
        }
      ],
      "source": [
        "type(s)"
      ]
    },
    {
      "cell_type": "code",
      "execution_count": null,
      "metadata": {
        "id": "PjgUn85C3sBy",
        "outputId": "33337ea2-6afe-4377-bf7e-53c6f2c68711"
      },
      "outputs": [
        {
          "data": {
            "text/plain": [
              "'s'"
            ]
          },
          "execution_count": 3,
          "metadata": {},
          "output_type": "execute_result"
        }
      ],
      "source": [
        "s[0]"
      ]
    },
    {
      "cell_type": "code",
      "execution_count": null,
      "metadata": {
        "id": "odsKoa4O3sB1",
        "outputId": "0f3936c5-86be-46c1-fe08-38deff51ea31"
      },
      "outputs": [
        {
          "data": {
            "text/plain": [
              "'u'"
            ]
          },
          "execution_count": 4,
          "metadata": {},
          "output_type": "execute_result"
        }
      ],
      "source": [
        "s[1]"
      ]
    },
    {
      "cell_type": "code",
      "execution_count": null,
      "metadata": {
        "id": "8NFyKtuU3sB2",
        "outputId": "0a975809-fdff-4712-a5e9-2df7795cec2c"
      },
      "outputs": [
        {
          "data": {
            "text/plain": [
              "'d'"
            ]
          },
          "execution_count": 5,
          "metadata": {},
          "output_type": "execute_result"
        }
      ],
      "source": [
        "s[2]"
      ]
    },
    {
      "cell_type": "code",
      "execution_count": null,
      "metadata": {
        "id": "SXPNK00Y3sB4",
        "outputId": "cc03cae4-834f-491f-fd40-6b47a228d84f"
      },
      "outputs": [
        {
          "data": {
            "text/plain": [
              "'h'"
            ]
          },
          "execution_count": 6,
          "metadata": {},
          "output_type": "execute_result"
        }
      ],
      "source": [
        "s[3]"
      ]
    },
    {
      "cell_type": "code",
      "execution_count": null,
      "metadata": {
        "id": "rdqKHxy53sB6",
        "outputId": "3e865f26-cde1-4aba-8c2e-7e24c7d43e6d"
      },
      "outputs": [
        {
          "data": {
            "text/plain": [
              "'h'"
            ]
          },
          "execution_count": 7,
          "metadata": {},
          "output_type": "execute_result"
        }
      ],
      "source": [
        "s[-1]"
      ]
    },
    {
      "cell_type": "code",
      "execution_count": null,
      "metadata": {
        "id": "syuUIVrw3sB8",
        "outputId": "76c2becb-fdc0-45e9-9588-f63b44f3d611"
      },
      "outputs": [
        {
          "data": {
            "text/plain": [
              "'d'"
            ]
          },
          "execution_count": 8,
          "metadata": {},
          "output_type": "execute_result"
        }
      ],
      "source": [
        "s[-2]"
      ]
    },
    {
      "cell_type": "code",
      "execution_count": null,
      "metadata": {
        "id": "ddcq_k0E3sB-"
      },
      "outputs": [],
      "source": [
        "a = \"my name is sudh\""
      ]
    },
    {
      "cell_type": "code",
      "execution_count": null,
      "metadata": {
        "id": "GhBntSV13sCB",
        "outputId": "0ff5a0da-905c-433d-e44b-9041dfb1feee"
      },
      "outputs": [
        {
          "data": {
            "text/plain": [
              "'h'"
            ]
          },
          "execution_count": 10,
          "metadata": {},
          "output_type": "execute_result"
        }
      ],
      "source": [
        "a[-1]"
      ]
    },
    {
      "cell_type": "code",
      "execution_count": null,
      "metadata": {
        "id": "6LHdJeL53sCF",
        "outputId": "a9b6b909-9466-47c0-f7bc-bd4a3ac25301"
      },
      "outputs": [
        {
          "data": {
            "text/plain": [
              "'m'"
            ]
          },
          "execution_count": 11,
          "metadata": {},
          "output_type": "execute_result"
        }
      ],
      "source": [
        "a[0]"
      ]
    },
    {
      "cell_type": "code",
      "execution_count": null,
      "metadata": {
        "id": "9yY-ExjK3sCH",
        "outputId": "602cf61d-f1ca-40c0-9f51-6e48ee5e0908"
      },
      "outputs": [
        {
          "ename": "IndexError",
          "evalue": "string index out of range",
          "output_type": "error",
          "traceback": [
            "\u001b[1;31m---------------------------------------------------------------------------\u001b[0m",
            "\u001b[1;31mIndexError\u001b[0m                                Traceback (most recent call last)",
            "\u001b[1;32m<ipython-input-12-cd7724b6c85f>\u001b[0m in \u001b[0;36m<module>\u001b[1;34m\u001b[0m\n\u001b[1;32m----> 1\u001b[1;33m \u001b[0ma\u001b[0m\u001b[1;33m[\u001b[0m\u001b[1;36m100\u001b[0m\u001b[1;33m]\u001b[0m\u001b[1;33m\u001b[0m\u001b[1;33m\u001b[0m\u001b[0m\n\u001b[0m",
            "\u001b[1;31mIndexError\u001b[0m: string index out of range"
          ]
        }
      ],
      "source": [
        "a[100]"
      ]
    },
    {
      "cell_type": "code",
      "execution_count": null,
      "metadata": {
        "id": "fa6xfO423sCI",
        "outputId": "9d3629ac-0c1e-4b48-a005-6ca30818fa1e"
      },
      "outputs": [
        {
          "data": {
            "text/plain": [
              "'my name is sudh'"
            ]
          },
          "execution_count": 14,
          "metadata": {},
          "output_type": "execute_result"
        }
      ],
      "source": [
        "a"
      ]
    },
    {
      "cell_type": "code",
      "execution_count": null,
      "metadata": {
        "id": "1WZmFFch3sCJ",
        "outputId": "e979ad48-ac59-4807-fbf8-38f784eb89b4"
      },
      "outputs": [
        {
          "data": {
            "text/plain": [
              "'my name is'"
            ]
          },
          "execution_count": 15,
          "metadata": {},
          "output_type": "execute_result"
        }
      ],
      "source": [
        "a[0:10]"
      ]
    },
    {
      "cell_type": "code",
      "execution_count": null,
      "metadata": {
        "id": "lbwzPc7K3sCL"
      },
      "outputs": [],
      "source": [
        "b = \"ineuron\""
      ]
    },
    {
      "cell_type": "code",
      "execution_count": null,
      "metadata": {
        "id": "RBtF8YU_3sCL",
        "outputId": "006c6ebe-5a54-4e1c-940b-e50c956e44b7"
      },
      "outputs": [
        {
          "data": {
            "text/plain": [
              "'ine'"
            ]
          },
          "execution_count": 17,
          "metadata": {},
          "output_type": "execute_result"
        }
      ],
      "source": [
        "b[0:3]"
      ]
    },
    {
      "cell_type": "code",
      "execution_count": null,
      "metadata": {
        "id": "tHxh1s0r3sCM",
        "outputId": "7dfbf836-e502-4b2a-f840-4768bec9b3c6"
      },
      "outputs": [
        {
          "data": {
            "text/plain": [
              "'ineuron'"
            ]
          },
          "execution_count": 18,
          "metadata": {},
          "output_type": "execute_result"
        }
      ],
      "source": [
        "b[0:300]"
      ]
    },
    {
      "cell_type": "code",
      "execution_count": null,
      "metadata": {
        "id": "34j1GvO33sCO",
        "outputId": "52807fbf-53d9-482d-a54a-cac71781ab80"
      },
      "outputs": [
        {
          "ename": "IndexError",
          "evalue": "string index out of range",
          "output_type": "error",
          "traceback": [
            "\u001b[1;31m---------------------------------------------------------------------------\u001b[0m",
            "\u001b[1;31mIndexError\u001b[0m                                Traceback (most recent call last)",
            "\u001b[1;32m<ipython-input-19-6ff6ddb2b1a6>\u001b[0m in \u001b[0;36m<module>\u001b[1;34m\u001b[0m\n\u001b[1;32m----> 1\u001b[1;33m \u001b[0mb\u001b[0m\u001b[1;33m[\u001b[0m\u001b[1;36m300\u001b[0m\u001b[1;33m]\u001b[0m\u001b[1;33m\u001b[0m\u001b[1;33m\u001b[0m\u001b[0m\n\u001b[0m",
            "\u001b[1;31mIndexError\u001b[0m: string index out of range"
          ]
        }
      ],
      "source": [
        "b[300]"
      ]
    },
    {
      "cell_type": "code",
      "execution_count": null,
      "metadata": {
        "id": "A1vIOtfa3sCP",
        "outputId": "91858480-2dc8-46e7-c425-a7ee1e933bed"
      },
      "outputs": [
        {
          "ename": "IndexError",
          "evalue": "string index out of range",
          "output_type": "error",
          "traceback": [
            "\u001b[1;31m---------------------------------------------------------------------------\u001b[0m",
            "\u001b[1;31mIndexError\u001b[0m                                Traceback (most recent call last)",
            "\u001b[1;32m<ipython-input-21-b20bba380709>\u001b[0m in \u001b[0;36m<module>\u001b[1;34m\u001b[0m\n\u001b[1;32m----> 1\u001b[1;33m \u001b[0mb\u001b[0m\u001b[1;33m[\u001b[0m\u001b[1;33m-\u001b[0m\u001b[1;36m100\u001b[0m\u001b[1;33m]\u001b[0m\u001b[1;33m\u001b[0m\u001b[1;33m\u001b[0m\u001b[0m\n\u001b[0m",
            "\u001b[1;31mIndexError\u001b[0m: string index out of range"
          ]
        }
      ],
      "source": [
        "b[-100]"
      ]
    },
    {
      "cell_type": "code",
      "execution_count": null,
      "metadata": {
        "id": "5DNAwvlU3sCQ",
        "outputId": "024a5538-c677-4b7a-8f90-0e8cd61049b9"
      },
      "outputs": [
        {
          "data": {
            "text/plain": [
              "''"
            ]
          },
          "execution_count": 22,
          "metadata": {},
          "output_type": "execute_result"
        }
      ],
      "source": [
        "b[-1:-4]"
      ]
    },
    {
      "cell_type": "code",
      "execution_count": null,
      "metadata": {
        "id": "VkHZrjOi3sCR",
        "outputId": "07ea7c68-f8b9-44ac-b217-9193748303c7"
      },
      "outputs": [
        {
          "data": {
            "text/plain": [
              "'ineu'"
            ]
          },
          "execution_count": 23,
          "metadata": {},
          "output_type": "execute_result"
        }
      ],
      "source": [
        "b[0:4]"
      ]
    },
    {
      "cell_type": "code",
      "execution_count": null,
      "metadata": {
        "id": "2qsHnIG23sCS"
      },
      "outputs": [],
      "source": [
        "a = \"kumar\""
      ]
    },
    {
      "cell_type": "code",
      "execution_count": null,
      "metadata": {
        "id": "_w6zGV403sCT",
        "outputId": "f8792e72-4d37-48ed-925c-ce7bca215d4e"
      },
      "outputs": [
        {
          "data": {
            "text/plain": [
              "'kumar'"
            ]
          },
          "execution_count": 27,
          "metadata": {},
          "output_type": "execute_result"
        }
      ],
      "source": [
        "a[0:300:1]"
      ]
    },
    {
      "cell_type": "code",
      "execution_count": null,
      "metadata": {
        "id": "C6QrpBZn3sCW",
        "outputId": "25e0d151-bb1c-4f25-a8fc-33f8ea212bbd"
      },
      "outputs": [
        {
          "data": {
            "text/plain": [
              "'ka'"
            ]
          },
          "execution_count": 29,
          "metadata": {},
          "output_type": "execute_result"
        }
      ],
      "source": [
        "a[0:300:3]"
      ]
    },
    {
      "cell_type": "code",
      "execution_count": null,
      "metadata": {
        "id": "7Vyb39Kd3sCW",
        "outputId": "bd8fc758-aab4-495d-c410-f4fcc4aa09e8"
      },
      "outputs": [
        {
          "data": {
            "text/plain": [
              "''"
            ]
          },
          "execution_count": 30,
          "metadata": {},
          "output_type": "execute_result"
        }
      ],
      "source": [
        "a[0:100:-1]"
      ]
    },
    {
      "cell_type": "code",
      "execution_count": null,
      "metadata": {
        "id": "UJSuqbBX3sCX",
        "outputId": "006fc73e-dcc9-4726-f8f8-56a4c298a72f"
      },
      "outputs": [
        {
          "data": {
            "text/plain": [
              "'ram'"
            ]
          },
          "execution_count": 32,
          "metadata": {},
          "output_type": "execute_result"
        }
      ],
      "source": [
        "a[-1:-4:-1]"
      ]
    },
    {
      "cell_type": "code",
      "execution_count": null,
      "metadata": {
        "id": "GgRlBqf03sCY",
        "outputId": "21c12c69-0db7-4cee-885a-b5c2670145d0"
      },
      "outputs": [
        {
          "data": {
            "text/plain": [
              "'k'"
            ]
          },
          "execution_count": 34,
          "metadata": {},
          "output_type": "execute_result"
        }
      ],
      "source": [
        "a[0:-10:-1]"
      ]
    },
    {
      "cell_type": "code",
      "execution_count": null,
      "metadata": {
        "id": "44QDc_i43sCZ",
        "outputId": "86584ee8-969c-486e-c64b-2f2410a66fb7"
      },
      "outputs": [
        {
          "data": {
            "text/plain": [
              "'kumar'"
            ]
          },
          "execution_count": 35,
          "metadata": {},
          "output_type": "execute_result"
        }
      ],
      "source": [
        "a"
      ]
    },
    {
      "cell_type": "code",
      "execution_count": null,
      "metadata": {
        "id": "iN2nNoZC3sCa",
        "outputId": "8f01696c-28fb-454e-e707-d2f38dba21dd"
      },
      "outputs": [
        {
          "data": {
            "text/plain": [
              "'kumar'"
            ]
          },
          "execution_count": 36,
          "metadata": {},
          "output_type": "execute_result"
        }
      ],
      "source": [
        "a[::]"
      ]
    },
    {
      "cell_type": "code",
      "execution_count": null,
      "metadata": {
        "id": "JaOQx_bK3sCa",
        "outputId": "1268c704-e275-43e8-b5cb-add9e88108a4"
      },
      "outputs": [
        {
          "data": {
            "text/plain": [
              "'kumar'"
            ]
          },
          "execution_count": 37,
          "metadata": {},
          "output_type": "execute_result"
        }
      ],
      "source": [
        "a[:8]"
      ]
    },
    {
      "cell_type": "code",
      "execution_count": null,
      "metadata": {
        "id": "JiEl0LDP3sCb",
        "outputId": "f4493a0a-8da5-40e3-fd22-9b89c485c588"
      },
      "outputs": [
        {
          "data": {
            "text/plain": [
              "'a'"
            ]
          },
          "execution_count": 39,
          "metadata": {},
          "output_type": "execute_result"
        }
      ],
      "source": [
        "a[-2:-1]"
      ]
    },
    {
      "cell_type": "code",
      "execution_count": null,
      "metadata": {
        "id": "BpMYKkEO3sCc",
        "outputId": "ae983d92-081c-4a2e-c1bd-2dc41a60c649"
      },
      "outputs": [
        {
          "data": {
            "text/plain": [
              "'kumar'"
            ]
          },
          "execution_count": 40,
          "metadata": {},
          "output_type": "execute_result"
        }
      ],
      "source": [
        "a"
      ]
    },
    {
      "cell_type": "code",
      "execution_count": null,
      "metadata": {
        "id": "i49PaC3P3sCc",
        "outputId": "199104aa-fa6d-40ac-eacd-412647c5cd90"
      },
      "outputs": [
        {
          "data": {
            "text/plain": [
              "'ramuk'"
            ]
          },
          "execution_count": 41,
          "metadata": {},
          "output_type": "execute_result"
        }
      ],
      "source": [
        "a[::-1]"
      ]
    },
    {
      "cell_type": "code",
      "execution_count": null,
      "metadata": {
        "id": "jxFwwGPy3sCd",
        "outputId": "a36c8337-e4c5-470d-c292-1f96f4693f20"
      },
      "outputs": [
        {
          "data": {
            "text/plain": [
              "'ramuk'"
            ]
          },
          "execution_count": 42,
          "metadata": {},
          "output_type": "execute_result"
        }
      ],
      "source": [
        "a[-1::-1]"
      ]
    },
    {
      "cell_type": "code",
      "execution_count": null,
      "metadata": {
        "id": "yw0Usbbg3sCe"
      },
      "outputs": [],
      "source": [
        "a = \"i am working with ineuron\""
      ]
    },
    {
      "cell_type": "code",
      "execution_count": null,
      "metadata": {
        "id": "xwxStFgG3sCe",
        "outputId": "e7d0fa98-7159-4ce8-94f9-f2512fb17607"
      },
      "outputs": [
        {
          "data": {
            "text/plain": [
              "'norueni htiw gnikrow ma i'"
            ]
          },
          "execution_count": 44,
          "metadata": {},
          "output_type": "execute_result"
        }
      ],
      "source": [
        "a[::-1]"
      ]
    },
    {
      "cell_type": "code",
      "execution_count": null,
      "metadata": {
        "id": "sNOL06IF3sCk",
        "outputId": "e5e0288f-8b55-4b34-9e25-cf5f92d09fc8"
      },
      "outputs": [
        {
          "data": {
            "text/plain": [
              "'eni htiw gnikro'"
            ]
          },
          "execution_count": 46,
          "metadata": {},
          "output_type": "execute_result"
        }
      ],
      "source": [
        "a[-5:5:-1]"
      ]
    },
    {
      "cell_type": "code",
      "execution_count": null,
      "metadata": {
        "id": "PSCQ47wQ3sCl",
        "outputId": "d9781802-a423-4cd9-9a99-92178f8a2429"
      },
      "outputs": [
        {
          "data": {
            "text/plain": [
              "'orueni h'"
            ]
          },
          "execution_count": 47,
          "metadata": {},
          "output_type": "execute_result"
        }
      ],
      "source": [
        "a[-2:-10:-1] "
      ]
    },
    {
      "cell_type": "code",
      "execution_count": null,
      "metadata": {
        "id": "7N_OsCFy3sCn",
        "outputId": "5f87cc35-f3b1-41ce-d52d-8055ca8d69fd"
      },
      "outputs": [
        {
          "data": {
            "text/plain": [
              "'imoi tiun'"
            ]
          },
          "execution_count": 48,
          "metadata": {},
          "output_type": "execute_result"
        }
      ],
      "source": [
        "a[0:100:3]"
      ]
    },
    {
      "cell_type": "code",
      "execution_count": null,
      "metadata": {
        "id": "Qpd3os-33sCo",
        "outputId": "d7f86031-4c79-4d5b-921b-f01737c3e463"
      },
      "outputs": [
        {
          "data": {
            "text/plain": [
              "'sudhsudhsudh'"
            ]
          },
          "execution_count": 49,
          "metadata": {},
          "output_type": "execute_result"
        }
      ],
      "source": [
        "\"sudh\"*3"
      ]
    },
    {
      "cell_type": "code",
      "execution_count": null,
      "metadata": {
        "id": "nqEqh42X3sCp",
        "outputId": "97154caa-4898-4db8-c6b2-f8ad5ba7295b"
      },
      "outputs": [
        {
          "data": {
            "text/plain": [
              "'sudhkumar'"
            ]
          },
          "execution_count": 50,
          "metadata": {},
          "output_type": "execute_result"
        }
      ],
      "source": [
        "\"sudh\" + \"kumar\""
      ]
    },
    {
      "cell_type": "code",
      "execution_count": null,
      "metadata": {
        "id": "XtKXTqTn3sCs",
        "outputId": "a4cd6e8b-243f-4160-ea91-e4d094847fa7"
      },
      "outputs": [
        {
          "data": {
            "text/plain": [
              "'i am working with ineuron'"
            ]
          },
          "execution_count": 51,
          "metadata": {},
          "output_type": "execute_result"
        }
      ],
      "source": [
        "a"
      ]
    },
    {
      "cell_type": "code",
      "execution_count": null,
      "metadata": {
        "id": "8rY4J9nI3sCt",
        "outputId": "87a5a2db-094d-4878-d29c-7cce805c8749"
      },
      "outputs": [
        {
          "data": {
            "text/plain": [
              "25"
            ]
          },
          "execution_count": 52,
          "metadata": {},
          "output_type": "execute_result"
        }
      ],
      "source": [
        "len(a)"
      ]
    },
    {
      "cell_type": "code",
      "execution_count": null,
      "metadata": {
        "id": "BMLibHgH3sCu",
        "outputId": "00dc6c3a-9421-4257-abbe-846ce77a699a"
      },
      "outputs": [
        {
          "data": {
            "text/plain": [
              "'sudhsudhsudhsudh'"
            ]
          },
          "execution_count": 54,
          "metadata": {},
          "output_type": "execute_result"
        }
      ],
      "source": [
        "\"sudh\"*4"
      ]
    },
    {
      "cell_type": "code",
      "execution_count": null,
      "metadata": {
        "id": "K1kobI5j3sCv",
        "outputId": "4d76dc86-8d8e-4838-bfcf-b504d11a639f"
      },
      "outputs": [
        {
          "data": {
            "text/plain": [
              "'i am working with ineuron'"
            ]
          },
          "execution_count": 55,
          "metadata": {},
          "output_type": "execute_result"
        }
      ],
      "source": [
        "a"
      ]
    },
    {
      "cell_type": "code",
      "execution_count": null,
      "metadata": {
        "id": "CPwyG2E33sCw",
        "outputId": "4ed088e4-cf90-4d1d-9206-f653208484b1"
      },
      "outputs": [
        {
          "data": {
            "text/plain": [
              "2"
            ]
          },
          "execution_count": 56,
          "metadata": {},
          "output_type": "execute_result"
        }
      ],
      "source": [
        "a.find('a')"
      ]
    },
    {
      "cell_type": "code",
      "execution_count": null,
      "metadata": {
        "id": "z-c4aGaK3sCw",
        "outputId": "efcba8d3-6e39-4904-ce8a-4709139c0cc8"
      },
      "outputs": [
        {
          "data": {
            "text/plain": [
              "-1"
            ]
          },
          "execution_count": 58,
          "metadata": {},
          "output_type": "execute_result"
        }
      ],
      "source": [
        "a.find('ia')"
      ]
    },
    {
      "cell_type": "code",
      "execution_count": null,
      "metadata": {
        "id": "RZZDHw5V3sCx",
        "outputId": "7cc07db4-7c5c-41af-d649-87654a666fbc"
      },
      "outputs": [
        {
          "data": {
            "text/plain": [
              "9"
            ]
          },
          "execution_count": 59,
          "metadata": {},
          "output_type": "execute_result"
        }
      ],
      "source": [
        "a.find('in')"
      ]
    },
    {
      "cell_type": "code",
      "execution_count": null,
      "metadata": {
        "id": "jkhRV9QC3sCy",
        "outputId": "7598a94d-7dc9-43ed-c804-08fa3546d9a8"
      },
      "outputs": [
        {
          "data": {
            "text/plain": [
              "4"
            ]
          },
          "execution_count": 60,
          "metadata": {},
          "output_type": "execute_result"
        }
      ],
      "source": [
        "a.count('i')"
      ]
    },
    {
      "cell_type": "code",
      "execution_count": null,
      "metadata": {
        "id": "k0QM6ojx3sCy",
        "outputId": "ceea3ea5-bd7c-4839-f1b3-5d97fece6630"
      },
      "outputs": [
        {
          "data": {
            "text/plain": [
              "0"
            ]
          },
          "execution_count": 61,
          "metadata": {},
          "output_type": "execute_result"
        }
      ],
      "source": [
        "a.count('x')"
      ]
    },
    {
      "cell_type": "code",
      "execution_count": null,
      "metadata": {
        "id": "NQzRaz0X3sCz",
        "outputId": "9ba71b2f-bd09-4dc5-b02f-7ed3ecd78aeb"
      },
      "outputs": [
        {
          "data": {
            "text/plain": [
              "'i am working with ineuron'"
            ]
          },
          "execution_count": 62,
          "metadata": {},
          "output_type": "execute_result"
        }
      ],
      "source": [
        "a"
      ]
    },
    {
      "cell_type": "code",
      "execution_count": null,
      "metadata": {
        "id": "UiOkH5uV3sC0"
      },
      "outputs": [],
      "source": [
        "l = a.split()"
      ]
    },
    {
      "cell_type": "code",
      "execution_count": null,
      "metadata": {
        "id": "dLkezf-t3sC0",
        "outputId": "442f8e98-9910-4060-f0b1-86e3695745b5"
      },
      "outputs": [
        {
          "data": {
            "text/plain": [
              "['i', 'am', 'working', 'with', 'ineuron']"
            ]
          },
          "execution_count": 67,
          "metadata": {},
          "output_type": "execute_result"
        }
      ],
      "source": [
        "l"
      ]
    },
    {
      "cell_type": "code",
      "execution_count": null,
      "metadata": {
        "id": "mTrR_BFG3sC2",
        "outputId": "abcddbb5-e1aa-4e4f-e529-bff5c00aaca6"
      },
      "outputs": [
        {
          "data": {
            "text/plain": [
              "'i'"
            ]
          },
          "execution_count": 68,
          "metadata": {},
          "output_type": "execute_result"
        }
      ],
      "source": [
        "l[0]"
      ]
    },
    {
      "cell_type": "code",
      "execution_count": null,
      "metadata": {
        "id": "KbP5XVY73sC3",
        "outputId": "aa2b051e-4a77-4faf-f005-f4e13a20f07d"
      },
      "outputs": [
        {
          "data": {
            "text/plain": [
              "'am'"
            ]
          },
          "execution_count": 69,
          "metadata": {},
          "output_type": "execute_result"
        }
      ],
      "source": [
        "l[1]"
      ]
    },
    {
      "cell_type": "code",
      "execution_count": null,
      "metadata": {
        "id": "qgareAq43sC4",
        "outputId": "12866cdf-3395-49cb-93ff-eda6ccc1211c"
      },
      "outputs": [
        {
          "data": {
            "text/plain": [
              "'working'"
            ]
          },
          "execution_count": 70,
          "metadata": {},
          "output_type": "execute_result"
        }
      ],
      "source": [
        "l[2]"
      ]
    },
    {
      "cell_type": "code",
      "execution_count": null,
      "metadata": {
        "id": "AIK3dzN73sC5",
        "outputId": "3520f16f-7d0e-421b-f58b-f04397d4bcd3"
      },
      "outputs": [
        {
          "data": {
            "text/plain": [
              "['i', 'am', 'working']"
            ]
          },
          "execution_count": 71,
          "metadata": {},
          "output_type": "execute_result"
        }
      ],
      "source": [
        "l[0:3]"
      ]
    },
    {
      "cell_type": "code",
      "execution_count": null,
      "metadata": {
        "id": "HGY8_cDc3sC6",
        "outputId": "b8095390-2bc8-4e48-f6ad-f757183a221f"
      },
      "outputs": [
        {
          "data": {
            "text/plain": [
              "['i am ', 'rking with ineuron']"
            ]
          },
          "execution_count": 75,
          "metadata": {},
          "output_type": "execute_result"
        }
      ],
      "source": [
        "a.split('wo')"
      ]
    },
    {
      "cell_type": "code",
      "execution_count": null,
      "metadata": {
        "id": "Tjb_lCsE3sC7",
        "outputId": "ac570f24-67ab-4e88-aa50-4e8fb960145d"
      },
      "outputs": [
        {
          "data": {
            "text/plain": [
              "'i am working with ineuron'"
            ]
          },
          "execution_count": 73,
          "metadata": {},
          "output_type": "execute_result"
        }
      ],
      "source": [
        "a"
      ]
    },
    {
      "cell_type": "code",
      "execution_count": null,
      "metadata": {
        "id": "iJoXvzTP3sC9",
        "outputId": "541a566d-b0d4-4ee3-c1e3-c52058601c6e"
      },
      "outputs": [
        {
          "data": {
            "text/plain": [
              "'i am working with ineuron'"
            ]
          },
          "execution_count": 76,
          "metadata": {},
          "output_type": "execute_result"
        }
      ],
      "source": [
        "a"
      ]
    },
    {
      "cell_type": "code",
      "execution_count": null,
      "metadata": {
        "id": "aLdkH9A73sC-",
        "outputId": "f678fce3-519c-4f7a-a88b-e4cf07dc3006"
      },
      "outputs": [
        {
          "data": {
            "text/plain": [
              "'I AM WORKING WITH INEURON'"
            ]
          },
          "execution_count": 77,
          "metadata": {},
          "output_type": "execute_result"
        }
      ],
      "source": [
        "a.upper()"
      ]
    },
    {
      "cell_type": "code",
      "execution_count": null,
      "metadata": {
        "id": "CBLB0Xxe3sC_"
      },
      "outputs": [],
      "source": [
        "s = \"sUdh\""
      ]
    },
    {
      "cell_type": "code",
      "execution_count": null,
      "metadata": {
        "id": "trKByNDg3sDA",
        "outputId": "08c2371c-5483-49fb-dd1b-ec3c790989c6"
      },
      "outputs": [
        {
          "data": {
            "text/plain": [
              "'SuDH'"
            ]
          },
          "execution_count": 79,
          "metadata": {},
          "output_type": "execute_result"
        }
      ],
      "source": [
        "s.swapcase()"
      ]
    },
    {
      "cell_type": "code",
      "execution_count": null,
      "metadata": {
        "id": "-dl6zgdJ3sDB",
        "outputId": "38c14d7a-dce5-49e7-e999-c14d479fb7e3"
      },
      "outputs": [
        {
          "data": {
            "text/plain": [
              "'Sudh'"
            ]
          },
          "execution_count": 80,
          "metadata": {},
          "output_type": "execute_result"
        }
      ],
      "source": [
        "s.title()"
      ]
    },
    {
      "cell_type": "code",
      "execution_count": null,
      "metadata": {
        "id": "_R7IMReE3sDC",
        "outputId": "bd62d0fc-9b5b-4d1b-fc62-a085f02333fc"
      },
      "outputs": [
        {
          "data": {
            "text/plain": [
              "'Sudh'"
            ]
          },
          "execution_count": 81,
          "metadata": {},
          "output_type": "execute_result"
        }
      ],
      "source": [
        "s.capitalize()"
      ]
    },
    {
      "cell_type": "code",
      "execution_count": null,
      "metadata": {
        "id": "uB6xHxSP3sDC"
      },
      "outputs": [],
      "source": [
        "b = \"sudh\"\n",
        "c = \"ineuron\""
      ]
    },
    {
      "cell_type": "code",
      "execution_count": null,
      "metadata": {
        "id": "kDoskEFI3sDD",
        "outputId": "d10ba902-4204-4c03-c379-f053b18773ef"
      },
      "outputs": [
        {
          "data": {
            "text/plain": [
              "'isudhnsudhesudhusudhrsudhosudhn'"
            ]
          },
          "execution_count": 84,
          "metadata": {},
          "output_type": "execute_result"
        }
      ],
      "source": [
        "b.join(c)"
      ]
    },
    {
      "cell_type": "code",
      "execution_count": null,
      "metadata": {
        "id": "CSWWpiHe3sDE",
        "outputId": "815d077c-35e0-4ed7-d010-a6abf15a2150"
      },
      "outputs": [
        {
          "data": {
            "text/plain": [
              "'s u d h'"
            ]
          },
          "execution_count": 85,
          "metadata": {},
          "output_type": "execute_result"
        }
      ],
      "source": [
        "\" \".join(\"sudh\")"
      ]
    },
    {
      "cell_type": "code",
      "execution_count": null,
      "metadata": {
        "id": "K0O_VM-l3sDF",
        "outputId": "e64b5ce8-96ca-4c4e-a1e7-6312952df1ed"
      },
      "outputs": [
        {
          "name": "stdout",
          "output_type": "stream",
          "text": [
            "h\n",
            "d\n",
            "u\n",
            "s\n"
          ]
        }
      ],
      "source": [
        "for i in reversed(\"sudh\"):\n",
        "    print(i)"
      ]
    },
    {
      "cell_type": "code",
      "execution_count": null,
      "metadata": {
        "id": "oBnhiES83sDG",
        "outputId": "14420fcc-74a8-46da-be44-4855984007be"
      },
      "outputs": [
        {
          "data": {
            "text/plain": [
              "'hdus'"
            ]
          },
          "execution_count": 88,
          "metadata": {},
          "output_type": "execute_result"
        }
      ],
      "source": [
        "s= \"sudh\"\n",
        "s[::-1]"
      ]
    },
    {
      "cell_type": "code",
      "execution_count": null,
      "metadata": {
        "id": "dMTPKant3sDI"
      },
      "outputs": [],
      "source": [
        "s = \" sudh \""
      ]
    },
    {
      "cell_type": "code",
      "execution_count": null,
      "metadata": {
        "id": "9CS_QJ-b3sDK",
        "outputId": "a4e22b93-573d-4c54-9a3a-f7bdcb943d49"
      },
      "outputs": [
        {
          "data": {
            "text/plain": [
              "' sudh'"
            ]
          },
          "execution_count": 91,
          "metadata": {},
          "output_type": "execute_result"
        }
      ],
      "source": [
        "s.rstrip()"
      ]
    },
    {
      "cell_type": "code",
      "execution_count": null,
      "metadata": {
        "id": "10JRqe_y3sDL",
        "outputId": "52402f02-bf45-4161-a6ae-c724174334be"
      },
      "outputs": [
        {
          "data": {
            "text/plain": [
              "'sudh '"
            ]
          },
          "execution_count": 92,
          "metadata": {},
          "output_type": "execute_result"
        }
      ],
      "source": [
        "s.lstrip()"
      ]
    },
    {
      "cell_type": "code",
      "execution_count": null,
      "metadata": {
        "id": "gcUZF5dq3sDM",
        "outputId": "1bfe8a10-e161-46db-eb8d-83f3bf623e70"
      },
      "outputs": [
        {
          "data": {
            "text/plain": [
              "'sudh'"
            ]
          },
          "execution_count": 93,
          "metadata": {},
          "output_type": "execute_result"
        }
      ],
      "source": [
        "s.strip()"
      ]
    },
    {
      "cell_type": "code",
      "execution_count": null,
      "metadata": {
        "id": "VYqGAm1O3sDO"
      },
      "outputs": [],
      "source": [
        "s = \"sudh\""
      ]
    },
    {
      "cell_type": "code",
      "execution_count": null,
      "metadata": {
        "id": "HcqRIajX3sDO",
        "outputId": "296a0c78-7a32-407f-d214-5a84ecaab798"
      },
      "outputs": [
        {
          "data": {
            "text/plain": [
              "'sudh'"
            ]
          },
          "execution_count": 96,
          "metadata": {},
          "output_type": "execute_result"
        }
      ],
      "source": [
        "s.replace(\"t\" , \"xyz\")"
      ]
    },
    {
      "cell_type": "code",
      "execution_count": null,
      "metadata": {
        "id": "Pg-b6Tao3sDP",
        "outputId": "73852c49-4bd5-4a90-ab1e-ee9d874d5799"
      },
      "outputs": [
        {
          "data": {
            "text/plain": [
              "'sudh    kumar'"
            ]
          },
          "execution_count": 97,
          "metadata": {},
          "output_type": "execute_result"
        }
      ],
      "source": [
        "\"sudh\\tkumar\".expandtabs()"
      ]
    },
    {
      "cell_type": "code",
      "execution_count": null,
      "metadata": {
        "id": "gyy6ojfP3sDQ"
      },
      "outputs": [],
      "source": [
        "s= \"sudh\""
      ]
    },
    {
      "cell_type": "code",
      "execution_count": null,
      "metadata": {
        "id": "kh6j2TXH3sDQ",
        "outputId": "15abdbaa-3c41-47bd-c154-109ec982efed"
      },
      "outputs": [
        {
          "data": {
            "text/plain": [
              "'##################sudh##################'"
            ]
          },
          "execution_count": 101,
          "metadata": {},
          "output_type": "execute_result"
        }
      ],
      "source": [
        "s.center(40 , '#')"
      ]
    },
    {
      "cell_type": "code",
      "execution_count": null,
      "metadata": {
        "id": "tTTwkr4z3sDR",
        "outputId": "8fa7bfa8-11d6-449d-b6be-1442ca037572"
      },
      "outputs": [
        {
          "data": {
            "text/plain": [
              "'      indians are the best in the world'"
            ]
          },
          "execution_count": 102,
          "metadata": {},
          "output_type": "execute_result"
        }
      ],
      "source": [
        "b=\"      indians are the best in the world\"\n",
        "b.strip(\"are\")\n"
      ]
    },
    {
      "cell_type": "code",
      "execution_count": null,
      "metadata": {
        "id": "KQZXy3jV3sDS",
        "outputId": "c461bec8-dc82-4047-ddc6-bc2aa1dd328a"
      },
      "outputs": [
        {
          "data": {
            "text/plain": [
              "'indians are the best in the world'"
            ]
          },
          "execution_count": 103,
          "metadata": {},
          "output_type": "execute_result"
        }
      ],
      "source": [
        "b=\"      indians are the best in the world\"\n",
        "b.strip()"
      ]
    },
    {
      "cell_type": "code",
      "execution_count": null,
      "metadata": {
        "id": "peH6aqHG3sDT"
      },
      "outputs": [],
      "source": [
        "s = \"SUDH\""
      ]
    },
    {
      "cell_type": "code",
      "execution_count": null,
      "metadata": {
        "id": "I8TUmwzF3sDU",
        "outputId": "010e0e58-cb0d-4d3f-ed0b-25cb63354cee"
      },
      "outputs": [
        {
          "data": {
            "text/plain": [
              "True"
            ]
          },
          "execution_count": 109,
          "metadata": {},
          "output_type": "execute_result"
        }
      ],
      "source": [
        "s.isupper()"
      ]
    },
    {
      "cell_type": "code",
      "execution_count": null,
      "metadata": {
        "id": "SP_H5kxh3sDV",
        "outputId": "5dd4456e-2371-4203-a976-586dd7688acf"
      },
      "outputs": [
        {
          "data": {
            "text/plain": [
              "False"
            ]
          },
          "execution_count": 110,
          "metadata": {},
          "output_type": "execute_result"
        }
      ],
      "source": [
        "s.islower()"
      ]
    },
    {
      "cell_type": "code",
      "execution_count": null,
      "metadata": {
        "id": "KFeXxZka3sDV"
      },
      "outputs": [],
      "source": [
        ""
      ]
    },
    {
      "cell_type": "code",
      "execution_count": null,
      "metadata": {
        "id": "BeLLDUMz3sDW"
      },
      "outputs": [],
      "source": [
        "s= \"     \""
      ]
    },
    {
      "cell_type": "code",
      "execution_count": null,
      "metadata": {
        "id": "9NDk4wVc3sDY",
        "outputId": "5de2c26a-4ced-4c4a-f838-038ce5bd8371"
      },
      "outputs": [
        {
          "data": {
            "text/plain": [
              "True"
            ]
          },
          "execution_count": 115,
          "metadata": {},
          "output_type": "execute_result"
        }
      ],
      "source": [
        "s.isspace()"
      ]
    },
    {
      "cell_type": "code",
      "execution_count": null,
      "metadata": {
        "id": "oXbHwZ-l3sDZ"
      },
      "outputs": [],
      "source": [
        "s = \"43543\""
      ]
    },
    {
      "cell_type": "code",
      "execution_count": null,
      "metadata": {
        "id": "pc6dG3C73sDa",
        "outputId": "a0e5d9c6-9e39-4e78-ed86-d080af2cf59f"
      },
      "outputs": [
        {
          "data": {
            "text/plain": [
              "True"
            ]
          },
          "execution_count": 121,
          "metadata": {},
          "output_type": "execute_result"
        }
      ],
      "source": [
        "s.isdigit()"
      ]
    },
    {
      "cell_type": "code",
      "execution_count": null,
      "metadata": {
        "id": "nQtmrXgz3sDd"
      },
      "outputs": [],
      "source": [
        "s = \"sudh\""
      ]
    },
    {
      "cell_type": "code",
      "execution_count": null,
      "metadata": {
        "id": "CGVm1Dhr3sDe",
        "outputId": "704f3d07-ea56-4838-e20a-994c2e6b4cd4"
      },
      "outputs": [
        {
          "data": {
            "text/plain": [
              "False"
            ]
          },
          "execution_count": 124,
          "metadata": {},
          "output_type": "execute_result"
        }
      ],
      "source": [
        "s.endswith('x')"
      ]
    },
    {
      "cell_type": "code",
      "execution_count": null,
      "metadata": {
        "id": "adZOoSMW3sDg",
        "outputId": "d97fa281-e010-4feb-d808-65ff5e31a2d6"
      },
      "outputs": [
        {
          "data": {
            "text/plain": [
              "True"
            ]
          },
          "execution_count": 126,
          "metadata": {},
          "output_type": "execute_result"
        }
      ],
      "source": [
        "s.startswith('s')"
      ]
    },
    {
      "cell_type": "code",
      "execution_count": null,
      "metadata": {
        "id": "C3uQoVvE3sDh",
        "outputId": "3943c1bf-1a43-4078-c41b-ea486e7fa247"
      },
      "outputs": [
        {
          "data": {
            "text/plain": [
              "False"
            ]
          },
          "execution_count": 127,
          "metadata": {},
          "output_type": "execute_result"
        }
      ],
      "source": [
        "s.istitle()"
      ]
    },
    {
      "cell_type": "code",
      "execution_count": null,
      "metadata": {
        "id": "E0k9WTLr3sDi",
        "outputId": "c3a71ba2-882e-4670-d2cc-4419a4f8ddda"
      },
      "outputs": [
        {
          "data": {
            "text/plain": [
              "b'sudh'"
            ]
          },
          "execution_count": 130,
          "metadata": {},
          "output_type": "execute_result"
        }
      ],
      "source": [
        "s.encode()\n"
      ]
    },
    {
      "cell_type": "code",
      "execution_count": null,
      "metadata": {
        "id": "J8QLnyh83sDj"
      },
      "outputs": [],
      "source": [
        "s = \"sdfsaf dsaf safasdf asdfsadfdas fadf dfa fadfa dsaf adfsa\""
      ]
    },
    {
      "cell_type": "code",
      "execution_count": null,
      "metadata": {
        "id": "zoZlEqHM3sDj"
      },
      "outputs": [],
      "source": [
        "l = [\"sudh\" , \"kumar\" , 3543 , 4+6j , True , 345.56]"
      ]
    },
    {
      "cell_type": "code",
      "execution_count": null,
      "metadata": {
        "id": "0baUGHLn3sDk",
        "outputId": "a994ff49-4c84-4b13-c62a-c5ac70907a1a"
      },
      "outputs": [
        {
          "data": {
            "text/plain": [
              "list"
            ]
          },
          "execution_count": 133,
          "metadata": {},
          "output_type": "execute_result"
        }
      ],
      "source": [
        "type(l)"
      ]
    },
    {
      "cell_type": "code",
      "execution_count": null,
      "metadata": {
        "id": "PJ67PT-J3sDl",
        "outputId": "8c3140e5-322a-46dd-87d4-0d4421bd886a"
      },
      "outputs": [
        {
          "data": {
            "text/plain": [
              "'sudh'"
            ]
          },
          "execution_count": 134,
          "metadata": {},
          "output_type": "execute_result"
        }
      ],
      "source": [
        "l[0]"
      ]
    },
    {
      "cell_type": "code",
      "execution_count": null,
      "metadata": {
        "id": "Ju1fMyWd3sDl",
        "outputId": "80aa945e-e41b-4213-d6e0-5a3ce1e0147e"
      },
      "outputs": [
        {
          "data": {
            "text/plain": [
              "345.56"
            ]
          },
          "execution_count": 135,
          "metadata": {},
          "output_type": "execute_result"
        }
      ],
      "source": [
        "l[-1]"
      ]
    },
    {
      "cell_type": "code",
      "execution_count": null,
      "metadata": {
        "id": "VBFuc_ay3sDp",
        "outputId": "e307aa75-fdde-4645-84d7-d9dfd7b3bbe6"
      },
      "outputs": [
        {
          "data": {
            "text/plain": [
              "'kumar'"
            ]
          },
          "execution_count": 136,
          "metadata": {},
          "output_type": "execute_result"
        }
      ],
      "source": [
        "l[-5]"
      ]
    },
    {
      "cell_type": "code",
      "execution_count": null,
      "metadata": {
        "id": "cSFLSQxO3sDr",
        "outputId": "f061de4f-4e67-47f8-faec-b59b9abf62f6"
      },
      "outputs": [
        {
          "data": {
            "text/plain": [
              "['sudh', 'kumar', 3543, (4+6j), True, 345.56]"
            ]
          },
          "execution_count": 137,
          "metadata": {},
          "output_type": "execute_result"
        }
      ],
      "source": [
        "l"
      ]
    },
    {
      "cell_type": "code",
      "execution_count": null,
      "metadata": {
        "id": "WwpjpEHu3sDs",
        "outputId": "e1be24ac-2d7d-40ec-e082-11a4b0987716"
      },
      "outputs": [
        {
          "data": {
            "text/plain": [
              "['sudh', 'kumar', 3543, (4+6j)]"
            ]
          },
          "execution_count": 138,
          "metadata": {},
          "output_type": "execute_result"
        }
      ],
      "source": [
        "l[0:4]"
      ]
    },
    {
      "cell_type": "code",
      "execution_count": null,
      "metadata": {
        "id": "AS6FiYQV3sDu",
        "outputId": "ffe066fe-d71b-47ed-d4f6-9a7164dc29cc"
      },
      "outputs": [
        {
          "data": {
            "text/plain": [
              "[345.56, True, (4+6j), 3543, 'kumar', 'sudh']"
            ]
          },
          "execution_count": 139,
          "metadata": {},
          "output_type": "execute_result"
        }
      ],
      "source": [
        "l[::-1]"
      ]
    },
    {
      "cell_type": "code",
      "execution_count": null,
      "metadata": {
        "id": "9xtgFKsF3sDv",
        "outputId": "8b4966f1-c1e3-4bd1-b0a7-5fc3f31594fc"
      },
      "outputs": [
        {
          "data": {
            "text/plain": [
              "[345.56]"
            ]
          },
          "execution_count": 140,
          "metadata": {},
          "output_type": "execute_result"
        }
      ],
      "source": [
        "l[-1:6]"
      ]
    },
    {
      "cell_type": "code",
      "execution_count": null,
      "metadata": {
        "id": "9YP1ob0a3sDx",
        "outputId": "27bd7224-75af-4dee-8b72-a9fc010eba62"
      },
      "outputs": [
        {
          "data": {
            "text/plain": [
              "str"
            ]
          },
          "execution_count": 142,
          "metadata": {},
          "output_type": "execute_result"
        }
      ],
      "source": [
        "type(l[0])"
      ]
    },
    {
      "cell_type": "code",
      "execution_count": null,
      "metadata": {
        "id": "yWRbHpYI3sDz",
        "outputId": "05586c84-85c6-48dd-8bb3-76ecc3bce751"
      },
      "outputs": [
        {
          "data": {
            "text/plain": [
              "bool"
            ]
          },
          "execution_count": 146,
          "metadata": {},
          "output_type": "execute_result"
        }
      ],
      "source": [
        "type(l[4])"
      ]
    },
    {
      "cell_type": "code",
      "execution_count": null,
      "metadata": {
        "id": "DUbbsEO13sD3",
        "outputId": "eb5ed616-9001-411c-82ed-28931bc42c6c"
      },
      "outputs": [
        {
          "data": {
            "text/plain": [
              "'u'"
            ]
          },
          "execution_count": 148,
          "metadata": {},
          "output_type": "execute_result"
        }
      ],
      "source": [
        "l[0][1]"
      ]
    },
    {
      "cell_type": "code",
      "execution_count": null,
      "metadata": {
        "id": "-aq4SErf3sD5",
        "outputId": "b1a45632-0bce-40cc-f18b-8f9b4eec070b"
      },
      "outputs": [
        {
          "data": {
            "text/plain": [
              "6.0"
            ]
          },
          "execution_count": 151,
          "metadata": {},
          "output_type": "execute_result"
        }
      ],
      "source": [
        "l[3].imag"
      ]
    },
    {
      "cell_type": "code",
      "execution_count": null,
      "metadata": {
        "id": "lZXHsZEf3sD8"
      },
      "outputs": [],
      "source": [
        "l1 = [\"sudh\" , \"kumar\" , 4356]\n",
        "l2 = [\"xyz\" , \"pqr\" , 546.567]"
      ]
    },
    {
      "cell_type": "code",
      "execution_count": null,
      "metadata": {
        "id": "bHpdRXZT3sD9",
        "outputId": "30540b9e-7814-4d10-f1c2-be70a67e07e4"
      },
      "outputs": [
        {
          "data": {
            "text/plain": [
              "['sudh', 'kumar', 4356, 'xyz', 'pqr', 546.567]"
            ]
          },
          "execution_count": 153,
          "metadata": {},
          "output_type": "execute_result"
        }
      ],
      "source": [
        "l1+l2"
      ]
    },
    {
      "cell_type": "code",
      "execution_count": null,
      "metadata": {
        "id": "E2NQyPVx3sEG",
        "outputId": "ae8bda20-9333-4a0e-972a-8d8f2e5e838e"
      },
      "outputs": [
        {
          "data": {
            "text/plain": [
              "['sudh', 'kumar', 4356, 'sudh']"
            ]
          },
          "execution_count": 154,
          "metadata": {},
          "output_type": "execute_result"
        }
      ],
      "source": [
        "l1 + [\"sudh\"]"
      ]
    },
    {
      "cell_type": "code",
      "execution_count": null,
      "metadata": {
        "id": "TZ8wD0V23sEH",
        "outputId": "9f8716c8-3fa1-4b7a-b560-48b9c8c89a08"
      },
      "outputs": [
        {
          "data": {
            "text/plain": [
              "['sudh', 'kumar', 4356, 'sudh', 'kumar', 4356]"
            ]
          },
          "execution_count": 156,
          "metadata": {},
          "output_type": "execute_result"
        }
      ],
      "source": [
        "l1*2"
      ]
    },
    {
      "cell_type": "code",
      "execution_count": null,
      "metadata": {
        "id": "7sYYZmA53sEH",
        "outputId": "402578e5-5ff1-4beb-cb1e-68bfcfef4d35"
      },
      "outputs": [
        {
          "data": {
            "text/plain": [
              "['sudh', 'kumar', 4356]"
            ]
          },
          "execution_count": 157,
          "metadata": {},
          "output_type": "execute_result"
        }
      ],
      "source": [
        "l1"
      ]
    },
    {
      "cell_type": "code",
      "execution_count": null,
      "metadata": {
        "id": "Jl7k_j2K3sEI"
      },
      "outputs": [],
      "source": [
        "l1[0] =4356455634564"
      ]
    },
    {
      "cell_type": "code",
      "execution_count": null,
      "metadata": {
        "id": "MOLu6qVs3sEI",
        "outputId": "decbb8cd-fc6c-4f7c-9821-8a16bc1bbf4b"
      },
      "outputs": [
        {
          "data": {
            "text/plain": [
              "[4356455634564, 'kumar', 4356]"
            ]
          },
          "execution_count": 165,
          "metadata": {},
          "output_type": "execute_result"
        }
      ],
      "source": [
        "l1"
      ]
    },
    {
      "cell_type": "code",
      "execution_count": null,
      "metadata": {
        "id": "e0OhbYlE3sEK",
        "outputId": "f31296e9-ccc1-400a-e744-4641b043b7ef"
      },
      "outputs": [
        {
          "data": {
            "text/plain": [
              "'kumar'"
            ]
          },
          "execution_count": 166,
          "metadata": {},
          "output_type": "execute_result"
        }
      ],
      "source": [
        "l1[1]"
      ]
    },
    {
      "cell_type": "code",
      "execution_count": null,
      "metadata": {
        "id": "bn8kyq1b3sEL"
      },
      "outputs": [],
      "source": [
        "s = \"sudh\""
      ]
    },
    {
      "cell_type": "code",
      "execution_count": null,
      "metadata": {
        "id": "GcCiJW9g3sEM",
        "outputId": "34df740a-8637-4c08-b1ec-937ab14273d0"
      },
      "outputs": [
        {
          "ename": "TypeError",
          "evalue": "'str' object does not support item assignment",
          "output_type": "error",
          "traceback": [
            "\u001b[1;31m---------------------------------------------------------------------------\u001b[0m",
            "\u001b[1;31mTypeError\u001b[0m                                 Traceback (most recent call last)",
            "\u001b[1;32m<ipython-input-169-00de5ec5ca3c>\u001b[0m in \u001b[0;36m<module>\u001b[1;34m\u001b[0m\n\u001b[1;32m----> 1\u001b[1;33m \u001b[0ms\u001b[0m\u001b[1;33m[\u001b[0m\u001b[1;36m0\u001b[0m\u001b[1;33m]\u001b[0m \u001b[1;33m=\u001b[0m \u001b[1;34m\"k\"\u001b[0m\u001b[1;33m\u001b[0m\u001b[1;33m\u001b[0m\u001b[0m\n\u001b[0m",
            "\u001b[1;31mTypeError\u001b[0m: 'str' object does not support item assignment"
          ]
        }
      ],
      "source": [
        "s[0] = \"k\""
      ]
    },
    {
      "cell_type": "code",
      "execution_count": null,
      "metadata": {
        "id": "Z7QbV-wi3sEO",
        "outputId": "d67d221b-fa0b-456c-d328-429ae52aad52"
      },
      "outputs": [
        {
          "data": {
            "text/plain": [
              "[4356455634564, 'kumar', 4356]"
            ]
          },
          "execution_count": 170,
          "metadata": {},
          "output_type": "execute_result"
        }
      ],
      "source": [
        "l1"
      ]
    },
    {
      "cell_type": "code",
      "execution_count": null,
      "metadata": {
        "id": "fr4h0Ms13sEP"
      },
      "outputs": [],
      "source": [
        "l[1] = \"sudh\""
      ]
    },
    {
      "cell_type": "code",
      "execution_count": null,
      "metadata": {
        "id": "TX2wOv8V3sEP",
        "outputId": "c1829f9e-0fd7-485c-b5b6-b2184e21fb1b"
      },
      "outputs": [
        {
          "data": {
            "text/plain": [
              "'vudh'"
            ]
          },
          "execution_count": 172,
          "metadata": {},
          "output_type": "execute_result"
        }
      ],
      "source": [
        "s.replace('s','v')"
      ]
    },
    {
      "cell_type": "code",
      "execution_count": null,
      "metadata": {
        "id": "QFPyTf303sEQ",
        "outputId": "a34ee2a9-0fe5-43b1-9588-b8f35f7f3fab"
      },
      "outputs": [
        {
          "data": {
            "text/plain": [
              "'sudh'"
            ]
          },
          "execution_count": 173,
          "metadata": {},
          "output_type": "execute_result"
        }
      ],
      "source": [
        "s"
      ]
    },
    {
      "cell_type": "code",
      "execution_count": null,
      "metadata": {
        "id": "pPQ7_mHx3sEQ",
        "outputId": "b4c38714-98dc-4b95-85a1-97fa2ca56ede"
      },
      "outputs": [
        {
          "ename": "TypeError",
          "evalue": "'str' object does not support item assignment",
          "output_type": "error",
          "traceback": [
            "\u001b[1;31m---------------------------------------------------------------------------\u001b[0m",
            "\u001b[1;31mTypeError\u001b[0m                                 Traceback (most recent call last)",
            "\u001b[1;32m<ipython-input-174-3868546884ef>\u001b[0m in \u001b[0;36m<module>\u001b[1;34m\u001b[0m\n\u001b[1;32m----> 1\u001b[1;33m \u001b[0ms\u001b[0m\u001b[1;33m[\u001b[0m\u001b[1;36m0\u001b[0m\u001b[1;33m]\u001b[0m \u001b[1;33m=\u001b[0m \u001b[1;34m'v'\u001b[0m\u001b[1;33m\u001b[0m\u001b[1;33m\u001b[0m\u001b[0m\n\u001b[0m",
            "\u001b[1;31mTypeError\u001b[0m: 'str' object does not support item assignment"
          ]
        }
      ],
      "source": [
        "s[0] = 'v'"
      ]
    },
    {
      "cell_type": "code",
      "execution_count": null,
      "metadata": {
        "id": "NXk0WuXF3sER",
        "outputId": "79e5fe39-f301-4ae9-9c9f-597b543dc564"
      },
      "outputs": [
        {
          "data": {
            "text/plain": [
              "[4356455634564, 'kumar', 4356]"
            ]
          },
          "execution_count": 175,
          "metadata": {},
          "output_type": "execute_result"
        }
      ],
      "source": [
        "l1"
      ]
    },
    {
      "cell_type": "code",
      "execution_count": null,
      "metadata": {
        "id": "gDEOpZdH3sER",
        "outputId": "369428a8-5bb4-4c34-eb91-7603b11ef4db"
      },
      "outputs": [
        {
          "data": {
            "text/plain": [
              "3"
            ]
          },
          "execution_count": 176,
          "metadata": {},
          "output_type": "execute_result"
        }
      ],
      "source": [
        "len(l1)"
      ]
    },
    {
      "cell_type": "code",
      "execution_count": null,
      "metadata": {
        "id": "zYZyZC4A3sES",
        "outputId": "572f38d7-033b-4d59-893e-f1dff8ad39ec"
      },
      "outputs": [
        {
          "data": {
            "text/plain": [
              "False"
            ]
          },
          "execution_count": 178,
          "metadata": {},
          "output_type": "execute_result"
        }
      ],
      "source": [
        " 345 in l1"
      ]
    },
    {
      "cell_type": "code",
      "execution_count": null,
      "metadata": {
        "id": "GGx47X2e3sES",
        "outputId": "3c9597b4-a597-4b7a-c705-0082f08ca0d8"
      },
      "outputs": [
        {
          "data": {
            "text/plain": [
              "[(5+8j)]"
            ]
          },
          "execution_count": 180,
          "metadata": {},
          "output_type": "execute_result"
        }
      ],
      "source": [
        "l = ['okay','kumar', 78,45,789,5.5,True, 5+8j]\n",
        "l[-1:6:-1]\n"
      ]
    },
    {
      "cell_type": "code",
      "execution_count": null,
      "metadata": {
        "id": "tOT_YI_v3sET",
        "outputId": "1bfd6e3f-5979-4fb7-f181-50e0920cd3dd"
      },
      "outputs": [
        {
          "data": {
            "text/plain": [
              "['xyz', 'pqr', 546.567]"
            ]
          },
          "execution_count": 181,
          "metadata": {},
          "output_type": "execute_result"
        }
      ],
      "source": [
        "l2 "
      ]
    },
    {
      "cell_type": "code",
      "execution_count": null,
      "metadata": {
        "id": "KSnOjxG43sET"
      },
      "outputs": [],
      "source": [
        "l2.append(\"sudh\")"
      ]
    },
    {
      "cell_type": "code",
      "execution_count": null,
      "metadata": {
        "id": "VzCaZSai3sET",
        "outputId": "4cdd0678-db98-4cfa-84e1-fd2caed03c97"
      },
      "outputs": [
        {
          "data": {
            "text/plain": [
              "['xyz', 'pqr', 546.567, 'sudh']"
            ]
          },
          "execution_count": 183,
          "metadata": {},
          "output_type": "execute_result"
        }
      ],
      "source": [
        "l2"
      ]
    },
    {
      "cell_type": "code",
      "execution_count": null,
      "metadata": {
        "id": "JGTbYiWX3sEU",
        "outputId": "87cfa162-ed89-4d5d-af25-b6beec41f71b"
      },
      "outputs": [
        {
          "data": {
            "text/plain": [
              "'sudh'"
            ]
          },
          "execution_count": 184,
          "metadata": {},
          "output_type": "execute_result"
        }
      ],
      "source": [
        "l2.pop()"
      ]
    },
    {
      "cell_type": "code",
      "execution_count": null,
      "metadata": {
        "id": "hgUmaXOV3sEU",
        "outputId": "ddee5d3a-0166-4172-9876-1dd381ff17f1"
      },
      "outputs": [
        {
          "ename": "IndexError",
          "evalue": "pop index out of range",
          "output_type": "error",
          "traceback": [
            "\u001b[1;31m---------------------------------------------------------------------------\u001b[0m",
            "\u001b[1;31mIndexError\u001b[0m                                Traceback (most recent call last)",
            "\u001b[1;32m<ipython-input-185-e4fec1d81b7d>\u001b[0m in \u001b[0;36m<module>\u001b[1;34m\u001b[0m\n\u001b[1;32m----> 1\u001b[1;33m \u001b[0ml2\u001b[0m\u001b[1;33m.\u001b[0m\u001b[0mpop\u001b[0m\u001b[1;33m(\u001b[0m\u001b[1;36m3\u001b[0m\u001b[1;33m)\u001b[0m\u001b[1;33m\u001b[0m\u001b[1;33m\u001b[0m\u001b[0m\n\u001b[0m",
            "\u001b[1;31mIndexError\u001b[0m: pop index out of range"
          ]
        }
      ],
      "source": [
        "l2.pop(3)"
      ]
    },
    {
      "cell_type": "code",
      "execution_count": null,
      "metadata": {
        "id": "taxgOYlQ3sEV",
        "outputId": "96bcd38a-19c2-41f3-fead-a411aabc17b2"
      },
      "outputs": [
        {
          "data": {
            "text/plain": [
              "546.567"
            ]
          },
          "execution_count": 186,
          "metadata": {},
          "output_type": "execute_result"
        }
      ],
      "source": [
        "l2.pop(2)"
      ]
    },
    {
      "cell_type": "code",
      "execution_count": null,
      "metadata": {
        "id": "kG_h8MuR3sEV",
        "outputId": "555f6921-cbea-4f34-b160-637c2f01cdc4"
      },
      "outputs": [
        {
          "data": {
            "text/plain": [
              "['xyz', 'pqr']"
            ]
          },
          "execution_count": 187,
          "metadata": {},
          "output_type": "execute_result"
        }
      ],
      "source": [
        "l2"
      ]
    },
    {
      "cell_type": "code",
      "execution_count": null,
      "metadata": {
        "id": "X-cCOzRC3sEW",
        "outputId": "cd9f040d-0696-4a01-9256-8df6750b2363"
      },
      "outputs": [
        {
          "data": {
            "text/plain": [
              "['xyz', 'pqr']"
            ]
          },
          "execution_count": 188,
          "metadata": {},
          "output_type": "execute_result"
        }
      ],
      "source": [
        "l2"
      ]
    },
    {
      "cell_type": "code",
      "execution_count": null,
      "metadata": {
        "id": "KtW875Uh3sEW"
      },
      "outputs": [],
      "source": [
        "l2.append(345435)"
      ]
    },
    {
      "cell_type": "code",
      "execution_count": null,
      "metadata": {
        "id": "HVGybQeV3sEY",
        "outputId": "c42f5488-eff6-4d4a-a2c7-26d9133ef886"
      },
      "outputs": [
        {
          "data": {
            "text/plain": [
              "['xyz', 'pqr', 345435]"
            ]
          },
          "execution_count": 190,
          "metadata": {},
          "output_type": "execute_result"
        }
      ],
      "source": [
        "l2"
      ]
    },
    {
      "cell_type": "code",
      "execution_count": null,
      "metadata": {
        "id": "Z95YJkFh3sEY"
      },
      "outputs": [],
      "source": [
        "l2.insert(1,\"dsgadfgda\")"
      ]
    },
    {
      "cell_type": "code",
      "execution_count": null,
      "metadata": {
        "id": "Qldy9FrM3sEa",
        "outputId": "64afb71b-d522-4adc-dd4d-3b383798f0e7"
      },
      "outputs": [
        {
          "data": {
            "text/plain": [
              "['xyz', 'dsgadfgda', 'pqr', 345435]"
            ]
          },
          "execution_count": 192,
          "metadata": {},
          "output_type": "execute_result"
        }
      ],
      "source": [
        "l2"
      ]
    },
    {
      "cell_type": "code",
      "execution_count": null,
      "metadata": {
        "id": "TB2_qWPq3sEb"
      },
      "outputs": [],
      "source": [
        "l2.insert(3,[34,45,56,576,67])"
      ]
    },
    {
      "cell_type": "code",
      "execution_count": null,
      "metadata": {
        "id": "tRa11dWn3sEc",
        "outputId": "e0277736-4bf3-46bc-e952-40ee6874fc19"
      },
      "outputs": [
        {
          "data": {
            "text/plain": [
              "['xyz', 'dsgadfgda', 'pqr', [34, 45, 56, 576, 67], 345435]"
            ]
          },
          "execution_count": 194,
          "metadata": {},
          "output_type": "execute_result"
        }
      ],
      "source": [
        "l2"
      ]
    },
    {
      "cell_type": "code",
      "execution_count": null,
      "metadata": {
        "id": "nmOqkbzZ3sEe",
        "outputId": "0fc5d877-9b33-4e81-bb21-c3333e41aa59"
      },
      "outputs": [
        {
          "data": {
            "text/plain": [
              "['xyz', 'dsgadfgda', 'pqr', [34, 45, 56, 576, 67], 345435]"
            ]
          },
          "execution_count": 195,
          "metadata": {},
          "output_type": "execute_result"
        }
      ],
      "source": [
        "l2"
      ]
    },
    {
      "cell_type": "code",
      "execution_count": null,
      "metadata": {
        "id": "asT4TwoU3sEf",
        "outputId": "73aa20b0-3015-44aa-e80f-0a4de2bc010a"
      },
      "outputs": [
        {
          "data": {
            "text/plain": [
              "[345435, [34, 45, 56, 576, 67], 'pqr', 'dsgadfgda', 'xyz']"
            ]
          },
          "execution_count": 196,
          "metadata": {},
          "output_type": "execute_result"
        }
      ],
      "source": [
        "l2[::-1]"
      ]
    },
    {
      "cell_type": "code",
      "execution_count": null,
      "metadata": {
        "id": "IH7SWZAd3sEg"
      },
      "outputs": [],
      "source": [
        "l2.reverse()"
      ]
    },
    {
      "cell_type": "code",
      "execution_count": null,
      "metadata": {
        "id": "3dczUQUC3sEg",
        "outputId": "10f44f93-49a6-492b-fd15-ce8d6f649942"
      },
      "outputs": [
        {
          "data": {
            "text/plain": [
              "[345435, [34, 45, 56, 576, 67], 'pqr', 'dsgadfgda', 'xyz']"
            ]
          },
          "execution_count": 198,
          "metadata": {},
          "output_type": "execute_result"
        }
      ],
      "source": [
        "l2"
      ]
    },
    {
      "cell_type": "code",
      "execution_count": null,
      "metadata": {
        "id": "WyXO98tD3sEi",
        "outputId": "3d17c339-754a-4bcc-eee4-da9f6bb89fc9"
      },
      "outputs": [
        {
          "data": {
            "text/plain": [
              "[4356455634564, 'kumar', 4356]"
            ]
          },
          "execution_count": 199,
          "metadata": {},
          "output_type": "execute_result"
        }
      ],
      "source": [
        "l1"
      ]
    },
    {
      "cell_type": "code",
      "execution_count": null,
      "metadata": {
        "id": "pglqaT1N3sEi",
        "outputId": "7e15399f-304f-4b80-f67d-24b94dc67a03"
      },
      "outputs": [
        {
          "data": {
            "text/plain": [
              "[345435, [34, 45, 56, 576, 67], 'pqr', 'dsgadfgda', 'xyz']"
            ]
          },
          "execution_count": 200,
          "metadata": {},
          "output_type": "execute_result"
        }
      ],
      "source": [
        "l2"
      ]
    },
    {
      "cell_type": "code",
      "execution_count": null,
      "metadata": {
        "id": "zK90ralj3sEj",
        "outputId": "4c443347-909e-4709-9f50-563ae4f2b0df"
      },
      "outputs": [
        {
          "data": {
            "text/plain": [
              "56"
            ]
          },
          "execution_count": 202,
          "metadata": {},
          "output_type": "execute_result"
        }
      ],
      "source": [
        "l2[1][2]"
      ]
    },
    {
      "cell_type": "code",
      "execution_count": null,
      "metadata": {
        "id": "QhuWG9Uv3sEj",
        "outputId": "4095f955-e0e7-4735-fef2-a8aa7ec0f6ef"
      },
      "outputs": [
        {
          "data": {
            "text/plain": [
              "56"
            ]
          },
          "execution_count": 204,
          "metadata": {},
          "output_type": "execute_result"
        }
      ],
      "source": [
        "l2[1][2]"
      ]
    },
    {
      "cell_type": "code",
      "execution_count": null,
      "metadata": {
        "id": "-6yDi0fG3sEk",
        "outputId": "2c8310ef-b580-4dca-adc9-d8295400c272"
      },
      "outputs": [
        {
          "data": {
            "text/plain": [
              "[345435, [34, 45, 56, 576, 67], 'pqr', 'dsgadfgda', 'xyz']"
            ]
          },
          "execution_count": 205,
          "metadata": {},
          "output_type": "execute_result"
        }
      ],
      "source": [
        "l2"
      ]
    },
    {
      "cell_type": "code",
      "execution_count": null,
      "metadata": {
        "id": "yJHzkllu3sEk",
        "outputId": "7b5ee2b6-1037-47c3-808e-8c07669535f0"
      },
      "outputs": [
        {
          "data": {
            "text/plain": [
              "0"
            ]
          },
          "execution_count": 207,
          "metadata": {},
          "output_type": "execute_result"
        }
      ],
      "source": [
        "l2.count('xfddsfsfyz')"
      ]
    },
    {
      "cell_type": "code",
      "execution_count": null,
      "metadata": {
        "id": "oOISuKo03sEk"
      },
      "outputs": [],
      "source": [
        "l2.append(\"dssafasf\")"
      ]
    },
    {
      "cell_type": "code",
      "execution_count": null,
      "metadata": {
        "id": "J4v2Z5ws3sEl",
        "outputId": "12b3c355-4d65-4b93-a909-ff4c908c2b65"
      },
      "outputs": [
        {
          "data": {
            "text/plain": [
              "[345435, [34, 45, 56, 576, 67], 'pqr', 'dsgadfgda', 'xyz', 'dssafasf']"
            ]
          },
          "execution_count": 209,
          "metadata": {},
          "output_type": "execute_result"
        }
      ],
      "source": [
        "l2"
      ]
    },
    {
      "cell_type": "code",
      "execution_count": null,
      "metadata": {
        "id": "6LahDUJR3sEl"
      },
      "outputs": [],
      "source": [
        "l2.append([3,4,54,6])"
      ]
    },
    {
      "cell_type": "code",
      "execution_count": null,
      "metadata": {
        "id": "pkkVlN4F3sEl",
        "outputId": "67c9b831-159d-4da1-a83a-516a73861b6d"
      },
      "outputs": [
        {
          "data": {
            "text/plain": [
              "[345435,\n",
              " [34, 45, 56, 576, 67],\n",
              " 'pqr',\n",
              " 'dsgadfgda',\n",
              " 'xyz',\n",
              " 'dssafasf',\n",
              " [3, 4, 54, 6]]"
            ]
          },
          "execution_count": 211,
          "metadata": {},
          "output_type": "execute_result"
        }
      ],
      "source": [
        "l2"
      ]
    },
    {
      "cell_type": "code",
      "execution_count": null,
      "metadata": {
        "id": "FwPDHm7G3sEm",
        "outputId": "abe8a168-2f32-4eb2-edeb-ed3c6c42042e"
      },
      "outputs": [
        {
          "data": {
            "text/plain": [
              "[4356455634564, 'kumar', 4356]"
            ]
          },
          "execution_count": 212,
          "metadata": {},
          "output_type": "execute_result"
        }
      ],
      "source": [
        "l1"
      ]
    },
    {
      "cell_type": "code",
      "execution_count": null,
      "metadata": {
        "id": "2j76u__m3sEm"
      },
      "outputs": [],
      "source": [
        "l1.extend([2,54,656, \"sdfs\"])"
      ]
    },
    {
      "cell_type": "code",
      "execution_count": null,
      "metadata": {
        "id": "peFbDxwZ3sEm",
        "outputId": "f655db5e-f79f-4986-d0e2-0dc6c42fe549"
      },
      "outputs": [
        {
          "data": {
            "text/plain": [
              "[4356455634564, 'kumar', 4356, 2, 54, 656, 'sdfs']"
            ]
          },
          "execution_count": 214,
          "metadata": {},
          "output_type": "execute_result"
        }
      ],
      "source": [
        "l1\n"
      ]
    },
    {
      "cell_type": "code",
      "execution_count": null,
      "metadata": {
        "id": "AEzeU7JA3sEn",
        "outputId": "7e68aacc-8220-42af-89c2-4f9d40f0002a"
      },
      "outputs": [
        {
          "name": "stdout",
          "output_type": "stream",
          "text": [
            "None\n"
          ]
        }
      ],
      "source": [
        "print(l2.reverse())\n"
      ]
    },
    {
      "cell_type": "code",
      "execution_count": null,
      "metadata": {
        "id": "EqAA4qL43sEn",
        "outputId": "b5b048f2-4d72-437e-aa5e-b975337897e3"
      },
      "outputs": [
        {
          "data": {
            "text/plain": [
              "[43, 4343, 'sudh']"
            ]
          },
          "execution_count": 216,
          "metadata": {},
          "output_type": "execute_result"
        }
      ],
      "source": [
        "l1=[43,4343]\n",
        "l1+list('sudh')\n",
        "l1+['sudh']\n"
      ]
    },
    {
      "cell_type": "code",
      "execution_count": null,
      "metadata": {
        "id": "QZd40CuM3sEo",
        "outputId": "9cbb1f53-b8ea-4f68-ef02-2d3dbe7e2058"
      },
      "outputs": [
        {
          "data": {
            "text/plain": [
              "['s', 'u', 'd', 'h']"
            ]
          },
          "execution_count": 217,
          "metadata": {},
          "output_type": "execute_result"
        }
      ],
      "source": [
        "list(\"sudh\")"
      ]
    },
    {
      "cell_type": "code",
      "execution_count": null,
      "metadata": {
        "id": "SmvyxPnh3sEo",
        "outputId": "77216264-53bd-4040-bb69-5aa90fc01b52"
      },
      "outputs": [
        {
          "data": {
            "text/plain": [
              "False"
            ]
          },
          "execution_count": 220,
          "metadata": {},
          "output_type": "execute_result"
        }
      ],
      "source": [
        "s.endswith(\"\")\n"
      ]
    },
    {
      "cell_type": "code",
      "execution_count": null,
      "metadata": {
        "id": "6ywG4K-83sEo",
        "outputId": "b3071f31-19fe-4536-d0fc-7346c13c75a6"
      },
      "outputs": [
        {
          "data": {
            "text/plain": [
              "'sudh'"
            ]
          },
          "execution_count": 221,
          "metadata": {},
          "output_type": "execute_result"
        }
      ],
      "source": [
        "s"
      ]
    },
    {
      "cell_type": "code",
      "execution_count": null,
      "metadata": {
        "id": "eyI9cJm33sEp"
      },
      "outputs": [],
      "source": [
        "l = [\"sudh \" , 345,4354353,4353]"
      ]
    },
    {
      "cell_type": "code",
      "execution_count": null,
      "metadata": {
        "id": "xASOgRUh3sEp"
      },
      "outputs": [],
      "source": [
        "l.append(\"kumar\")"
      ]
    },
    {
      "cell_type": "code",
      "execution_count": null,
      "metadata": {
        "id": "SljEjXsT3sEq",
        "outputId": "254ec369-cac6-4237-d9db-91a84516741c"
      },
      "outputs": [
        {
          "data": {
            "text/plain": [
              "['sudh ', 345, 4354353, 4353, 'kumar']"
            ]
          },
          "execution_count": 224,
          "metadata": {},
          "output_type": "execute_result"
        }
      ],
      "source": [
        "l"
      ]
    },
    {
      "cell_type": "code",
      "execution_count": null,
      "metadata": {
        "id": "hAhXh_nD3sEr"
      },
      "outputs": [],
      "source": [
        "l.append([2,3,4,5,6])"
      ]
    },
    {
      "cell_type": "code",
      "execution_count": null,
      "metadata": {
        "id": "Q7be-Ott3sEs",
        "outputId": "96db6f36-0a73-4d87-f08c-1abc67affe2b"
      },
      "outputs": [
        {
          "data": {
            "text/plain": [
              "['sudh ', 345, 4354353, 4353, 'kumar', [2, 3, 4, 5, 6]]"
            ]
          },
          "execution_count": 226,
          "metadata": {},
          "output_type": "execute_result"
        }
      ],
      "source": [
        "l"
      ]
    },
    {
      "cell_type": "code",
      "execution_count": null,
      "metadata": {
        "id": "eXQrJrDH3sEt"
      },
      "outputs": [],
      "source": [
        "l.extend([1,2,3,4])"
      ]
    },
    {
      "cell_type": "code",
      "execution_count": null,
      "metadata": {
        "id": "7Lms0GoK3sEu",
        "outputId": "48db865f-fa00-4056-c897-9863e364fdc5"
      },
      "outputs": [
        {
          "data": {
            "text/plain": [
              "['sudh ',\n",
              " 345,\n",
              " 4354353,\n",
              " 4353,\n",
              " 'kumar',\n",
              " [2, 3, 4, 5, 6],\n",
              " 's',\n",
              " 'u',\n",
              " 's',\n",
              " 'd',\n",
              " 'f',\n",
              " 's',\n",
              " 'f',\n",
              " 1,\n",
              " 2,\n",
              " 3,\n",
              " 4]"
            ]
          },
          "execution_count": 231,
          "metadata": {},
          "output_type": "execute_result"
        }
      ],
      "source": [
        "l"
      ]
    },
    {
      "cell_type": "code",
      "execution_count": null,
      "metadata": {
        "id": "lDoVHhSg3sEv",
        "outputId": "a2ea5af5-80e2-4502-e114-427f343a0654"
      },
      "outputs": [
        {
          "data": {
            "text/plain": [
              "[2, 3, 4, 4, 5, 76, 4, 5, 6, 77]"
            ]
          },
          "execution_count": 232,
          "metadata": {},
          "output_type": "execute_result"
        }
      ],
      "source": [
        "[2,3,4,4,5,76]  + [4,5,6,77]"
      ]
    },
    {
      "cell_type": "code",
      "execution_count": null,
      "metadata": {
        "id": "_Q7lLo2b3sEw",
        "outputId": "587af4c0-9744-42bb-c553-1255b30b504b"
      },
      "outputs": [
        {
          "data": {
            "text/plain": [
              "['fdsaffsafsafd afsa saf asdfa sdsaf afsad ']"
            ]
          },
          "execution_count": 236,
          "metadata": {},
          "output_type": "execute_result"
        }
      ],
      "source": [
        "\"fdsaffsafsafd afsa saf asdfa sdsaf afsad \".split('&')"
      ]
    },
    {
      "cell_type": "code",
      "execution_count": null,
      "metadata": {
        "id": "46RcKnZ13sEw",
        "outputId": "0dad6e6b-f178-4460-f721-5e5b48929908"
      },
      "outputs": [
        {
          "data": {
            "text/plain": [
              "(3+4j)"
            ]
          },
          "execution_count": 237,
          "metadata": {},
          "output_type": "execute_result"
        }
      ],
      "source": [
        "3 +4j"
      ]
    },
    {
      "cell_type": "code",
      "execution_count": null,
      "metadata": {
        "id": "ilIYXxe_3sEw",
        "outputId": "4aff9a69-cb77-4f37-b64f-93317bf53979"
      },
      "outputs": [
        {
          "data": {
            "text/plain": [
              "[345.6]"
            ]
          },
          "execution_count": 239,
          "metadata": {},
          "output_type": "execute_result"
        }
      ],
      "source": [
        "L=['sudh', 'kumar', 3543, 4+6j, True, 345.6]\n",
        "L[-1:6]\n"
      ]
    },
    {
      "cell_type": "code",
      "execution_count": null,
      "metadata": {
        "id": "cLRcblQZ3sEx"
      },
      "outputs": [],
      "source": [
        ""
      ]
    },
    {
      "cell_type": "code",
      "execution_count": null,
      "metadata": {
        "id": "Ky7WHToS3sEx",
        "outputId": "e665d295-5a1e-4b52-8114-b3debc594695"
      },
      "outputs": [
        {
          "data": {
            "text/plain": [
              "'dfdasfasfda     safasf          fadsfsafdsaf    '"
            ]
          },
          "execution_count": 240,
          "metadata": {},
          "output_type": "execute_result"
        }
      ],
      "source": [
        "\"dfdasfasfda\\tsafasf\\t\\tfadsfsafdsaf\\t\".expandtabs()"
      ]
    },
    {
      "cell_type": "code",
      "execution_count": null,
      "metadata": {
        "id": "k2DxYbDp3sEx",
        "outputId": "f129025f-30f0-4c9d-d926-beed01eb46c0"
      },
      "outputs": [
        {
          "ename": "SyntaxError",
          "evalue": "invalid syntax (<ipython-input-241-fef3cd6af93b>, line 3)",
          "output_type": "error",
          "traceback": [
            "\u001b[1;36m  File \u001b[1;32m\"<ipython-input-241-fef3cd6af93b>\"\u001b[1;36m, line \u001b[1;32m3\u001b[0m\n\u001b[1;33m    a[0:-10:-1] gives blank but a[0:-100:-1] gives ‘I’\u001b[0m\n\u001b[1;37m                ^\u001b[0m\n\u001b[1;31mSyntaxError\u001b[0m\u001b[1;31m:\u001b[0m invalid syntax\n"
          ]
        }
      ],
      "source": [
        "a = \"I am working in ineuron\"\n",
        "\n",
        "a[0:-10:-1] gives blank but a[0:-100:-1] gives ‘I’\n",
        "Can you please explain this?\n"
      ]
    },
    {
      "cell_type": "code",
      "execution_count": null,
      "metadata": {
        "id": "2yJDfHfC3sE4"
      },
      "outputs": [],
      "source": [
        "a = \"I am working in ineuron\""
      ]
    },
    {
      "cell_type": "code",
      "execution_count": null,
      "metadata": {
        "id": "qKH7sduq3sE5",
        "outputId": "5c0fe30b-eb1e-4a8d-af89-bfd872ef39bb"
      },
      "outputs": [
        {
          "data": {
            "text/plain": [
              "''"
            ]
          },
          "execution_count": 243,
          "metadata": {},
          "output_type": "execute_result"
        }
      ],
      "source": [
        "a[0:-10:-1]"
      ]
    },
    {
      "cell_type": "code",
      "execution_count": null,
      "metadata": {
        "id": "3oBTrS1T3sE5",
        "outputId": "40f275fe-e20f-44d4-b241-0f5933609cc2"
      },
      "outputs": [
        {
          "data": {
            "text/plain": [
              "'I'"
            ]
          },
          "execution_count": 245,
          "metadata": {},
          "output_type": "execute_result"
        }
      ],
      "source": [
        "a[0:-100:-1]"
      ]
    },
    {
      "cell_type": "code",
      "execution_count": null,
      "metadata": {
        "id": "M0raf-Gr3sE6",
        "outputId": "8eedeaa7-76d2-4348-8f64-29f93ca96d8b"
      },
      "outputs": [
        {
          "data": {
            "text/plain": [
              "'I'"
            ]
          },
          "execution_count": 246,
          "metadata": {},
          "output_type": "execute_result"
        }
      ],
      "source": [
        "a[0::-1]"
      ]
    },
    {
      "cell_type": "code",
      "execution_count": null,
      "metadata": {
        "id": "Rv-_8C_I3sE8"
      },
      "outputs": [],
      "source": [
        "l2=['prweu', 5345]\n",
        "l3=l2\n",
        "l3[0]='newatl3'\n",
        "print(l3)\n",
        "print(l2)\n",
        "o/p ['newatl3', 5345]\n",
        "o/p ['newatl3', 5345] \n",
        "why it has changed l2?\n",
        "\n",
        "\n",
        "s1='sudh'\n",
        "s2=s1\n",
        "s2='newdata'\n",
        "print(s1)                 in this case why it has not changed s1?\n",
        "print(s2)\n",
        "'sudh'\n",
        "'newdata'\n"
      ]
    },
    {
      "cell_type": "code",
      "execution_count": null,
      "metadata": {
        "id": "HYkFmDPa3sE9"
      },
      "outputs": [],
      "source": [
        "l2=['prweu', 5345]\n",
        "l3=l2"
      ]
    },
    {
      "cell_type": "code",
      "execution_count": null,
      "metadata": {
        "id": "mpUawdx-3sE-",
        "outputId": "dbf2dc0b-f230-4eb8-f52d-454b7a849f84"
      },
      "outputs": [
        {
          "data": {
            "text/plain": [
              "['sudh', 5345]"
            ]
          },
          "execution_count": 259,
          "metadata": {},
          "output_type": "execute_result"
        }
      ],
      "source": [
        "l2"
      ]
    },
    {
      "cell_type": "code",
      "execution_count": null,
      "metadata": {
        "id": "NsGT4thx3sFA",
        "outputId": "6576d0be-45df-484d-cb66-71627635ad75"
      },
      "outputs": [
        {
          "data": {
            "text/plain": [
              "['dsfdsafsa', 5, 6, 7, 7]"
            ]
          },
          "execution_count": 260,
          "metadata": {},
          "output_type": "execute_result"
        }
      ],
      "source": [
        "l3"
      ]
    },
    {
      "cell_type": "code",
      "execution_count": null,
      "metadata": {
        "id": "xDZ8ALTI3sFA"
      },
      "outputs": [],
      "source": [
        "l3 = [4,5,6,7,7]"
      ]
    },
    {
      "cell_type": "code",
      "execution_count": null,
      "metadata": {
        "id": "feXmkDU43sFB"
      },
      "outputs": [],
      "source": [
        "l3[0] = \"dsfdsafsa\""
      ]
    },
    {
      "cell_type": "code",
      "execution_count": null,
      "metadata": {
        "id": "sgW69UOs3sFB"
      },
      "outputs": [],
      "source": [
        "l3[0] = \"sudh\""
      ]
    },
    {
      "cell_type": "code",
      "execution_count": null,
      "metadata": {
        "id": "kQkjf1xN3sFC",
        "outputId": "56195ef7-e2f1-4141-b5a8-2e12ad6c8b6b"
      },
      "outputs": [
        {
          "data": {
            "text/plain": [
              "['sudh', 5345]"
            ]
          },
          "execution_count": 250,
          "metadata": {},
          "output_type": "execute_result"
        }
      ],
      "source": [
        "l3"
      ]
    },
    {
      "cell_type": "code",
      "execution_count": null,
      "metadata": {
        "id": "Gus-IweI3sFC",
        "outputId": "140a2acc-41b6-4763-d038-424fa753b325"
      },
      "outputs": [
        {
          "data": {
            "text/plain": [
              "['sudh', 5345]"
            ]
          },
          "execution_count": 251,
          "metadata": {},
          "output_type": "execute_result"
        }
      ],
      "source": [
        "l2"
      ]
    },
    {
      "cell_type": "code",
      "execution_count": null,
      "metadata": {
        "id": "2Gd3T9m13sFC"
      },
      "outputs": [],
      "source": [
        "s1='sudh'\n",
        "s2=s1\n",
        "s2='newdata'"
      ]
    },
    {
      "cell_type": "code",
      "execution_count": null,
      "metadata": {
        "id": "R0pWV6Zf3sFD",
        "outputId": "e1240a98-c829-40e2-f9f4-cfd4cf68d48c"
      },
      "outputs": [
        {
          "data": {
            "text/plain": [
              "'newdata'"
            ]
          },
          "execution_count": 254,
          "metadata": {},
          "output_type": "execute_result"
        }
      ],
      "source": [
        "s2"
      ]
    },
    {
      "cell_type": "code",
      "execution_count": null,
      "metadata": {
        "id": "1xP8O-9J3sFD",
        "outputId": "2005776f-3d00-45f4-c1ce-f1c91c23e2f4"
      },
      "outputs": [
        {
          "data": {
            "text/plain": [
              "'sudh'"
            ]
          },
          "execution_count": 255,
          "metadata": {},
          "output_type": "execute_result"
        }
      ],
      "source": [
        "s1"
      ]
    },
    {
      "cell_type": "code",
      "execution_count": null,
      "metadata": {
        "id": "4CIw1o-J3sFD"
      },
      "outputs": [],
      "source": [
        "l1= [569, \"Sudh\", \"ravi\"]\n"
      ]
    },
    {
      "cell_type": "code",
      "execution_count": null,
      "metadata": {
        "id": "1o_VbbOY3sFE"
      },
      "outputs": [],
      "source": [
        ""
      ]
    },
    {
      "cell_type": "code",
      "execution_count": null,
      "metadata": {
        "id": "H-Lui_du3sFE"
      },
      "outputs": [],
      "source": [
        "g = l1[2].replace('v',\"s\")"
      ]
    },
    {
      "cell_type": "code",
      "execution_count": null,
      "metadata": {
        "id": "tKSh4j9k3sFE",
        "outputId": "9d78b55b-c171-4783-cd70-6e688c4ed122"
      },
      "outputs": [
        {
          "data": {
            "text/plain": [
              "'ravi'"
            ]
          },
          "execution_count": 267,
          "metadata": {},
          "output_type": "execute_result"
        }
      ],
      "source": [
        "l1.pop()"
      ]
    },
    {
      "cell_type": "code",
      "execution_count": null,
      "metadata": {
        "id": "zg5xeNnm3sFE"
      },
      "outputs": [],
      "source": [
        "l1.append(g)"
      ]
    },
    {
      "cell_type": "code",
      "execution_count": null,
      "metadata": {
        "id": "uDS7w0SZ3sFF",
        "outputId": "98e8f6c5-695d-4c23-8666-79f6cdb8ac13"
      },
      "outputs": [
        {
          "data": {
            "text/plain": [
              "'ravi'"
            ]
          },
          "execution_count": 276,
          "metadata": {},
          "output_type": "execute_result"
        }
      ],
      "source": [
        "l1.pop(2)"
      ]
    },
    {
      "cell_type": "code",
      "execution_count": null,
      "metadata": {
        "id": "GLXo7lYh3sFF",
        "outputId": "5d8dd04c-7e0c-4b13-e886-3562a222e258"
      },
      "outputs": [
        {
          "data": {
            "text/plain": [
              "[569, 'Sudh', 'rasi']"
            ]
          },
          "execution_count": 277,
          "metadata": {},
          "output_type": "execute_result"
        }
      ],
      "source": [
        "l1"
      ]
    },
    {
      "cell_type": "code",
      "execution_count": null,
      "metadata": {
        "id": "9Ad-c1cj3sFF"
      },
      "outputs": [],
      "source": [
        "l=['ved', 12,True]\n",
        "l[0]=str(l[0].replace('e', 'E') )\n"
      ]
    },
    {
      "cell_type": "code",
      "execution_count": null,
      "metadata": {
        "id": "BYns5_OP3sFF",
        "outputId": "fd85ab2b-715c-45b0-e67a-31ff0ed68ee2"
      },
      "outputs": [
        {
          "data": {
            "text/plain": [
              "['vEd', 12, True]"
            ]
          },
          "execution_count": 280,
          "metadata": {},
          "output_type": "execute_result"
        }
      ],
      "source": [
        "l"
      ]
    },
    {
      "cell_type": "code",
      "execution_count": null,
      "metadata": {
        "id": "kdmdjcsQ3sFG"
      },
      "outputs": [],
      "source": [
        "s = 'USA fdf'"
      ]
    },
    {
      "cell_type": "code",
      "execution_count": null,
      "metadata": {
        "id": "nmgi7x913sFG",
        "outputId": "566e43d7-9b59-41ce-d448-009306d1ae8b"
      },
      "outputs": [
        {
          "data": {
            "text/plain": [
              "False"
            ]
          },
          "execution_count": 286,
          "metadata": {},
          "output_type": "execute_result"
        }
      ],
      "source": [
        "s.isupper()"
      ]
    },
    {
      "cell_type": "code",
      "execution_count": null,
      "metadata": {
        "id": "guqvi9A63sFG"
      },
      "outputs": [],
      "source": [
        "l = [\"sunny\" , \"gadhiya\" , \"9999\" , 9+9j , True , 99.9]\n",
        "\n"
      ]
    },
    {
      "cell_type": "code",
      "execution_count": null,
      "metadata": {
        "id": "qZxJRxdD3sFH",
        "outputId": "dad1941e-0f07-49c6-bf44-8399de1399fb"
      },
      "outputs": [
        {
          "data": {
            "text/plain": [
              "9.0"
            ]
          },
          "execution_count": 291,
          "metadata": {},
          "output_type": "execute_result"
        }
      ],
      "source": [
        "l[3].imag"
      ]
    },
    {
      "cell_type": "code",
      "execution_count": null,
      "metadata": {
        "id": "bPtAk_oP3sFH",
        "outputId": "68d43317-fa36-4921-d560-e3043daed477"
      },
      "outputs": [
        {
          "data": {
            "text/plain": [
              "9.0"
            ]
          },
          "execution_count": 292,
          "metadata": {},
          "output_type": "execute_result"
        }
      ],
      "source": [
        "l[3].real"
      ]
    },
    {
      "cell_type": "code",
      "execution_count": null,
      "metadata": {
        "id": "5ehAYv2W3sFH",
        "outputId": "d7619794-5693-48fb-8716-7803afd0e333"
      },
      "outputs": [
        {
          "data": {
            "text/plain": [
              "'pqr'"
            ]
          },
          "execution_count": 295,
          "metadata": {},
          "output_type": "execute_result"
        }
      ],
      "source": [
        "s = ['abc','pqr','xyz']\n",
        "s.pop(1)"
      ]
    },
    {
      "cell_type": "code",
      "execution_count": null,
      "metadata": {
        "id": "CtaKCpkj3sFI",
        "outputId": "511ba628-c681-44f9-c3ab-fc05df0223fb"
      },
      "outputs": [
        {
          "data": {
            "text/plain": [
              "'s u d h '"
            ]
          },
          "execution_count": 297,
          "metadata": {},
          "output_type": "execute_result"
        }
      ],
      "source": [
        "\" \".join(\"sudh\") + \" \""
      ]
    },
    {
      "cell_type": "code",
      "execution_count": null,
      "metadata": {
        "id": "MDVXbkEG3sFI",
        "outputId": "89332f7d-3e67-46a9-dd7b-3acb8bf27d88"
      },
      "outputs": [
        {
          "data": {
            "text/plain": [
              "['abc', 'xyz']"
            ]
          },
          "execution_count": 298,
          "metadata": {},
          "output_type": "execute_result"
        }
      ],
      "source": [
        "s "
      ]
    },
    {
      "cell_type": "code",
      "execution_count": null,
      "metadata": {
        "id": "fT_3Q-Ow3sFJ"
      },
      "outputs": [],
      "source": [
        "s = \"sudh\""
      ]
    },
    {
      "cell_type": "code",
      "execution_count": null,
      "metadata": {
        "id": "jNSDaxi_3sFJ",
        "outputId": "2597defb-d837-4d56-f30e-6c086fc10e0f"
      },
      "outputs": [
        {
          "data": {
            "text/plain": [
              "2"
            ]
          },
          "execution_count": 300,
          "metadata": {},
          "output_type": "execute_result"
        }
      ],
      "source": [
        "s.index('d')"
      ]
    },
    {
      "cell_type": "code",
      "execution_count": null,
      "metadata": {
        "id": "z0ImTvrS3sFJ"
      },
      "outputs": [],
      "source": [
        "l = [3,4,5,6]"
      ]
    },
    {
      "cell_type": "code",
      "execution_count": null,
      "metadata": {
        "id": "QeJTrAJ43sFJ",
        "outputId": "64e30f91-5006-40b4-fab9-be75113c4715"
      },
      "outputs": [
        {
          "data": {
            "text/plain": [
              "2"
            ]
          },
          "execution_count": 303,
          "metadata": {},
          "output_type": "execute_result"
        }
      ],
      "source": [
        "l.index(5)"
      ]
    },
    {
      "cell_type": "code",
      "execution_count": null,
      "metadata": {
        "id": "qMaKeTlz3sFK"
      },
      "outputs": [],
      "source": [
        "s = \"sudh\"\n"
      ]
    },
    {
      "cell_type": "code",
      "execution_count": null,
      "metadata": {
        "id": "TasYJZAj3sFK",
        "outputId": "daee60f1-a2bd-4fc5-f973-d618a2c67575"
      },
      "outputs": [
        {
          "ename": "TypeError",
          "evalue": "'list' object is not callable",
          "output_type": "error",
          "traceback": [
            "\u001b[1;31m---------------------------------------------------------------------------\u001b[0m",
            "\u001b[1;31mTypeError\u001b[0m                                 Traceback (most recent call last)",
            "\u001b[1;32m<ipython-input-306-1715e50e8d9b>\u001b[0m in \u001b[0;36m<module>\u001b[1;34m\u001b[0m\n\u001b[0;32m      1\u001b[0m \u001b[0ml1\u001b[0m\u001b[1;33m=\u001b[0m \u001b[1;33m[\u001b[0m\u001b[1;36m43\u001b[0m\u001b[1;33m,\u001b[0m\u001b[1;36m4343\u001b[0m\u001b[1;33m]\u001b[0m\u001b[1;33m\u001b[0m\u001b[1;33m\u001b[0m\u001b[0m\n\u001b[1;32m----> 2\u001b[1;33m \u001b[0ml1\u001b[0m\u001b[1;33m+\u001b[0m\u001b[0mlist\u001b[0m\u001b[1;33m(\u001b[0m\u001b[1;34m'sudh'\u001b[0m\u001b[1;33m)\u001b[0m\u001b[1;33m\u001b[0m\u001b[1;33m\u001b[0m\u001b[0m\n\u001b[0m\u001b[0;32m      3\u001b[0m \u001b[0ml1\u001b[0m\u001b[1;33m+\u001b[0m\u001b[1;33m[\u001b[0m\u001b[1;34m'sudh'\u001b[0m\u001b[1;33m]\u001b[0m\u001b[1;33m\u001b[0m\u001b[1;33m\u001b[0m\u001b[0m\n",
            "\u001b[1;31mTypeError\u001b[0m: 'list' object is not callable"
          ]
        }
      ],
      "source": [
        "list = [43,4343]\n",
        "l1+list('sudh')\n",
        "l1+['sudh']\n"
      ]
    },
    {
      "cell_type": "code",
      "execution_count": null,
      "metadata": {
        "id": "GLVW6bb03sFK"
      },
      "outputs": [],
      "source": [
        "l1= [43,4343]"
      ]
    },
    {
      "cell_type": "code",
      "execution_count": null,
      "metadata": {
        "id": "jr44Ij2S3sFL",
        "outputId": "a9715b0f-4e40-4302-812f-c468707f1a0d"
      },
      "outputs": [
        {
          "data": {
            "text/plain": [
              "[43, 4343, 's', 'u', 'd', 'h']"
            ]
          },
          "execution_count": 4,
          "metadata": {},
          "output_type": "execute_result"
        }
      ],
      "source": [
        "l1+list('sudh')"
      ]
    },
    {
      "cell_type": "code",
      "execution_count": null,
      "metadata": {
        "id": "M7I5Gylu3sFM",
        "outputId": "dfbeddaf-94b8-4d51-e28b-48e6b8314bd2"
      },
      "outputs": [
        {
          "data": {
            "text/plain": [
              "['s', 'u', 'd', 'h']"
            ]
          },
          "execution_count": 5,
          "metadata": {},
          "output_type": "execute_result"
        }
      ],
      "source": [
        "list(\"sudh\")"
      ]
    },
    {
      "cell_type": "code",
      "execution_count": null,
      "metadata": {
        "id": "R_0Tayc73sFM",
        "outputId": "1e2f9c12-d108-46f4-e545-6849f0a435f6"
      },
      "outputs": [
        {
          "data": {
            "text/plain": [
              "[43, 4343, 'sudh']"
            ]
          },
          "execution_count": 6,
          "metadata": {},
          "output_type": "execute_result"
        }
      ],
      "source": [
        "l1+['sudh']"
      ]
    },
    {
      "cell_type": "code",
      "execution_count": null,
      "metadata": {
        "id": "mY0d9MQs3sFN",
        "outputId": "9af863a2-31b7-4a34-8739-80a4accbfedf"
      },
      "outputs": [
        {
          "data": {
            "text/plain": [
              "['s', 'u', 'd', 'h']"
            ]
          },
          "execution_count": 1,
          "metadata": {},
          "output_type": "execute_result"
        }
      ],
      "source": [
        "list(\"sudh\")\n"
      ]
    },
    {
      "cell_type": "code",
      "execution_count": null,
      "metadata": {
        "id": "Pf1G06BK3sFO"
      },
      "outputs": [],
      "source": [
        "l = [4,5,6,6]"
      ]
    },
    {
      "cell_type": "code",
      "execution_count": null,
      "metadata": {
        "id": "HJnvvdhf3sFO"
      },
      "outputs": [],
      "source": [
        "l.insert(-1,45)"
      ]
    },
    {
      "cell_type": "code",
      "execution_count": null,
      "metadata": {
        "id": "_GUvXjKP3sFP",
        "outputId": "f37bdc3f-5889-4148-8d9a-68ca5824a609"
      },
      "outputs": [
        {
          "data": {
            "text/plain": [
              "[4, 5, 6, 'sudh', 45, 45, 6]"
            ]
          },
          "execution_count": 8,
          "metadata": {},
          "output_type": "execute_result"
        }
      ],
      "source": [
        "l"
      ]
    },
    {
      "cell_type": "code",
      "execution_count": null,
      "metadata": {
        "id": "vVDdoEo_3sFQ"
      },
      "outputs": [],
      "source": [
        "l.insert(3,\"sudh\")"
      ]
    },
    {
      "cell_type": "code",
      "execution_count": null,
      "metadata": {
        "id": "kKp6dp5P3sFQ",
        "outputId": "e0c830fa-a765-4fe6-cc6e-1cde7140003f"
      },
      "outputs": [
        {
          "data": {
            "text/plain": [
              "[4, 5, 6, 'sudh', 45, 6]"
            ]
          },
          "execution_count": 6,
          "metadata": {},
          "output_type": "execute_result"
        }
      ],
      "source": [
        "l"
      ]
    },
    {
      "cell_type": "code",
      "execution_count": null,
      "metadata": {
        "id": "JL6SvIq73sFQ",
        "outputId": "18e73719-8916-47f2-855e-9ab8cc2a8205"
      },
      "outputs": [
        {
          "data": {
            "text/plain": [
              "str"
            ]
          },
          "execution_count": 10,
          "metadata": {},
          "output_type": "execute_result"
        }
      ],
      "source": [
        "type(l[3])"
      ]
    },
    {
      "cell_type": "code",
      "execution_count": null,
      "metadata": {
        "id": "ux_pd_Ue3sFR"
      },
      "outputs": [],
      "source": [
        "s = \"sudh\""
      ]
    },
    {
      "cell_type": "code",
      "execution_count": null,
      "metadata": {
        "id": "jEnG6YDW3sFR"
      },
      "outputs": [],
      "source": [
        "l2 =[1,2]\n",
        "l2[2] = 3 Why can't assign l2[2] = 3\n"
      ]
    },
    {
      "cell_type": "code",
      "execution_count": null,
      "metadata": {
        "id": "WneLo2Yd3sFR",
        "outputId": "e91f335d-12e2-4f0d-f05a-adda5c396320"
      },
      "outputs": [
        {
          "data": {
            "text/plain": [
              "'eni htiw gnikro'"
            ]
          },
          "execution_count": 11,
          "metadata": {},
          "output_type": "execute_result"
        }
      ],
      "source": [
        "a = 'i am working with ineuron'\n",
        "a[-5:5:-1]"
      ]
    },
    {
      "cell_type": "code",
      "execution_count": null,
      "metadata": {
        "id": "u055IBZb3sFR"
      },
      "outputs": [],
      "source": [
        "\n"
      ]
    },
    {
      "cell_type": "code",
      "execution_count": null,
      "metadata": {
        "id": "YWuAXt793sFS"
      },
      "outputs": [],
      "source": [
        ""
      ]
    }
  ],
  "metadata": {
    "kernelspec": {
      "display_name": "Python 3",
      "language": "python",
      "name": "python3"
    },
    "language_info": {
      "codemirror_mode": {
        "name": "ipython",
        "version": 3
      },
      "file_extension": ".py",
      "mimetype": "text/x-python",
      "name": "python",
      "nbconvert_exporter": "python",
      "pygments_lexer": "ipython3",
      "version": "3.8.5"
    },
    "colab": {
      "name": "Python basic (3).ipynb",
      "provenance": []
    }
  },
  "nbformat": 4,
  "nbformat_minor": 0
}